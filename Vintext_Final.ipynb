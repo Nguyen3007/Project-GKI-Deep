{
  "nbformat": 4,
  "nbformat_minor": 0,
  "metadata": {
    "colab": {
      "provenance": [],
      "gpuType": "T4"
    },
    "kernelspec": {
      "name": "python3",
      "display_name": "Python 3"
    },
    "language_info": {
      "name": "python"
    },
    "accelerator": "GPU"
  },
  "cells": [
    {
      "cell_type": "code",
      "execution_count": 9,
      "metadata": {
        "id": "o7Uu927CdR6_"
      },
      "outputs": [],
      "source": [
        "import os\n",
        "import torch\n",
        "import torch.nn as nn\n",
        "import torch.optim as optim\n",
        "import torch.nn.functional as F\n",
        "from torch.utils.data import Dataset, DataLoader\n",
        "from torchvision import transforms, models\n",
        "from PIL import Image\n",
        "import matplotlib.pyplot as plt\n",
        "import numpy as np\n",
        "import random\n",
        "import math\n",
        "import time\n",
        "import cv2\n",
        "from tqdm.notebook import tqdm\n",
        "from collections import Counter\n",
        "import unicodedata\n",
        "import ast\n",
        "import json"
      ]
    },
    {
      "cell_type": "code",
      "source": [
        "import zipfile\n",
        "import os\n",
        "\n",
        "zip_path = \"/content/vietnamese.zip\"\n",
        "extract_path = \"/content/vietnamese\"\n",
        "\n",
        "with zipfile.ZipFile(zip_path, 'r') as zip_ref:\n",
        "    zip_ref.extractall(extract_path)\n",
        "\n",
        "print(\"Đã giải nén VinText.\")"
      ],
      "metadata": {
        "colab": {
          "base_uri": "https://localhost:8080/"
        },
        "id": "I_klNIFmdbfr",
        "outputId": "d07b4908-9844-46de-8974-18048e344389"
      },
      "execution_count": 1,
      "outputs": [
        {
          "output_type": "stream",
          "name": "stdout",
          "text": [
            "Đã giải nén VinText.\n"
          ]
        }
      ]
    },
    {
      "cell_type": "code",
      "source": [
        "import os\n",
        "\n",
        "label_dir = '/content/vietnamese/vietnamese/labels'\n",
        "img_dir = '/content/vietnamese/vietnamese/train_images'\n",
        "\n",
        "fullimg_infos = []\n",
        "for label_file in sorted(os.listdir(label_dir)):\n",
        "    # Kiểm tra chỉ lấy file label dạng gt_*.txt\n",
        "    if not label_file.startswith('gt_') or not label_file.endswith('.txt'):\n",
        "        continue\n",
        "    # Lấy số thứ tự ảnh\n",
        "    num_str = label_file.replace('gt_', '').replace('.txt', '')\n",
        "    img_file = f'im{int(num_str):04d}.jpg'   # im0001.jpg\n",
        "    img_path = os.path.join(img_dir, img_file)\n",
        "    if not os.path.exists(img_path):\n",
        "        continue\n",
        "    label_path = os.path.join(label_dir, label_file)\n",
        "    with open(label_path, encoding='utf-8') as f:\n",
        "        lines = f.readlines()\n",
        "    transcripts = []\n",
        "    for line in lines:\n",
        "        items = line.strip().split(',', 8)\n",
        "        if len(items) < 9: continue\n",
        "        transcript = items[8]\n",
        "        if transcript == \"###\": continue\n",
        "        transcripts.append(transcript)\n",
        "    joint_text = \" \".join(transcripts)\n",
        "    fullimg_infos.append((img_file, joint_text))\n",
        "\n",
        "# Lưu lại label cho train\n",
        "with open('/content/vietnamese/vietnamese/train_fullimg_label.txt', 'w', encoding='utf-8') as f:\n",
        "    for img_file, joint_text in fullimg_infos:\n",
        "        f.write(f\"{img_file}\\t{joint_text}\\n\")\n",
        "\n",
        "print(f\"Đã tạo ground_truth cho {len(fullimg_infos)} ảnh train.\")"
      ],
      "metadata": {
        "colab": {
          "base_uri": "https://localhost:8080/"
        },
        "id": "HfTkPjAZGkYh",
        "outputId": "406c2c1f-9060-410b-c557-2458c2d05f60"
      },
      "execution_count": 4,
      "outputs": [
        {
          "output_type": "stream",
          "name": "stdout",
          "text": [
            "Đã tạo ground_truth cho 1200 ảnh train.\n"
          ]
        }
      ]
    },
    {
      "cell_type": "code",
      "source": [
        "# Tạo vocab từ file ground_truth đã tạo ở bước trước\n",
        "label_txt = '/content/vietnamese/vietnamese/train_fullimg_label.txt'\n",
        "vocab = set()\n",
        "with open(label_txt, encoding='utf-8') as f:\n",
        "    for line in f:\n",
        "        parts = line.strip().split('\\t')\n",
        "        if len(parts) == 2:\n",
        "            _, text = parts\n",
        "            vocab.update(list(text))\n",
        "\n",
        "special_tokens = ['<pad>', '<sos>', '<eos>', '<unk>']\n",
        "vocab = special_tokens + sorted(vocab)\n",
        "stoi = {ch: i for i, ch in enumerate(vocab)}\n",
        "itos = {i: ch for ch, i in stoi.items()}\n",
        "\n",
        "def encode(text):\n",
        "    return [stoi['<sos>']] + [stoi.get(ch, stoi['<unk>']) for ch in text] + [stoi['<eos>']]\n",
        "\n",
        "def decode(tokens):\n",
        "    return ''.join([itos[t] for t in tokens if t not in [stoi['<sos>'], stoi['<eos>'], stoi['<pad>']]])\n",
        "\n",
        "print(f\"Số lượng ký tự trong vocab (kể cả token đặc biệt): {len(vocab)}\")\n",
        "print(\"Vài ký tự đầu:\", vocab[:10])"
      ],
      "metadata": {
        "colab": {
          "base_uri": "https://localhost:8080/"
        },
        "id": "RyeGhwwlH0mG",
        "outputId": "5474b7b6-e328-4747-835c-e5d46af68960"
      },
      "execution_count": 5,
      "outputs": [
        {
          "output_type": "stream",
          "name": "stdout",
          "text": [
            "Số lượng ký tự trong vocab (kể cả token đặc biệt): 230\n",
            "Vài ký tự đầu: ['<pad>', '<sos>', '<eos>', '<unk>', ' ', '!', '\"', '#', '$', '%']\n"
          ]
        }
      ]
    },
    {
      "cell_type": "code",
      "source": [
        "from PIL import Image\n",
        "import torch\n",
        "from torch.utils.data import Dataset, DataLoader\n",
        "from torchvision import transforms\n",
        "\n",
        "img_dir = '/content/vietnamese/vietnamese/train_images'\n",
        "label_txt = '/content/vietnamese/vietnamese/train_fullimg_label.txt'\n",
        "\n",
        "transform = transforms.Compose([\n",
        "    transforms.Lambda(lambda img: img.convert('RGB')),\n",
        "    transforms.Resize((64, 256)),  # có thể tùy chỉnh theo ảnh thực tế\n",
        "    transforms.ToTensor(),\n",
        "])\n",
        "\n",
        "class OCRFullImgDataset(Dataset):\n",
        "    def __init__(self, img_dir, label_txt, transform):\n",
        "        self.img_dir = img_dir\n",
        "        self.transform = transform\n",
        "        self.samples = []\n",
        "        with open(label_txt, encoding='utf-8') as f:\n",
        "            for line in f:\n",
        "                parts = line.strip().split('\\t')\n",
        "                if len(parts) == 2:\n",
        "                    fname, label = parts\n",
        "                    self.samples.append((fname, label))\n",
        "    def __len__(self):\n",
        "        return len(self.samples)\n",
        "\n",
        "    def __getitem__(self, idx):\n",
        "        fname, label = self.samples[idx]\n",
        "        img = Image.open(os.path.join(self.img_dir, fname))\n",
        "        img = self.transform(img)\n",
        "        label_ids = encode(label)\n",
        "        return img, torch.tensor(label_ids, dtype=torch.long)\n",
        "\n",
        "def collate_fn(batch):\n",
        "    imgs, labels = zip(*batch)\n",
        "    imgs = torch.stack(imgs)\n",
        "    maxlen = max(len(l) for l in labels)\n",
        "    labels_pad = [torch.cat([l, torch.full((maxlen - len(l),), stoi['<pad>'], dtype=torch.long)]) for l in labels]\n",
        "    labels_pad = torch.stack(labels_pad)\n",
        "    return imgs, labels_pad\n",
        "\n",
        "train_dataset = OCRFullImgDataset(img_dir, label_txt, transform)\n",
        "train_loader = DataLoader(train_dataset, batch_size=8, shuffle=True, collate_fn=collate_fn)\n",
        "\n",
        "print(\"Số batch:\", len(train_loader))\n",
        "imgs, labels = next(iter(train_loader))\n",
        "print(\"Shape ảnh batch:\", imgs.shape)\n",
        "print(\"Shape label batch:\", labels.shape)"
      ],
      "metadata": {
        "colab": {
          "base_uri": "https://localhost:8080/"
        },
        "id": "sCHEq11WIQOv",
        "outputId": "6b593241-cdef-4bf2-cb85-7f224103c5f1"
      },
      "execution_count": 6,
      "outputs": [
        {
          "output_type": "stream",
          "name": "stdout",
          "text": [
            "Số batch: 150\n",
            "Shape ảnh batch: torch.Size([8, 3, 64, 256])\n",
            "Shape label batch: torch.Size([8, 177])\n"
          ]
        }
      ]
    },
    {
      "cell_type": "code",
      "source": [
        "import torch\n",
        "import torch.nn as nn\n",
        "from torchvision.models import resnet18\n",
        "import math\n",
        "\n",
        "class CNNEncoder(nn.Module):\n",
        "    def __init__(self, out_dim):\n",
        "        super().__init__()\n",
        "        base = resnet18(weights=None)\n",
        "        modules = list(base.children())[:-2]\n",
        "        self.cnn = nn.Sequential(*modules)\n",
        "        self.conv_proj = nn.Conv2d(512, out_dim, 1)\n",
        "\n",
        "    def forward(self, x):\n",
        "        x = self.cnn(x)\n",
        "        x = self.conv_proj(x)\n",
        "        B, C, H, W = x.shape\n",
        "        # print(f\"Feature shape after CNN: {x.shape}, seq_len={H*W}\")  # Xem seq_len thực tế\n",
        "        x = x.flatten(2).permute(2, 0, 1)\n",
        "        return x\n",
        "\n",
        "class PositionalEncoding(nn.Module):\n",
        "    def __init__(self, d_model, max_len=2000):  # Đặt max_len lớn\n",
        "        super().__init__()\n",
        "        pe = torch.zeros(max_len, d_model)\n",
        "        position = torch.arange(0, max_len).unsqueeze(1)\n",
        "        div_term = torch.exp(torch.arange(0, d_model, 2) * (-math.log(10000.0) / d_model))\n",
        "        pe[:, 0::2] = torch.sin(position * div_term)\n",
        "        pe[:, 1::2] = torch.cos(position * div_term)\n",
        "        self.register_buffer('pe', pe.unsqueeze(1))\n",
        "\n",
        "    def forward(self, x):\n",
        "        x = x + self.pe[:x.size(0)].to(x.device)\n",
        "        return x\n",
        "\n",
        "class Seq2SeqOCR(nn.Module):\n",
        "    def __init__(self, vocab_size, d_model=128, num_layers=2, dropout=0.1, max_len=2000):\n",
        "        super().__init__()\n",
        "        self.encoder = CNNEncoder(d_model)\n",
        "        self.decoder_layer = nn.TransformerDecoderLayer(d_model, nhead=4, dropout=dropout)\n",
        "        self.decoder = nn.TransformerDecoder(self.decoder_layer, num_layers)\n",
        "        self.embedding = nn.Embedding(vocab_size, d_model)\n",
        "        self.pos_encoder = PositionalEncoding(d_model, max_len)\n",
        "        self.fc_out = nn.Linear(d_model, vocab_size)\n",
        "\n",
        "    def forward(self, imgs, tgt_input, tgt_mask=None):\n",
        "        memory = self.encoder(imgs)\n",
        "        tgt_emb = self.embedding(tgt_input).permute(1,0,2)\n",
        "        tgt_emb = self.pos_encoder(tgt_emb)\n",
        "        out = self.decoder(tgt_emb, memory, tgt_mask=tgt_mask)\n",
        "        out = self.fc_out(out)\n",
        "        return out\n",
        "\n",
        "print('Đã sửa model với max_len=2000! Sẵn sàng huấn luyện.')"
      ],
      "metadata": {
        "colab": {
          "base_uri": "https://localhost:8080/"
        },
        "id": "nwRuUL87IYHu",
        "outputId": "2889b56d-c926-4ca7-d03a-ce120c2a6b60"
      },
      "execution_count": 19,
      "outputs": [
        {
          "output_type": "stream",
          "name": "stdout",
          "text": [
            "Đã sửa model với max_len=2000! Sẵn sàng huấn luyện.\n"
          ]
        }
      ]
    },
    {
      "cell_type": "code",
      "source": [
        "import torch\n",
        "import torch.optim as optim\n",
        "import torch.nn.functional as F\n",
        "from tqdm import tqdm\n",
        "\n",
        "device = torch.device('cuda' if torch.cuda.is_available() else 'cpu')\n",
        "model = Seq2SeqOCR(len(vocab)).to(device)\n",
        "optimizer = optim.Adam(model.parameters(), lr=1e-3)\n",
        "\n",
        "EPOCHS = 40\n",
        "print_freq = 20  # Số batch sẽ in log chi tiết 1 lần\n",
        "best_loss = float('inf')\n",
        "save_path = 'best_ocr_model.pth'\n",
        "\n",
        "for epoch in range(EPOCHS):\n",
        "    model.train()\n",
        "    total_loss = 0\n",
        "    total_tokens = 0\n",
        "    total_correct = 0\n",
        "    print(f\"\\n========== EPOCH {epoch+1} ==========\")\n",
        "    for batch_idx, (imgs, labels) in enumerate(tqdm(train_loader)):\n",
        "        imgs, labels = imgs.to(device), labels.to(device)\n",
        "        tgt_input = labels[:, :-1]\n",
        "        tgt_output = labels[:, 1:]\n",
        "        tgt_mask = nn.Transformer.generate_square_subsequent_mask(tgt_input.size(1)).to(device)\n",
        "        out = model(imgs, tgt_input, tgt_mask=tgt_mask)\n",
        "        out = out.permute(1, 0, 2)  # [batch, seq, vocab]\n",
        "        loss = F.cross_entropy(out.reshape(-1, len(vocab)), tgt_output.reshape(-1), ignore_index=stoi['<pad>'])\n",
        "        optimizer.zero_grad()\n",
        "        loss.backward()\n",
        "        optimizer.step()\n",
        "        total_loss += loss.item()\n",
        "\n",
        "        # Thống kê char accuracy trên batch\n",
        "        preds = out.argmax(dim=-1)  # [batch, seq]\n",
        "        mask = tgt_output != stoi['<pad>']\n",
        "        correct = ((preds == tgt_output) & mask).sum().item()\n",
        "        n_tokens = mask.sum().item()\n",
        "        total_tokens += n_tokens\n",
        "        total_correct += correct\n",
        "\n",
        "        if (batch_idx + 1) % print_freq == 0 or (batch_idx == 0):\n",
        "            batch_acc = correct / (n_tokens + 1e-9)\n",
        "            print(f\"[Epoch {epoch+1} | Batch {batch_idx+1}/{len(train_loader)}] \"\n",
        "                  f\"Loss: {loss.item():.4f} | CharAcc: {batch_acc:.3f} | \"\n",
        "                  f\"Batch size: {imgs.size(0)} | Seq len: {tgt_input.size(1)}\")\n",
        "\n",
        "            # Hiển thị ví dụ 1 sample đầu tiên trong batch (decode chuỗi)\n",
        "            sample_pred = decode(preds[0].tolist())\n",
        "            sample_gt = decode(tgt_output[0].tolist())\n",
        "            print(f\"  [Sample GT]:   {sample_gt}\")\n",
        "            print(f\"  [Sample Pred]: {sample_pred}\")\n",
        "\n",
        "    avg_loss = total_loss / len(train_loader)\n",
        "    avg_acc = total_correct / (total_tokens + 1e-9)\n",
        "    print(f\"\\n>>> Epoch {epoch+1} completed. Avg Loss: {avg_loss:.4f} | Avg CharAcc: {avg_acc:.4f}\")\n",
        "\n",
        "    # Lưu model tốt nhất\n",
        "    if avg_loss < best_loss:\n",
        "        best_loss = avg_loss\n",
        "        torch.save({\n",
        "            'epoch': epoch + 1,\n",
        "            'model_state_dict': model.state_dict(),\n",
        "            'optimizer_state_dict': optimizer.state_dict(),\n",
        "            'loss': avg_loss,\n",
        "            'vocab': vocab,\n",
        "            'stoi': stoi,\n",
        "            'itos': itos\n",
        "        }, save_path)\n",
        "        print(f\"==> Saved new best model at epoch {epoch+1} (loss={best_loss:.4f})\")\n",
        "\n",
        "print(\"Huấn luyện hoàn tất. Model tốt nhất đã được lưu tại:\", save_path)"
      ],
      "metadata": {
        "colab": {
          "base_uri": "https://localhost:8080/"
        },
        "id": "7vwme9_nIY2M",
        "outputId": "b51954af-be6b-4e5d-8de6-117513ec1640"
      },
      "execution_count": 21,
      "outputs": [
        {
          "output_type": "stream",
          "name": "stdout",
          "text": [
            "\n",
            "========== EPOCH 1 ==========\n"
          ]
        },
        {
          "output_type": "stream",
          "name": "stderr",
          "text": [
            "  1%|▏         | 2/150 [00:00<00:34,  4.26it/s]"
          ]
        },
        {
          "output_type": "stream",
          "name": "stdout",
          "text": [
            "[Epoch 1 | Batch 1/150] Loss: 5.6402 | CharAcc: 0.001 | Batch size: 8 | Seq len: 192\n",
            "  [Sample GT]:   VNSTEEL THANG LONG KIẾN TẠO GIÁ TRỊ CÔNG TRÌNH TÔN VNSTEEL THĂNG LONG Lô 14, Khu công nghiệp Quang Minh, Mê Linh, Hà Nội K P www. vnsteelthanglong.vn\n",
            "  [Sample Pred]: fẬỸÈỄỄậÌạỄGỄỳỢÌỢỄèạ4Ợ<bFỄ2ỢạỒÌFFrbỄửY$ỄỒửỄử&ửửFử2ỄạửEÈỄỄ<ÌửỄửưỄụạ>ÃỄèFÌỄFỄỄFạb>ửFỄèỄ`FỄ`Ýế>cạồÝỒÝèyÌ2ỄỷYạÌ<ạ>2oạ6ạbỄạỄỄ2>oF>yFFF<<ỒỬỂFỒỳỸửỷỒỬ<<bỬ<<ỒỄỬ<<<<<<<<<<<<<<<<<<<<<<<<<<<<<<<<<<<<<<<<<\n"
          ]
        },
        {
          "output_type": "stream",
          "name": "stderr",
          "text": [
            " 14%|█▍        | 21/150 [00:05<00:23,  5.40it/s]"
          ]
        },
        {
          "output_type": "stream",
          "name": "stdout",
          "text": [
            "[Epoch 1 | Batch 20/150] Loss: 3.7029 | CharAcc: 0.227 | Batch size: 8 | Seq len: 182\n",
            "  [Sample GT]:   CỬA CUỐN CỬA KÍNH QUANG VINH HOTLINE: 0313582228 0934344228 QV\n",
            "  [Sample Pred]: N   T    T   T    T     T    T        T          T          T                                                                                                                         \n"
          ]
        },
        {
          "output_type": "stream",
          "name": "stderr",
          "text": [
            " 27%|██▋       | 40/150 [00:10<00:31,  3.51it/s]"
          ]
        },
        {
          "output_type": "stream",
          "name": "stdout",
          "text": [
            "[Epoch 1 | Batch 40/150] Loss: 3.8553 | CharAcc: 0.224 | Batch size: 8 | Seq len: 240\n",
            "  [Sample GT]:   Khát Cafe MTĐT HÃY BỎ RÁC VÀO THÙNG G ải\n",
            "  [Sample Pred]: TH   T    Đ  IHT   T  T NHC N TH  G T ĐN      N  N NN       N  NNN             N                                                                                                                                                                \n"
          ]
        },
        {
          "output_type": "stream",
          "name": "stderr",
          "text": [
            " 39%|███▉      | 59/150 [00:17<00:34,  2.61it/s]"
          ]
        },
        {
          "output_type": "stream",
          "name": "stdout",
          "text": [
            "[Epoch 1 | Batch 60/150] Loss: 3.1379 | CharAcc: 0.250 | Batch size: 8 | Seq len: 155\n",
            "  [Sample GT]:   LÊN KHU ĐẬU XE PARKING AREA P VÀO GA ĐÓN KHÁCH DOMESTIC TERMINAL LÊN KHU ĐẬU XE PARKING AREA P\n",
            "  [Sample Pred]: T NGTH  TIN T  TH  H G T    THTI  T  TI GTH NH T N   H HTH    G OTONGTH  TIN T  TH  H G T    TH      N N                                           N       \n"
          ]
        },
        {
          "output_type": "stream",
          "name": "stderr",
          "text": [
            " 53%|█████▎    | 80/150 [00:23<00:22,  3.16it/s]"
          ]
        },
        {
          "output_type": "stream",
          "name": "stdout",
          "text": [
            "[Epoch 1 | Batch 80/150] Loss: 3.1319 | CharAcc: 0.245 | Batch size: 8 | Seq len: 151\n",
            "  [Sample GT]:   SP SAIGON PETRO   Kp 1, TT. VĨNH AN, VĨNH CỬU, ĐỒNG NAI HỘ KINH DOANH LPG GAS SP THẢO HẠNH ĐT: 06133552702 0916240725 Số ĐKKD 4708002321\n",
            "  [Sample Pred]: T HTIN   GTH  I TTTH T  T H TI G TNG TI G T A  TTNG TGN T ITH G T  NG TI  T NITI T  N T NG TI  T       0   T          T  TTHH T      0     N NNNN    NN\n"
          ]
        },
        {
          "output_type": "stream",
          "name": "stderr",
          "text": [
            " 67%|██████▋   | 100/150 [00:29<00:13,  3.69it/s]"
          ]
        },
        {
          "output_type": "stream",
          "name": "stdout",
          "text": [
            "[Epoch 1 | Batch 100/150] Loss: 3.0530 | CharAcc: 0.292 | Batch size: 8 | Seq len: 350\n",
            "  [Sample GT]:   Fashion NHỊP SỐNG TRÈ DT: 0973020650 444 - 444 TRẦN HƯNG ĐẠO P. 11 Q. 5\n",
            "  [Sample Pred]: T      gTG  HT  G T   C   T      0   C   T T   T  NGT ỜG TII TH T  0U 0                                                                                                                                                                                                                                                                                       \n"
          ]
        },
        {
          "output_type": "stream",
          "name": "stderr",
          "text": [
            " 81%|████████  | 121/150 [00:35<00:07,  4.13it/s]"
          ]
        },
        {
          "output_type": "stream",
          "name": "stdout",
          "text": [
            "[Epoch 1 | Batch 120/150] Loss: 2.9326 | CharAcc: 0.255 | Batch size: 8 | Seq len: 208\n",
            "  [Sample GT]:   Đạn 12.7mm 12.7mm Cartridge Đạn Colt 45 Colt 45 Cartridge\n",
            "  [Sample Pred]: TƯ  T      T      T         TIn T    T  T    T  T n                                                                                                                                                          N  \n"
          ]
        },
        {
          "output_type": "stream",
          "name": "stderr",
          "text": [
            " 93%|█████████▎| 140/150 [00:41<00:03,  2.55it/s]"
          ]
        },
        {
          "output_type": "stream",
          "name": "stdout",
          "text": [
            "[Epoch 1 | Batch 140/150] Loss: 2.9446 | CharAcc: 0.271 | Batch size: 8 | Seq len: 295\n",
            "  [Sample GT]:   Kết nối nguồn lực, hiện thực ước mơ.\n",
            "  [Sample Pred]: CH  Tg ntg yngTiih t  ngth nhtờiht n n  N     N     NNN NN NNNN N      NN NN NN NN NNNNN    N NN  N                N             N      N   N          NNN                    N                       N  N N N           N                   N   N      NN NNNNNN NNN N N NNNN    N             N      \n"
          ]
        },
        {
          "output_type": "stream",
          "name": "stderr",
          "text": [
            "100%|██████████| 150/150 [00:44<00:00,  3.39it/s]\n"
          ]
        },
        {
          "output_type": "stream",
          "name": "stdout",
          "text": [
            "\n",
            ">>> Epoch 1 completed. Avg Loss: 3.2759 | Avg CharAcc: 0.2562\n",
            "==> Saved new best model at epoch 1 (loss=3.2759)\n",
            "\n",
            "========== EPOCH 2 ==========\n"
          ]
        },
        {
          "output_type": "stream",
          "name": "stderr",
          "text": [
            "  1%|          | 1/150 [00:00<00:17,  8.52it/s]"
          ]
        },
        {
          "output_type": "stream",
          "name": "stdout",
          "text": [
            "[Epoch 2 | Batch 1/150] Loss: 2.7920 | CharAcc: 0.262 | Batch size: 8 | Seq len: 147\n",
            "  [Sample GT]:   KHOA XÉT NGHIỆM BÀN HƯỚNG DẪN TRẢ KẾT QUẢ XÉT NGHIỆM 204\n",
            "  [Sample Pred]: CH  NTE HTG I N TÁNGT ỜIG TINGTHƯNTHN TU NTE HTG   N T 0   NN     N      N    N NNNNNNN          NN     N                 NN         N             \n"
          ]
        },
        {
          "output_type": "stream",
          "name": "stderr",
          "text": [
            " 13%|█▎        | 20/150 [00:06<00:43,  3.01it/s]"
          ]
        },
        {
          "output_type": "stream",
          "name": "stdout",
          "text": [
            "[Epoch 2 | Batch 20/150] Loss: 2.9787 | CharAcc: 0.268 | Batch size: 8 | Seq len: 326\n",
            "  [Sample GT]:   HỘI ĐỒNG NHÂN DÂN UỶ BAN NHÂN DÂN HUYỆN BA VÌ Địa Chỉ: Thị Trấn Tây Đồng Huyện BaVi TP. Hà Nội\n",
            "  [Sample Pred]: CUI TING TG N TIN T  CI  T  N TIN T   T TẢ TINTI nTH   TH cTH ngTHn TTn  T   ngTInI THh T  T n   NNNNNNNN      N   NNNN NNNN     NNN    N    NNN    NN N NN      N                 N                     N N N                                          NN NN NNN   N N  NN                                                           \n"
          ]
        },
        {
          "output_type": "stream",
          "name": "stderr",
          "text": [
            " 27%|██▋       | 41/150 [00:13<00:35,  3.11it/s]"
          ]
        },
        {
          "output_type": "stream",
          "name": "stdout",
          "text": [
            "[Epoch 2 | Batch 40/150] Loss: 2.7246 | CharAcc: 0.298 | Batch size: 8 | Seq len: 195\n",
            "  [Sample GT]:   Huỳnh Hương Shop Chuyên Sỉ Lẻ ĐẦM, VÁY, ÁO, QUẦN, HÀNG MAY TẠI ĐC: 52 156 NGUYỄN HUỆ XƯỞNG P2 TPVL ĐT ZALO: 0938.95 17 35 0902.995 245\n",
            "  [Sample Pred]: TUyn  tUơng t   hth   ngt  t  tTU  TIC  C   Cu UG T  G T   THI TT  T  T   TG    GC YNCEỜ G T 0TH I CTRC   N T       T6 C  C0       T   n                                                           \n"
          ]
        },
        {
          "output_type": "stream",
          "name": "stderr",
          "text": [
            " 40%|████      | 60/150 [00:18<00:22,  3.97it/s]"
          ]
        },
        {
          "output_type": "stream",
          "name": "stdout",
          "text": [
            "[Epoch 2 | Batch 60/150] Loss: 2.6606 | CharAcc: 0.323 | Batch size: 8 | Seq len: 221\n",
            "  [Sample GT]:   MITSUBISHI ELECTRIC ĐIỀ A KHÔNG KHÍ TỦ LẠNH QUAT ĐIỆN CẤM TỤ TẬP TẮM SÔNG\n",
            "  [Sample Pred]: T   T I T  T O      TT NC CH NG TH NCR TOIG TU  RTƯ N THN T CT NHC N CƠNG  NNNNN NNNNNNNNNNNN NNNNNNNNNNN       NNNNNN N   NN   N NN  N     N      N                       N                               N                 \n"
          ]
        },
        {
          "output_type": "stream",
          "name": "stderr",
          "text": [
            " 54%|█████▍    | 81/150 [00:24<00:19,  3.61it/s]"
          ]
        },
        {
          "output_type": "stream",
          "name": "stdout",
          "text": [
            "[Epoch 2 | Batch 80/150] Loss: 2.5505 | CharAcc: 0.333 | Batch size: 8 | Seq len: 432\n",
            "  [Sample GT]:   BỘ THÔNG TIN VÀ TRUYỀN THÔNG HỌC VIỆN CÔNG NGHỆ BƯU CHÍNH VIỄN THÔNG NHIỆT LIỆT CHÀO MỪNG KỶ NIỆM 70 NĂM NGÀY TRUYỀN THỐNG NGÀNH BƯU ĐIỆN 15.8.1945 - 15.8.2015 25-8 1945-2015 SAMSUNG NHẬN HỐ SƠ ĐĂNG KÝ XÉT TUYỂN ĐẠI HỌC, CAO ĐẲNG NĂM 2015 KHÔNG KHÔNG ĐỖ XE TRƯỚC CỔNG TRƯỜNG CHÀO MỪNG HỌC VIỆN CỘNG NGHỆ BƯU CHÍNH VIỄN THÔNG ĐƠ ÙNG LAO ĐỘNG ANH HÚNG LAO ĐỘNG PT T 70\n",
            "  [Sample Pred]: CÁITHUNG TH  TI THƯ  NGTH NG T C NI NGT NG TG  NTÁỜ T   G TI NGTH NG TG  N TO N T    T  G TH TG N T  TGN TG   THƯ  UGTH CG TG  G TẢỜ TI NGT     0   T T         N    T         TA  A G TG T T CTANTẠNG TH TUPHTH  NGTII T C  T   TI G TGN T    TH NG TH NG TI TE THAỜIHTH G THAỜNG TH N T  G T C TI NGTHIG NG  NCÁỜ TH  G TI NGTH NG TINTNG TAN TII  T G T CG TÊ  TIIG THHTHT                                              N                    \n"
          ]
        },
        {
          "output_type": "stream",
          "name": "stderr",
          "text": [
            " 67%|██████▋   | 100/150 [00:29<00:11,  4.40it/s]"
          ]
        },
        {
          "output_type": "stream",
          "name": "stdout",
          "text": [
            "[Epoch 2 | Batch 100/150] Loss: 2.6790 | CharAcc: 0.295 | Batch size: 8 | Seq len: 229\n",
            "  [Sample GT]:   SỞ LAO ĐỘNG THƯƠNG BÌNH VÀ XÃ HỘI TỈNH VĨNH LONG TRUNG TÂM CÔNG TÁC XÃ HỘI SOCIAL WORK CENTER ẤP PHƯỚC YÊN B, XÃ PHÚ QUỚI, HUYỆN LONG HỔ, TỈNH VĨNH LONG ĐT: 0703.811878 TRUNG TÂM CÔNG TÁC XÃ HỘI TRẠM Y TẾ ĐT: 0702.213562 VÔ 200m\n",
            "  [Sample Pred]: CI HO NHƯIG THƯỜNG HỘN  HÀ HÃ H I HHNG TING HO   HHƯY  THN T NG THC TÃ H   TI    OTA ƯHH      HT T  ỜC H N TI TE H  CHUYI  T   N TON  T   H N  TIN  TON  TI  T1 1    1   2HƯY  THN T N  HHC TE T  ỆTHƯI T HHNTI  T1 10 0     CIN2  1 \n"
          ]
        },
        {
          "output_type": "stream",
          "name": "stderr",
          "text": [
            " 79%|███████▉  | 119/150 [00:35<00:08,  3.83it/s]"
          ]
        },
        {
          "output_type": "stream",
          "name": "stdout",
          "text": [
            "[Epoch 2 | Batch 120/150] Loss: 2.6276 | CharAcc: 0.321 | Batch size: 8 | Seq len: 107\n",
            "  [Sample GT]:   484 GA VĂN ĐIỂN 11 12 1 2 3 4 5 6 8 7 9 10\n",
            "  [Sample Pred]: C   TI TÀNGTẠ N C  T  T T 0 T 0 0 0 0 0 00                                                                 \n"
          ]
        },
        {
          "output_type": "stream",
          "name": "stderr",
          "text": [
            " 93%|█████████▎| 140/150 [00:41<00:02,  3.64it/s]"
          ]
        },
        {
          "output_type": "stream",
          "name": "stdout",
          "text": [
            "[Epoch 2 | Batch 140/150] Loss: 2.7092 | CharAcc: 0.293 | Batch size: 8 | Seq len: 379\n",
            "  [Sample GT]:   ISO 22000:2005 OPEN Trung Thành FOODs CÀ MUỐI PICKLED EGG-PLANT Thành  phần Chú ý Xuất xứ NSX/HSD PLANT TNHH TRUNG THÀNH Công Nghiệp Lại Yên, huyện Nội Chi nhánh Công ty TNHH thực phẩm Dồng Văn Công Nghiệp Đồng Văn Nam, Việt Nam anh.com.vn hanh.com.vn Khối lượng  tịnh 00g(+-10) lượng cái 250g TRUNG Thành CÀ MUỐI Trung Angon OPEN ISO 22000:2005 OPEN An MĂNG VinMart 36.700 CHUA\n",
            "  [Sample Pred]: CA  T       00 TÀH  CHiyg T i g TF   iThNT YN TH HH   T     ON  TR  g TThingTHinT TEythT cTG E2 T T     TH   TH YG TH    THng T    nhT i T ng T   ngT i THi Tg ng T ng Th TH   ThichThin T n  TingThng T    nhTTng TingT n  Ti nhT n T g   n  ngTing  hn  igTHi  T ớng TTh giT10 C   0 T ớng Thn T  0 TH Y  TH  giThNT YCNTHi g TNg ngT H  T T T  00   10 T    T gT N  Ti g  i T   00 TH YN\n"
          ]
        },
        {
          "output_type": "stream",
          "name": "stderr",
          "text": [
            "100%|██████████| 150/150 [00:44<00:00,  3.38it/s]\n"
          ]
        },
        {
          "output_type": "stream",
          "name": "stdout",
          "text": [
            "\n",
            ">>> Epoch 2 completed. Avg Loss: 2.7700 | Avg CharAcc: 0.2874\n",
            "==> Saved new best model at epoch 2 (loss=2.7700)\n",
            "\n",
            "========== EPOCH 3 ==========\n"
          ]
        },
        {
          "output_type": "stream",
          "name": "stderr",
          "text": [
            "  1%|          | 1/150 [00:00<01:08,  2.19it/s]"
          ]
        },
        {
          "output_type": "stream",
          "name": "stdout",
          "text": [
            "[Epoch 3 | Batch 1/150] Loss: 2.6564 | CharAcc: 0.315 | Batch size: 8 | Seq len: 345\n",
            "  [Sample GT]:   TUYÊN GÁP CONG NHAN NƯ TUỔI TỪ 18 35 LÀM VIỆC TẠI KCN NHƠN TRẠCH CÔNG VIỆC LẮP RÁP LINH KIỆN ĐIỆN TỬ TRONG PHÒNG MÁY LẠNH MỨC LƯƠNG THU NHẬP CAO TỪ 6 TRIỆU ĐẾN 8 TRIỆU / THÁNG CÔNG TY ĐÀI THỌ 2 BỮA ĂN CÓ XE ĐƯA ĐÓN MIỄN PHÍ NẾU ĐI XE TỰ TÚC PC XĂNG XE 15.000Đ / NGÀY THỦ TỤC ĐƠN GIẢN, CHỈ CẦN: 2 HÌNH 3X4 VÀ 2 CMND PHOTO TUY TUYỂN THU ĐIỆN Hằng\n",
            "  [Sample Pred]: CRY NHĐIY HH HITH   THỜTR NNTHNT0 0  TON TINN TRI THH T  NHTHAIH HHNG ĐI N ĐOCHĐANHTO   TH N TI N Đ AT I GITH NG T Y HII  Đ CHĐIỜNG TH  TG NHTH  T NT THI N TIN T H I N T H  N  ĐHN  T  TIN T  CT0TÁA TNGĐH TE TIỜ TẠ GT NN TH  HGN TẠ ĐE T CĐ CHTHHĐENGITE T0  000IT NGIN Đ   HHCHTIN TINN  HH  THNH T0T NH T E ĐINĐ0TH GITH NRNTH  TH  NGTR  TINN T ng \n"
          ]
        },
        {
          "output_type": "stream",
          "name": "stderr",
          "text": [
            " 13%|█▎        | 20/150 [00:05<00:31,  4.07it/s]"
          ]
        },
        {
          "output_type": "stream",
          "name": "stdout",
          "text": [
            "[Epoch 3 | Batch 20/150] Loss: 2.5171 | CharAcc: 0.322 | Batch size: 8 | Seq len: 174\n",
            "  [Sample GT]:   HỘI NHÀ BÁO VIỆT NAM VIA HỘI NHÀ BÁO VIỆT NAM LỄ KHÁNH THÀNH ĐƯỜNG VÀO KHU DI TÍCH LỊCH SỬ QUỐC GIA ĐỊA ĐIỂM THÀNH LẬP HỘI NHÀ BÁO VIỆT NAM m 4 20 DEOCA GROUP\n",
            "  [Sample Pred]: CUI TG NTIN HI T TH  HIỆMHÀI HH NHIN HIỆT THN ĐONTH N  TH    TIỜN  HI  TH YT ỆTH H TOCH TỐAHUỐC T   HIC HI M TH  G TONHT I TH NTIN ĐI THT N T T T  Đ   HNN A YH         N  NNN\n"
          ]
        },
        {
          "output_type": "stream",
          "name": "stderr",
          "text": [
            " 27%|██▋       | 41/150 [00:12<00:31,  3.44it/s]"
          ]
        },
        {
          "output_type": "stream",
          "name": "stdout",
          "text": [
            "[Epoch 3 | Batch 40/150] Loss: 2.6256 | CharAcc: 0.305 | Batch size: 8 | Seq len: 143\n",
            "  [Sample GT]:   CẤM DẪM LÊN BÃI CỎ\n",
            "  [Sample Pred]: ChM CUN TÝN CÁ  HH         N                                                                                                                   \n"
          ]
        },
        {
          "output_type": "stream",
          "name": "stderr",
          "text": [
            " 41%|████      | 61/150 [00:17<00:24,  3.63it/s]"
          ]
        },
        {
          "output_type": "stream",
          "name": "stdout",
          "text": [
            "[Epoch 3 | Batch 60/150] Loss: 2.8252 | CharAcc: 0.282 | Batch size: 8 | Seq len: 1747\n",
            "  [Sample GT]:   Mị Châu Quán CHÁO HẾN MỊ CHÂU Bún riêu cua Trọng Thuỷ TRỨNG VỊT LỘN ĐIỂM TÂM GIẢI KHÁT\n",
            "  [Sample Pred]: C iThin TUyn ThiN TIN T CTH N TÁ  Ti nyThy Thin  Tr ycTh CG TiCHTONGTT M THN T  N TH N     NNNNNNNNNNNNN   NNNNNNNN NNN NN NNN N NNNNNNNNN NNNNNN NNNNNNNNNNNNNNNN N NNNN N NNNNNNNNNNNN NNNN  NNNNNNNNNNNNNN  NNNNNN    NN     N N NN NN NNN NNNN NNNNNNNNNNNNNNNNNNNNNNNNNN     NNNN N N   NNNNNNNNNNNNNNNNN NNNN N N N   NNNNNN NNNN NN NN NNNNNNNNNN     NN  N NNNN  NN    N               NN NNNNNN NN NNNN NNNNNNNNNNNNNNNNNNNNNN NN     N N        N N   NN   NNNNN N NNNNN NNNNNNNNNNNNNNNNNNNNNNNNNNNNNNN NNN     NNN    N   0 NTT  N   N N  N       NNNN NNNNNN 0NNN NNNNTNNNNNNNNNTNNNNTNTNNTT TNNN  NNNNTTTNTNN  NN N  T NN NNNNNNNNNNNNNNNNNNN NN       N     N  N                         0        N   NN010 T00NT 0  TTTTNTTTNT0T  TTTTTNTTTTTNTT TT0 TN  T  1TNT   TTTTTT 00    T      0 T  T     0T NTT   0   00  000000  0N N  T TT0 110 N0C  0TN0T0TN  10  NN0T  00  0  0   03 6       0  T NN  00  0    0   NN  N0   1  N   00   00    0             0    11    0     0  0 0  000   00  000 0 0  0  0  0 00 0   0    0  0          66        00           0 0                 0    0    0 0    N  0   0 0  NNNN       N    0  00          0    000 16       0  0 0      06  0  0                   00 0             N              0   0 0       0     0     0                                                 0        06             000                             0                   0         00 0100  10    0 6000                 0 0N     0                0             0                         01             N    1   6       NNN         6                                                   0    10    1000 0  00  T    6 01  0     0 0 0  0     00 0                      0  0 0                 0    0              0  0 0   60       00000 1 0 N 0 0   0000  0 0   01  0  6\n"
          ]
        },
        {
          "output_type": "stream",
          "name": "stderr",
          "text": [
            " 53%|█████▎    | 80/150 [00:23<00:30,  2.29it/s]"
          ]
        },
        {
          "output_type": "stream",
          "name": "stdout",
          "text": [
            "[Epoch 3 | Batch 80/150] Loss: 2.6497 | CharAcc: 0.321 | Batch size: 8 | Seq len: 262\n",
            "  [Sample GT]:   SỐ 5 CẦU DIỄN 0966883456 Baby Tiny H T 5 QUỐC E K CHĂN GA GỐI 7 E\n",
            "  [Sample Pred]: ĐAIT THU TUNN T          TÁ a TH   ToTHT TuAC T THTHUNGTI TIC T T      N       N      N     N   N                                N                                                                                                                              N     \n"
          ]
        },
        {
          "output_type": "stream",
          "name": "stderr",
          "text": [
            " 67%|██████▋   | 100/150 [00:28<00:11,  4.21it/s]"
          ]
        },
        {
          "output_type": "stream",
          "name": "stdout",
          "text": [
            "[Epoch 3 | Batch 100/150] Loss: 2.7055 | CharAcc: 0.314 | Batch size: 8 | Seq len: 327\n",
            "  [Sample GT]:   127 12.9 AI CÀ CỘNG CÀ PHÊ RI BACK HOM T BRE CO\n",
            "  [Sample Pred]: C   C    C  CHNCHIG THNCHONTƯ CI H CIN THTIA NENNNNNNNNNN NNTNTNNTNTNNNTTNNN NNNNNNNNNN   NN NNNNNNNN NNN    N N NNCNNNN  N     NNNNN  N NTTNTTT NTTTN CN C     N   N  N  NNNNNNTNNN                 CNN NT CN  CCTNC   CNC  C       CN   NCT  TC    CCN NNTNNNTNCNNNN  N NNN T  CT  CC T   C N NNCCTNNN TN   N NN N NC C   CNCNCCNTNN \n"
          ]
        },
        {
          "output_type": "stream",
          "name": "stderr",
          "text": [
            " 81%|████████  | 121/150 [00:34<00:07,  3.89it/s]"
          ]
        },
        {
          "output_type": "stream",
          "name": "stdout",
          "text": [
            "[Epoch 3 | Batch 120/150] Loss: 2.5406 | CharAcc: 0.312 | Batch size: 8 | Seq len: 165\n",
            "  [Sample GT]:   CHỮ THẬP ĐỎ VIỆT NAM HỘI CHỮ THẬP ĐỎ VIỆT NAM ĐẠI HỘI ĐẠI BIỂU TOÀN QUỐC LẦN THỨ X HỘI CHỮ THẬP ĐỎ VIỆT NAM NHIỆM KỲ 2017 2022 Hà Nội, ngày 15 16 tháng 8 năm 2017 2\n",
            "  [Sample Pred]: CÔ  THUN TI TÀỆT THN TÀI THO TH T TT TIỆT TH  TII T I TTI TÁ   T    TUỐC TON TH CT:T I T   TH NHTT TI T TG  TG  T HH T0 0 Đ0 00T  TGi  Tg   H9 H0 H  n  Đ T n T    H \n"
          ]
        },
        {
          "output_type": "stream",
          "name": "stderr",
          "text": [
            " 94%|█████████▍| 141/150 [00:41<00:02,  3.07it/s]"
          ]
        },
        {
          "output_type": "stream",
          "name": "stdout",
          "text": [
            "[Epoch 3 | Batch 140/150] Loss: 2.6792 | CharAcc: 0.299 | Batch size: 8 | Seq len: 231\n",
            "  [Sample GT]:   CGV CULTURE DAY CGV CGV 5 ƯU ĐÃI NHÂN ĐÔI THỨ 2 CUỐI CÙNG MỖI THÁNG Giá vé 2D chỉ 50.000Đ TICKET CGV CGV Combo chỉ từ 85.000Đ\n",
            "  [Sample Pred]: CH ITÔYAH U C   CHIICHIIT CỜATẠ  TGUN TẠ  T ÁCT0THY  T AG T   THÁC  T nnHi T0 Th  C0     TCH  H  THIICHIITHn inC u T  C    90Tn NNN     NNN         N                NNN   NC N NCN         CC    C  N N  CNNNN  N     C   C CC      C \n"
          ]
        },
        {
          "output_type": "stream",
          "name": "stderr",
          "text": [
            "100%|██████████| 150/150 [00:43<00:00,  3.45it/s]\n"
          ]
        },
        {
          "output_type": "stream",
          "name": "stdout",
          "text": [
            "\n",
            ">>> Epoch 3 completed. Avg Loss: 2.6367 | Avg CharAcc: 0.3070\n",
            "==> Saved new best model at epoch 3 (loss=2.6367)\n",
            "\n",
            "========== EPOCH 4 ==========\n"
          ]
        },
        {
          "output_type": "stream",
          "name": "stderr",
          "text": [
            "  1%|          | 1/150 [00:00<00:23,  6.24it/s]"
          ]
        },
        {
          "output_type": "stream",
          "name": "stdout",
          "text": [
            "[Epoch 4 | Batch 1/150] Loss: 2.3970 | CharAcc: 0.338 | Batch size: 8 | Seq len: 175\n",
            "  [Sample GT]:   M&A 2019 Vietnam DIỄN ĐÀN M&A VIỆT NAM 2019 VIETNAM M&A FORUM 2019 TIỆC KẾT NỐI Networking Dinner M Đơn vị chỉ đạo Authority Đơn vị tổ chức Organiser VIR Đầu tư Vietnam AVM G\n",
            "  [Sample Pred]: TI NT0 0 TIn   n TA N TẠNHTI  TI T THM T0 0 TI    N T  NT  EN T0 0 TH T THT T C T  rwn  n  T n    t tTngtà Too tưintn  ooư   tTngtà t  to c t ư ngệt eti  TTn T ờti    n t i T \n"
          ]
        },
        {
          "output_type": "stream",
          "name": "stderr",
          "text": [
            " 13%|█▎        | 20/150 [00:06<00:31,  4.19it/s]"
          ]
        },
        {
          "output_type": "stream",
          "name": "stdout",
          "text": [
            "[Epoch 4 | Batch 20/150] Loss: 2.5784 | CharAcc: 0.315 | Batch size: 8 | Seq len: 253\n",
            "  [Sample GT]:   HN ĐƯỜNG VÕ NGUYÊN GIÁP\n",
            "  [Sample Pred]: TUGTẠỜNG TI TGI ỄN TIAI     N    T     TCTTNTNNT CNNNC N  NCN NC      NTC                  N  NN NNNNN      C                   NN T                  T                N     N                                   C      N                                   N\n"
          ]
        },
        {
          "output_type": "stream",
          "name": "stderr",
          "text": [
            " 26%|██▌       | 39/150 [00:11<00:28,  3.96it/s]"
          ]
        },
        {
          "output_type": "stream",
          "name": "stdout",
          "text": [
            "[Epoch 4 | Batch 40/150] Loss: 2.5445 | CharAcc: 0.324 | Batch size: 8 | Seq len: 129\n",
            "  [Sample GT]:   HESTRA LỄ KHÁNH THÀNH NHÀ MÁY HESTRA MATSUOKA VIETNAM LLC GRAND OPENING CEREMONY 11 September 8\n",
            "  [Sample Pred]: TÀ    NTO THÀNH TH NH TH NT Y TÀ AHANTÁNH Y HNTIN   N T OHT ANG TNH  N  TH       T00T      i  T                    N             \n"
          ]
        },
        {
          "output_type": "stream",
          "name": "stderr",
          "text": [
            " 39%|███▉      | 59/150 [00:17<00:21,  4.15it/s]"
          ]
        },
        {
          "output_type": "stream",
          "name": "stdout",
          "text": [
            "[Epoch 4 | Batch 60/150] Loss: 2.6383 | CharAcc: 0.278 | Batch size: 8 | Seq len: 218\n",
            "  [Sample GT]:   Trà Chanh Bụi Phố 80 MINH KHAI - TP. VINH - N.A 02263736868 - 0931388899 Trà Chanh BỤI PHỐ ĐC 80A V Trà Trà Chanh BỤI PHỐ End of SALE ALL 5 BỤI PHỐ Hôm nay bà làm cốc trà chanh siêu khổng lồ 9 4\n",
            "  [Sample Pred]: CHà Thu   tán Thu T 0TIỆH THO  T THH TIỆG T TH MT  0        T T    8     0HunThung Tá  THU TTHT   TITHưnThưnTHu guTá  THà T   TàoTố o T oOT TANNTHANTAn Tg  TinTàn ThnhThưnTh  g Tố nyTh  g TanT T                        \n"
          ]
        },
        {
          "output_type": "stream",
          "name": "stderr",
          "text": [
            " 53%|█████▎    | 80/150 [00:22<00:18,  3.74it/s]"
          ]
        },
        {
          "output_type": "stream",
          "name": "stdout",
          "text": [
            "[Epoch 4 | Batch 80/150] Loss: 2.5494 | CharAcc: 0.328 | Batch size: 8 | Seq len: 335\n",
            "  [Sample GT]:   BẢO HIỂM XÃ HỘI VIỆT NAM BẢO HIỂM XÃ HỘI, BẢO HIỂM Y TẾ ĐẢM BẢO AN SINH XÃ HỘI, THÚC ĐẨY SỰ NGHIỆP XÂY DỰNG VÀ BẢO VỆ TỔ QUỐC BẢO HIỂM Y TẾ TOÀN DÂN GÓP PHẦN TẠO NGUỒN LỰC BỀN VỮNG CHO CÔNG TÁC CHĂM SÓC SỨC KHOẺ NHÂN DÂN THEO HƯỚNG CÔNG BẰNG HIỆU QUẢ CHẤT LƯỢNG\n",
            "  [Sample Pred]: CIN TIỆM TEIHII TI T TAM TIO TI M TE TOI  TIO TO M T TRTTTO TIO T  TỐN  TEITII  THI  TTM T  TGI  N TÃY TỤC  TI TIN TITTH TU C TIO TO M T THNTH N TÂN TI  T IN THI T IY  TOCHTIN TIA  THINTHNGITHCHTHIN TỐ HTỐCHTH   T ON TIN THI  T ỜI  T N  TING TI N TUYOTHITHTOỜI  N                                       N  NNC        NNN NNNNNN   N N   \n"
          ]
        },
        {
          "output_type": "stream",
          "name": "stderr",
          "text": [
            " 67%|██████▋   | 101/150 [00:29<00:13,  3.64it/s]"
          ]
        },
        {
          "output_type": "stream",
          "name": "stdout",
          "text": [
            "[Epoch 4 | Batch 100/150] Loss: 2.5439 | CharAcc: 0.327 | Batch size: 8 | Seq len: 290\n",
            "  [Sample GT]:   THAN QUẢNG NINH FC THAN QUẢNG NINH ĐOÀN KẾT Ý CHÍ NIỀM TIN CHIẾN THẮNG N T QUA G NI N Ý CHÍ UẢNG NINH\n",
            "  [Sample Pred]: TrUNGTUÁN  TGỆG TI TRIN TUNNG TGỆG TTN GTHT T THU TGỆU THỆGTHIỆT T  N  TGT TUANTITGÁTGT THUNTÝNG THÁ     NNNNNNNNN N     N     NNNN NNNNNN   N     NN   N N     N                               N      N   NN            C          N        N N                    N     N                  N    \n"
          ]
        },
        {
          "output_type": "stream",
          "name": "stderr",
          "text": [
            " 80%|████████  | 120/150 [00:35<00:09,  3.06it/s]"
          ]
        },
        {
          "output_type": "stream",
          "name": "stdout",
          "text": [
            "[Epoch 4 | Batch 120/150] Loss: 2.4921 | CharAcc: 0.342 | Batch size: 8 | Seq len: 117\n",
            "  [Sample GT]:   TÌNH BẠN MÃI MÃI LARUE 1909 LARUE LARUE LARUE DEPUIS 1909\n",
            "  [Sample Pred]: TRNH HII T   HI  TON  RT0   TO  NLT   NLT    LT L  N T  0                                                            \n"
          ]
        },
        {
          "output_type": "stream",
          "name": "stderr",
          "text": [
            " 93%|█████████▎| 140/150 [00:40<00:02,  3.79it/s]"
          ]
        },
        {
          "output_type": "stream",
          "name": "stdout",
          "text": [
            "[Epoch 4 | Batch 140/150] Loss: 2.5347 | CharAcc: 0.327 | Batch size: 8 | Seq len: 345\n",
            "  [Sample GT]:   Thúy Kiều 05\n",
            "  [Sample Pred]: TRàn Thện T00n       C                                                                                                                                                                                                                                                                                                                                   \n"
          ]
        },
        {
          "output_type": "stream",
          "name": "stderr",
          "text": [
            "100%|██████████| 150/150 [00:44<00:00,  3.36it/s]\n"
          ]
        },
        {
          "output_type": "stream",
          "name": "stdout",
          "text": [
            "\n",
            ">>> Epoch 4 completed. Avg Loss: 2.5462 | Avg CharAcc: 0.3238\n",
            "==> Saved new best model at epoch 4 (loss=2.5462)\n",
            "\n",
            "========== EPOCH 5 ==========\n"
          ]
        },
        {
          "output_type": "stream",
          "name": "stderr",
          "text": [
            "  1%|          | 1/150 [00:00<00:21,  6.84it/s]"
          ]
        },
        {
          "output_type": "stream",
          "name": "stdout",
          "text": [
            "[Epoch 5 | Batch 1/150] Loss: 2.5772 | CharAcc: 0.342 | Batch size: 8 | Seq len: 154\n",
            "  [Sample GT]:   SHOP CHÍNH NGUYÊN THỜI TRANG NAM\n",
            "  [Sample Pred]: CI   THA H THIY N THÀI THƯNG THN      C T                  N N   C      N                         N                       N     N                         \n"
          ]
        },
        {
          "output_type": "stream",
          "name": "stderr",
          "text": [
            " 13%|█▎        | 20/150 [00:05<00:34,  3.78it/s]"
          ]
        },
        {
          "output_type": "stream",
          "name": "stdout",
          "text": [
            "[Epoch 5 | Batch 20/150] Loss: 2.5286 | CharAcc: 0.304 | Batch size: 8 | Seq len: 125\n",
            "  [Sample GT]:   BIA TƯƠI 3000\n",
            "  [Sample Pred]: CIN TRỜN T00 01  NNCCNNNN NNCCNN NCCNNCNNTNNNNNNNNNNNNNNT CNNTNNCCN NNNNNN N NN NNNNNNN N NNNN NNNNNNNN   CNNNNNNNNNNNNNNNNNN\n"
          ]
        },
        {
          "output_type": "stream",
          "name": "stderr",
          "text": [
            " 27%|██▋       | 40/150 [00:12<00:31,  3.53it/s]"
          ]
        },
        {
          "output_type": "stream",
          "name": "stdout",
          "text": [
            "[Epoch 5 | Batch 40/150] Loss: 2.4185 | CharAcc: 0.334 | Batch size: 8 | Seq len: 166\n",
            "  [Sample GT]:   Bánh Bông Lan Bà Xã 242 / 5 Nguyễn Thiện Thuật P Thắng Nhất, TP.VT Đình Chiểu : 0938.938.616 (Chỉ bán tại Yaourt Cô Tiên Vũng Tàu)\n",
            "  [Sample Pred]: TỆn  Tán  Ta gtántEit   12T TG y n Thi n Thư n ThTh c  Thát  Th  I TTn  Th    T T            T0h  TungThn t  n i ThnTh n Tin  th        N  N T                        \n"
          ]
        },
        {
          "output_type": "stream",
          "name": "stderr",
          "text": [
            " 40%|████      | 60/150 [00:18<00:20,  4.44it/s]"
          ]
        },
        {
          "output_type": "stream",
          "name": "stdout",
          "text": [
            "[Epoch 5 | Batch 60/150] Loss: 2.4871 | CharAcc: 0.328 | Batch size: 8 | Seq len: 262\n",
            "  [Sample GT]:   HỘP THƯ GÓP Ý\n",
            "  [Sample Pred]: CÀI THUỜTIN T NNN NNN NN        CNN                                            N                   NN                      N     N                                                                                                                                    \n"
          ]
        },
        {
          "output_type": "stream",
          "name": "stderr",
          "text": [
            " 53%|█████▎    | 80/150 [00:24<00:27,  2.56it/s]"
          ]
        },
        {
          "output_type": "stream",
          "name": "stdout",
          "text": [
            "[Epoch 5 | Batch 80/150] Loss: 2.3854 | CharAcc: 0.359 | Batch size: 8 | Seq len: 164\n",
            "  [Sample GT]:   CERTIFIED CERTIFIED QUALITY MR BEAN SOYA BEANS Non-GMO. Identity Preserved. NHỮNG HẠT ĐẬU NÀNH TỐT NHẤT ĐƯỢC NHẬP KHẨU VỀ VIỆT NAM\n",
            "  [Sample Pred]: CÔTTINO   THTII ET  CUANI I TIATATNATANOMTA   ITAn    N TN    n  T.i t in   c A G TANHNTN NGNG NÂN NG P TTỜC TG N TH M TÀNTÀ N NGN      NN NN NN NNNN NCNTN   NNN  N\n"
          ]
        },
        {
          "output_type": "stream",
          "name": "stderr",
          "text": [
            " 67%|██████▋   | 101/150 [00:30<00:11,  4.17it/s]"
          ]
        },
        {
          "output_type": "stream",
          "name": "stdout",
          "text": [
            "[Epoch 5 | Batch 100/150] Loss: 2.3181 | CharAcc: 0.398 | Batch size: 8 | Seq len: 223\n",
            "  [Sample GT]:   LỄ KHAI TRƯƠNG CỬA TIỆN ÍCH CÔNG ĐOÀN NGÀY 14 THÁNG 01 NĂM 2020 DHK Mart TRÌNH VÌ PHÚC LỢI IÊN CÔNG ĐOÀN C Đ CTY GOLDEN ASIA FOOD CHÚC MỪNG KHAI CÔNG TY CỔ PHẦN TRÍ CÔNG\n",
            "  [Sample Pred]: CỄ THUN THƯỜNG THA TH N TNH THNG TIÀN THHY T  THINH T  THN T0   TÂ H2  e THƯNH TI NHƯN TO ỆTỆN THNG TIÀ  THTIT:H TIÀO   TN   T    TH N T N  TH   THN  TH TH T  N THA THNG                                                      \n"
          ]
        },
        {
          "output_type": "stream",
          "name": "stderr",
          "text": [
            " 80%|████████  | 120/150 [00:36<00:09,  3.33it/s]"
          ]
        },
        {
          "output_type": "stream",
          "name": "stdout",
          "text": [
            "[Epoch 5 | Batch 120/150] Loss: 2.2150 | CharAcc: 0.386 | Batch size: 8 | Seq len: 166\n",
            "  [Sample GT]:   DAIRY SỮA\n",
            "  [Sample Pred]: TIN A TA       T N        N                 N N             TT  C     TTN   N    N    N    T   C N    T N     0N   N N      N     N        0                          \n"
          ]
        },
        {
          "output_type": "stream",
          "name": "stderr",
          "text": [
            " 94%|█████████▍| 141/150 [00:41<00:01,  4.95it/s]"
          ]
        },
        {
          "output_type": "stream",
          "name": "stdout",
          "text": [
            "[Epoch 5 | Batch 140/150] Loss: 2.3122 | CharAcc: 0.363 | Batch size: 8 | Seq len: 238\n",
            "  [Sample GT]:   ĐƯỜNG CAO TỐC - EXPRESSWAY HƯNG YÊN - QL 38 NAM ĐỊNH - QL 21 VINH - QL Q LỘ 1 PHỦ LÝ 1\n",
            "  [Sample Pred]: CẠỜNG TÁN THC T T     TT   TAƠG TÊN T TUAT  0GO TTAG T 0UOT0 TĨNG T TUOTUTAIT THỐ TO T      N                   N  N NN  N    N NNNN NN  NN           N                 N      N                   CNC   N  N   N        CN  C   N            \n"
          ]
        },
        {
          "output_type": "stream",
          "name": "stderr",
          "text": [
            "100%|██████████| 150/150 [00:45<00:00,  3.33it/s]\n"
          ]
        },
        {
          "output_type": "stream",
          "name": "stdout",
          "text": [
            "\n",
            ">>> Epoch 5 completed. Avg Loss: 2.4635 | Avg CharAcc: 0.3402\n",
            "==> Saved new best model at epoch 5 (loss=2.4635)\n",
            "\n",
            "========== EPOCH 6 ==========\n"
          ]
        },
        {
          "output_type": "stream",
          "name": "stderr",
          "text": [
            "  1%|▏         | 2/150 [00:00<00:40,  3.68it/s]"
          ]
        },
        {
          "output_type": "stream",
          "name": "stdout",
          "text": [
            "[Epoch 6 | Batch 1/150] Loss: 2.4101 | CharAcc: 0.338 | Batch size: 8 | Seq len: 216\n",
            "  [Sample GT]:   Kết nối nguồn lực, hiện thực ước mơ.\n",
            "  [Sample Pred]: CHt ngc Cg yngtic  nunt chàc nớc tớn n               NN          N        N                N       N     N N N     NNN N  N  N  NN N                              N                                   N  N    N     N   \n"
          ]
        },
        {
          "output_type": "stream",
          "name": "stderr",
          "text": [
            " 14%|█▍        | 21/150 [00:05<00:22,  5.62it/s]"
          ]
        },
        {
          "output_type": "stream",
          "name": "stdout",
          "text": [
            "[Epoch 6 | Batch 20/150] Loss: 2.3369 | CharAcc: 0.353 | Batch size: 8 | Seq len: 157\n",
            "  [Sample GT]:   HANAMI LẨU MÌ CAY HÀN QUỐC HANAMI. 214\n",
            "  [Sample Pred]: CA H   TAM TINCH  CINHCUAC CÀNH    C0            N  NN       N  N     N N   N  N  NN N    N NNN N  NN N      N  NN NNN NNNN N N N NN N  NN  NN        N      \n"
          ]
        },
        {
          "output_type": "stream",
          "name": "stderr",
          "text": [
            " 27%|██▋       | 40/150 [00:10<00:38,  2.89it/s]"
          ]
        },
        {
          "output_type": "stream",
          "name": "stdout",
          "text": [
            "[Epoch 6 | Batch 40/150] Loss: 2.4736 | CharAcc: 0.331 | Batch size: 8 | Seq len: 216\n",
            "  [Sample GT]:   KeNT INTERNATIONAL COLLEGE ent International College IẾN THỨC THAY ĐỔI TƯƠNG LAI\n",
            "  [Sample Pred]: TH   TNHRMITMR     TORE    T  eTNge  a  n    tor     CNT THÁC THAN TI  T:ƠNG TAM   N         NNNCCCCCCCCC CCCCCCCCCCCCCC CC   NNNNN  CCNC  CC      C    CCCC CC N  CNC    CCCCC C NCCCC CCCCCCC CCCC C NC CC NCCC C CC  \n"
          ]
        },
        {
          "output_type": "stream",
          "name": "stderr",
          "text": [
            " 40%|████      | 60/150 [00:17<00:43,  2.06it/s]"
          ]
        },
        {
          "output_type": "stream",
          "name": "stdout",
          "text": [
            "[Epoch 6 | Batch 60/150] Loss: 2.7156 | CharAcc: 0.286 | Batch size: 8 | Seq len: 640\n",
            "  [Sample GT]:   LỐI VÀO HẦM GỬI XE\n",
            "  [Sample Pred]: TỄI TIO TON TIA TE ANNNN N N NNCNCCNNNNNNNNNNNNNNNNNNNNNNNNNNNNNNNNNNNNNNNN NNNNNNNNNNNNNN NNNNNNNNNNNNNNNNNNNNNNNNNNNNNNNNNNNNNNNNNNNNNNNNNNNNN N N NN NNNNNNNNNN NNNNNNNNNNNNN N NN  NNNNNN NNNN NNNNNNNNNNNN NNN N NNNN NN NNN  N NNNNNNNNNNTTNNN NN NNN NNNNN NNNNN NNNNNNNN NN NN NN      N   N  NNN N NN  NNN       NNN NN  NN     NN  NNNNNN      N   N   N N N    N    N  N         NNN   N  N  NTN  NN  NN NNNNNNN NNN NN NNNNNN    N N  NNNN NN N N    NN   NNNNNN N  N  NNNNNNNNNNNNN NNNNNNNNNNNNNNNNNNNNNNN NNNN  NNN  N NN     N NN     N  N N NNNNNNNNNNNN NNNNNNN NNNNNNNN NNNNNNNNNNNNNNNNNNNNNNN NN NNNN   NN  N NNNNN N  NN N NNN NNNNNN    N\n"
          ]
        },
        {
          "output_type": "stream",
          "name": "stderr",
          "text": [
            " 53%|█████▎    | 80/150 [00:23<00:23,  3.01it/s]"
          ]
        },
        {
          "output_type": "stream",
          "name": "stdout",
          "text": [
            "[Epoch 6 | Batch 80/150] Loss: 2.4251 | CharAcc: 0.357 | Batch size: 8 | Seq len: 157\n",
            "  [Sample GT]:   LÊ TRUNG CƯỜNG Dẫu không nhìn thấy Nắng NHÀ XUẤT BẢN VĂN HOÁ - VĂN NGHỆ\n",
            "  [Sample Pred]: TỄNTRƯNG TH NG TÂn Thing Tgingtr t tgng thÀ TưYT TáN TIN T  NT TINHTHHÀT        NNN         N       N          NN   NN        N  NNN NN NNN                  \n"
          ]
        },
        {
          "output_type": "stream",
          "name": "stderr",
          "text": [
            " 67%|██████▋   | 100/150 [00:28<00:10,  4.67it/s]"
          ]
        },
        {
          "output_type": "stream",
          "name": "stdout",
          "text": [
            "[Epoch 6 | Batch 100/150] Loss: 2.5598 | CharAcc: 0.332 | Batch size: 8 | Seq len: 241\n",
            "  [Sample GT]:   CỬA HÀNG GAS ĐẠI TÂM BÁN: BÌNH GAS BẾP GAS ĐỔI CŨ NHẬN MỚI GIAO HÀNG TẬN NƠI UY TÍN CHẤT LƯỢNG ĐC: 67/20 Phó Cơ Điều P3. TPVL ĐT: 0703.852 138 0703.852 338\n",
            "  [Sample Pred]: CÔA HÀNG TI  TII HHN HẢN  HÌNH TIN H T H   TII T  TGÀN TAI HIA  TỌNG THT TGN T  ĐHNHHH T TOỜNG ĐI  T6010 T  nT nTT n T.  T:.ĨOĐT: 09098300003. 0 00.8 000.. N          N     NN   N                 NN N N N           C              N    N     \n"
          ]
        },
        {
          "output_type": "stream",
          "name": "stderr",
          "text": [
            " 80%|████████  | 120/150 [00:34<00:09,  3.21it/s]"
          ]
        },
        {
          "output_type": "stream",
          "name": "stdout",
          "text": [
            "[Epoch 6 | Batch 120/150] Loss: 2.3743 | CharAcc: 0.369 | Batch size: 8 | Seq len: 260\n",
            "  [Sample GT]:   TIỆM VÀNG : THÁI HUYNH CÔNG MUA BÁN NỮ TRANG VÀNG 17K 24K 16K 23K NHẬN CẦM ĐỒ 1, ẤP THẠNH PHÚ, HÒA PHÚ, LONG HỒ, VĨNH LONG ĐT: 0909.10 11 17 H UA BÁN NU IRANG VÀNG 16K 17K 23K 24K DỊCH VỤ CẦ I\n",
            "  [Sample Pred]: CRẾM TI H N 0HUC ĐUY H THNG TỚY TIN TG THU H TĨ H T  HL0  L0  00  1HÁNHNHU TT T  TTHTHƯNH THỐ  TƯN THU  ĐO G T   ĐĨNG TONG ĐT: 09 0  290220  0À0Y 0 NHLGYT Ư G TĨ G T  HT  HT0  T0  T C  TĨ LHNN                                                                    \n"
          ]
        },
        {
          "output_type": "stream",
          "name": "stderr",
          "text": [
            " 93%|█████████▎| 140/150 [00:41<00:03,  2.90it/s]"
          ]
        },
        {
          "output_type": "stream",
          "name": "stdout",
          "text": [
            "[Epoch 6 | Batch 140/150] Loss: 2.3765 | CharAcc: 0.352 | Batch size: 8 | Seq len: 177\n",
            "  [Sample GT]:   KHÁCH SẠN HOTEL HOÀNG KHIÊM THOÁNG MÁT ĐẦY ĐỦ TIỆN NGHI ĐC: 88/1 PHẠM THÁI BƯỜNG P. 4 TP. VĨNH LONG ĐT: 0706.250169 0982.23394\n",
            "  [Sample Pred]: THU   TỐN TÁNH  SONNG THU N THÁN   TÁY TIU TI T:ỆN NHU ỆTI: 0    THÒI THUN TÁỜNG TH T 0HH TĨNH TONH TT: 0909 33 93  093  8 ..3 NN N    N  N                  N         N         \n"
          ]
        },
        {
          "output_type": "stream",
          "name": "stderr",
          "text": [
            "100%|██████████| 150/150 [00:43<00:00,  3.42it/s]\n"
          ]
        },
        {
          "output_type": "stream",
          "name": "stdout",
          "text": [
            "\n",
            ">>> Epoch 6 completed. Avg Loss: 2.4081 | Avg CharAcc: 0.3525\n",
            "==> Saved new best model at epoch 6 (loss=2.4081)\n",
            "\n",
            "========== EPOCH 7 ==========\n"
          ]
        },
        {
          "output_type": "stream",
          "name": "stderr",
          "text": [
            "  2%|▏         | 3/150 [00:00<00:21,  6.95it/s]"
          ]
        },
        {
          "output_type": "stream",
          "name": "stdout",
          "text": [
            "[Epoch 7 | Batch 1/150] Loss: 2.3271 | CharAcc: 0.388 | Batch size: 8 | Seq len: 124\n",
            "  [Sample GT]:   QUÁN ĂN CHAY\n",
            "  [Sample Pred]: CUÁN HNGTHÀN  CCCCCCNCCCCCCCCCCCCCC CCCCCC CNCCCTNNCCCCNN CCCCCCCCCCCNNCCNCCCNNNNCC  NC C  NNNNNCC NCCCCCCCCNCNCCCCCCCNNNCN \n"
          ]
        },
        {
          "output_type": "stream",
          "name": "stderr",
          "text": [
            " 14%|█▍        | 21/150 [00:05<00:31,  4.03it/s]"
          ]
        },
        {
          "output_type": "stream",
          "name": "stdout",
          "text": [
            "[Epoch 7 | Batch 20/150] Loss: 2.1367 | CharAcc: 0.432 | Batch size: 8 | Seq len: 267\n",
            "  [Sample GT]:   SIÊU THỊ ĐIỂN UYÊN ĐIỆN MÁY ÂM THANH THIẾT BỊ NHÀ BẾP ĐT: 091 3 378 378 01699 378 378 0212 3 666 555 ĐIỆN MÁY ÂM THA ÊP MUA BÁN ĐỔI CÁC SỬA CHỮA MÁY LỌC NƯỚC ASAKIN AN TOÀN TUYỆT ĐỐI 129 D\n",
            "  [Sample Pred]: TANN THI TIỆN TYÊN TIỆN TIY TM THIIH THIỆN TI TH NTIN TTH 097 0 0 0 0 0 0     0   0   0    2 0   0   2TỆN T I TM THONTNHTỸỐ TIN TI  TH HTỐ  THOA T Y TIC TG I T ỐNH  TNGTHNN TH  NRTT  T   T N       N    NN             TNN       N    N  NN       N N   NNNNNNN   NNNNNNN\n"
          ]
        },
        {
          "output_type": "stream",
          "name": "stderr",
          "text": [
            " 27%|██▋       | 41/150 [00:12<00:32,  3.33it/s]"
          ]
        },
        {
          "output_type": "stream",
          "name": "stdout",
          "text": [
            "[Epoch 7 | Batch 40/150] Loss: 2.1889 | CharAcc: 0.376 | Batch size: 8 | Seq len: 190\n",
            "  [Sample GT]:   88\n",
            "  [Sample Pred]: T    TTNT  TTTN T N CN        C            N     T N    N N T N NT  NN N    N  N   NN         NNNN  N N      CN NN NNNN       N   N   N                                    N     N            \n"
          ]
        },
        {
          "output_type": "stream",
          "name": "stderr",
          "text": [
            " 40%|████      | 60/150 [00:18<00:25,  3.56it/s]"
          ]
        },
        {
          "output_type": "stream",
          "name": "stdout",
          "text": [
            "[Epoch 7 | Batch 60/150] Loss: 2.5010 | CharAcc: 0.321 | Batch size: 8 | Seq len: 485\n",
            "  [Sample GT]:   KHU DU LỊCH BIỂN BA ĐỘNG BADONG RESORT\n",
            "  [Sample Pred]: CHU VỰ CAC  TẢNN TẢ TI G TẢ     TANTN    N NN      C NTN NCCCCCCCCCCC NNNC    NNCN    N     NN   NN NC CCC  CCCNCC  NCNNNNN N NNNNNN   N   C             C   N N  C   N  N C NN C CN N  C     CCN C C  CC CC          C   CCCC  C         CN  C C          NN C   C  N   C       C      C        C  N C  C    C  N   C C      CC                 C                C     C   C                      N   CC  CCC    N     NNNCNN      N  C                 N        N  C NN    C        C  CCCNC N  CN \n"
          ]
        },
        {
          "output_type": "stream",
          "name": "stderr",
          "text": [
            " 53%|█████▎    | 80/150 [00:24<00:26,  2.60it/s]"
          ]
        },
        {
          "output_type": "stream",
          "name": "stdout",
          "text": [
            "[Epoch 7 | Batch 80/150] Loss: 2.3562 | CharAcc: 0.361 | Batch size: 8 | Seq len: 210\n",
            "  [Sample GT]:   F 88 TÀI CHÍNH CÁ NHÂN HỆ THỐNG CẦM ĐỒ TOÀN QUỐC Ầ ĐỒ 18006388 100% TÀI SẢN ĐƯỢC NIÊM PHONG F 88 F TÀI CHÍNH 18006388 KHAI TRƯƠNG 1/10/2016 88 1148 CẦM Ô XE\n",
            "  [Sample Pred]: CaB  CH  THU H CHCTHÀN TÀ NHICH TÁN TẠNTRNNGCUỐC TUTẠNT  00    C 0  0H  CỐNGCƯỜC CGNN THING TIT  CACR  CHI G T   0    CHU  CRƯỜNG T     0   C  T    2HN TNCE                   CC C   CC   C CCCCC CCCC CCCCC CCC \n"
          ]
        },
        {
          "output_type": "stream",
          "name": "stderr",
          "text": [
            " 67%|██████▋   | 100/150 [00:30<00:12,  3.88it/s]"
          ]
        },
        {
          "output_type": "stream",
          "name": "stdout",
          "text": [
            "[Epoch 7 | Batch 100/150] Loss: 2.5624 | CharAcc: 0.372 | Batch size: 8 | Seq len: 210\n",
            "  [Sample GT]:   Gái Chưa 18 Trai Đi Tù\n",
            "  [Sample Pred]: CIn HhuờnC  Thu  CiệThnn CCCNCCC  NCCCCNN T    NT N N NNN  C   CC CN   C   N C            NNNNNNNN NNNNNCNNN NNNNCNC    NN     NNNNNNNNN N       N  N   TC     C  N  NNNNN N N  NCN       N   C N   CC    NCC     \n"
          ]
        },
        {
          "output_type": "stream",
          "name": "stderr",
          "text": [
            " 81%|████████  | 121/150 [00:36<00:06,  4.73it/s]"
          ]
        },
        {
          "output_type": "stream",
          "name": "stdout",
          "text": [
            "[Epoch 7 | Batch 120/150] Loss: 2.4837 | CharAcc: 0.335 | Batch size: 8 | Seq len: 268\n",
            "  [Sample GT]:   MÓN HUẾ DELIVERY 1800 1111 MÓN HUẾ MON HUE 12 X DELIVERY 1800 1111 K C MON HUE OHAM\n",
            "  [Sample Pred]: TEN TÀY TỰX      N    1    1I  TÁYTTÁN TIY T  1ETỤ ETE   T    T    1m1HNI  TI  TNI                N               C                                                                                                                                                         \n"
          ]
        },
        {
          "output_type": "stream",
          "name": "stderr",
          "text": [
            " 93%|█████████▎| 140/150 [00:41<00:03,  2.77it/s]"
          ]
        },
        {
          "output_type": "stream",
          "name": "stdout",
          "text": [
            "[Epoch 7 | Batch 140/150] Loss: 2.4609 | CharAcc: 0.333 | Batch size: 8 | Seq len: 122\n",
            "  [Sample GT]:   TRƯỜNG TIỂU HỌC BRENDON TEL. 04. 3556 0150 www.brendon.edu.vn 80m\n",
            "  [Sample Pred]: TRƯỜNG THỆM TIC TÁA   N THR  T9 30.   0 9  0.wwmim  mm v ..vn T                                N              N    N      \n"
          ]
        },
        {
          "output_type": "stream",
          "name": "stderr",
          "text": [
            "100%|██████████| 150/150 [00:44<00:00,  3.39it/s]\n"
          ]
        },
        {
          "output_type": "stream",
          "name": "stdout",
          "text": [
            "\n",
            ">>> Epoch 7 completed. Avg Loss: 2.3456 | Avg CharAcc: 0.3671\n",
            "==> Saved new best model at epoch 7 (loss=2.3456)\n",
            "\n",
            "========== EPOCH 8 ==========\n"
          ]
        },
        {
          "output_type": "stream",
          "name": "stderr",
          "text": [
            "  1%|          | 1/150 [00:00<00:25,  5.84it/s]"
          ]
        },
        {
          "output_type": "stream",
          "name": "stdout",
          "text": [
            "[Epoch 8 | Batch 1/150] Loss: 2.3716 | CharAcc: 0.351 | Batch size: 8 | Seq len: 196\n",
            "  [Sample GT]:   HN ĐƯỜNG VÕ NGUYÊN GIÁP\n",
            "  [Sample Pred]: CIGTẠỜNG TI NGIYỄN TIÁ   T NCCCNCNC NCCCNNNCNNNN NNNN NN NNN NCCCNNNCN    CC       N       N  C   NNNN  C  C N   CN  CNNCNNNNNNNNNNNNNNN N             C     C N     NN   N  NN N N   N C C  N NN N \n"
          ]
        },
        {
          "output_type": "stream",
          "name": "stderr",
          "text": [
            " 13%|█▎        | 20/150 [00:05<00:28,  4.50it/s]"
          ]
        },
        {
          "output_type": "stream",
          "name": "stdout",
          "text": [
            "[Epoch 8 | Batch 20/150] Loss: 2.1707 | CharAcc: 0.398 | Batch size: 8 | Seq len: 133\n",
            "  [Sample GT]:   CẢM ƠN BẠN ĐÃ GIỮ SẠCH BUỒNG VỆ SINH CLEAN TOILET THE KEEP FOR YOU THANK\n",
            "  [Sample Pred]: CÔN HIGTÁN TỘ NIA TỐCH NIỐNG TI NIN  NHOM  THNN  ITRƯRS RA SO  S   SHA GI N NNNNNN              CC    N C CCCC  CCCC NCC  N  CNNNNNCN\n"
          ]
        },
        {
          "output_type": "stream",
          "name": "stderr",
          "text": [
            " 27%|██▋       | 40/150 [00:12<00:40,  2.70it/s]"
          ]
        },
        {
          "output_type": "stream",
          "name": "stdout",
          "text": [
            "[Epoch 8 | Batch 40/150] Loss: 2.4442 | CharAcc: 0.364 | Batch size: 8 | Seq len: 392\n",
            "  [Sample GT]:   GÀ ngon nì LINFOX VIFON R Luôn Vì Hôm Nay Từ 1963 301219 12 NSX: i 3 Miền 2 19 A1 B PHỞ BÒ Nước Cốt HẦM BÒ NSX : 31 12 .19 02230919 1101 A5A R Bún Riêu Cua Bún Riêu Cua VIFON HÀNG ĐẦU THẾ GIỚI IUFoST 963 ĐẶC BIỆT CÓ RIÊU CUA NSX: HSD: 09 tháng kể từ ngày sản VIFON ngon 115g VIFON ngon co.\n",
            "  [Sample Pred]: CA Hhh gCgnCaN EN HINE  TECAyngTinHui TGn Th T9   C      29 2gố  2a2 Taệu c 2  2  2 ChÁ TÁ NGơi TÔn ToN TáNTHÁ H T  2 02   29       1  1 2   1 2 c 2  u 2   2 n 2  n Th nTINONgT    TTU T   T ỚI T  E A C   CTN TÁ N T  TƯNN C   THIE T IỊ T9 T án  T  T nT    T n TINONGTg n T 9  2 NON T  n T n N                                                                                                     \n"
          ]
        },
        {
          "output_type": "stream",
          "name": "stderr",
          "text": [
            " 40%|████      | 60/150 [00:18<00:21,  4.24it/s]"
          ]
        },
        {
          "output_type": "stream",
          "name": "stdout",
          "text": [
            "[Epoch 8 | Batch 60/150] Loss: 2.2604 | CharAcc: 0.360 | Batch size: 8 | Seq len: 163\n",
            "  [Sample GT]:   CẦU BẢN LÌN LÝ TRÌNH: KM 8 + 385 QL 4B CHIỀU DÀI: 30.7 M CHIỀU RỘNG: 8 M\n",
            "  [Sample Pred]: CHU TẢOGTONHTỄ THÌNH  0m K8K T   8UOK  CHÀỀU TIO  T090 T 0HUÊU TIIG  080     C  N NN   N C CC NN    C CCCCC CCCCNCCNC N   NN   NNCN   NNN C  N  N   N    C C NCNNN \n"
          ]
        },
        {
          "output_type": "stream",
          "name": "stderr",
          "text": [
            " 53%|█████▎    | 80/150 [00:23<00:23,  3.04it/s]"
          ]
        },
        {
          "output_type": "stream",
          "name": "stdout",
          "text": [
            "[Epoch 8 | Batch 80/150] Loss: 2.2329 | CharAcc: 0.382 | Batch size: 8 | Seq len: 137\n",
            "  [Sample GT]:   LỐI VÀO HẦM GỬI XE\n",
            "  [Sample Pred]: CÝI TIO TỘU TIA CE  CCC   C CCCC  CC  CC NN C   N    C   CCCNNNCCCC CCCN N   CC     NC      C C  C   CC CC  CCCNCCCCC CCCC   CCN        C\n"
          ]
        },
        {
          "output_type": "stream",
          "name": "stderr",
          "text": [
            " 67%|██████▋   | 101/150 [00:29<00:11,  4.20it/s]"
          ]
        },
        {
          "output_type": "stream",
          "name": "stdout",
          "text": [
            "[Epoch 8 | Batch 100/150] Loss: 2.1860 | CharAcc: 0.406 | Batch size: 8 | Seq len: 196\n",
            "  [Sample GT]:   NHÀ THUỐC SONG ANH\n",
            "  [Sample Pred]: CGÀ CHAỐC TỐNG TNG  CCC  CNCC CCCC  CC  TTT  TT N N T T CCCCTNCCCCTTNNCC C C C C CNTTCC  CC NNCN N   CC  TCCCTCCCCCCNCCCNCCCN NNCNNNNN NNNCCTN  C   CT CT    CCC N T TCCNC CCCCCT NCCCCCCC C   C CCC\n"
          ]
        },
        {
          "output_type": "stream",
          "name": "stderr",
          "text": [
            " 80%|████████  | 120/150 [00:35<00:08,  3.59it/s]"
          ]
        },
        {
          "output_type": "stream",
          "name": "stdout",
          "text": [
            "[Epoch 8 | Batch 120/150] Loss: 2.4320 | CharAcc: 0.350 | Batch size: 8 | Seq len: 345\n",
            "  [Sample GT]:   Hương trà COFFEE - MILK TEA - FASTFOOD ƯƠ ĐC: ĐT:\n",
            "  [Sample Pred]: CÀnng thư th FE  S SENEECHMNC TF A     C NHC: 0T: n NNNNNNNNNNNNNNCN NNNN   N  NNNNNNN NC  NN  NNNNN N NCC C CCNCNCCNCNCCC N NN  NN NNNNNCN NC  N        CC C       C NN NNCC     C   NC N  CCCCCCCCCCCCC CCC NCC   C  CNCCC C CC    CNCCTC  CNCC    C   CCCCC CCCCCC C NCCCCCCCCCC C               N  N C     CNC  N  CC  CC N N  N CNCCC  CCCN C C  NC \n"
          ]
        },
        {
          "output_type": "stream",
          "name": "stderr",
          "text": [
            " 93%|█████████▎| 140/150 [00:40<00:02,  3.72it/s]"
          ]
        },
        {
          "output_type": "stream",
          "name": "stdout",
          "text": [
            "[Epoch 8 | Batch 140/150] Loss: 2.3842 | CharAcc: 0.376 | Batch size: 8 | Seq len: 123\n",
            "  [Sample GT]:   SHOP CHÍNH NGUYÊN THỜI TRANG NAM\n",
            "  [Sample Pred]: CUAN TÔU H HHUYÊN THUN NHUNG THM  CNNCCNNNCNCN CNNCCNNNNCCCCCNCCCCNNNCNCCNNC CCCNNN N  NCCCNNN  NN  NCCCCCCCCNNNCCNCCCCCCCC\n"
          ]
        },
        {
          "output_type": "stream",
          "name": "stderr",
          "text": [
            "100%|██████████| 150/150 [00:43<00:00,  3.43it/s]\n"
          ]
        },
        {
          "output_type": "stream",
          "name": "stdout",
          "text": [
            "\n",
            ">>> Epoch 8 completed. Avg Loss: 2.2917 | Avg CharAcc: 0.3788\n",
            "==> Saved new best model at epoch 8 (loss=2.2917)\n",
            "\n",
            "========== EPOCH 9 ==========\n"
          ]
        },
        {
          "output_type": "stream",
          "name": "stderr",
          "text": [
            "  1%|          | 1/150 [00:00<01:07,  2.19it/s]"
          ]
        },
        {
          "output_type": "stream",
          "name": "stdout",
          "text": [
            "[Epoch 9 | Batch 1/150] Loss: 2.1794 | CharAcc: 0.397 | Batch size: 8 | Seq len: 181\n",
            "  [Sample GT]:   Ăn Chơi BÁNH MÌ SANDWICHES PHỞ NOODLES VIETNAMESE EATERY BAR\n",
            "  [Sample Pred]: CNgNÁàn CaN  TINTƠN    HO  CHƯ TGNR    CENT    R RCR  R  C                                   CC        C    CC      CC    C                                            C             \n"
          ]
        },
        {
          "output_type": "stream",
          "name": "stderr",
          "text": [
            " 13%|█▎        | 20/150 [00:05<00:37,  3.51it/s]"
          ]
        },
        {
          "output_type": "stream",
          "name": "stdout",
          "text": [
            "[Epoch 9 | Batch 20/150] Loss: 2.0953 | CharAcc: 0.426 | Batch size: 8 | Seq len: 193\n",
            "  [Sample GT]:   NƯỚC CỘNG HOÀ XÃ HỘI CHỦ NGHĨA VIỆT NAM CỬA KHẨU QUỐC TẾ LAO BẢO LAO BAO INTERNATIONAL BORDER GATE STOP\n",
            "  [Sample Pred]: THỚC CÁNG TỘÀ TÃ HỘI THỘ NG ĨA TIỆT NHM THA THÁM TUỐC TH TƯM TÁN TƯN TẢN TNAH IA IO AM CANE  ECANI SAAF NN NNNNNNNN NCNN CC N N  NN NN NCC C                     C    C  C     C     C        C  \n"
          ]
        },
        {
          "output_type": "stream",
          "name": "stderr",
          "text": [
            " 27%|██▋       | 40/150 [00:10<00:25,  4.27it/s]"
          ]
        },
        {
          "output_type": "stream",
          "name": "stdout",
          "text": [
            "[Epoch 9 | Batch 40/150] Loss: 2.4514 | CharAcc: 0.354 | Batch size: 8 | Seq len: 308\n",
            "  [Sample GT]:   Quán Hoa Nam Đặc biệt BIA LẠNH CÁC MÓN ĂN GIA ĐÌNH (Có Nhận Đặt Tiệc Sinh Nhật) BÌNH DÂN KÍNH MỜI\n",
            "  [Sample Pred]: CUán CAá Tg  CẦc Tạệt TáN TING NÔC BẠNGCN NIÁ ĐINH CCH HHut tưc TPệ  tốệ  thut  táNH TiN NHNH TUIỆ  NNNNC NCCCNNNCCCTCCCNN    NNN  N   N           N           N  C     N     C       C         NC   CC  CC    C  CNC    C CC        N    CN                 C     CN                                               \n"
          ]
        },
        {
          "output_type": "stream",
          "name": "stderr",
          "text": [
            " 40%|████      | 60/150 [00:15<00:25,  3.58it/s]"
          ]
        },
        {
          "output_type": "stream",
          "name": "stdout",
          "text": [
            "[Epoch 9 | Batch 60/150] Loss: 2.6883 | CharAcc: 0.321 | Batch size: 8 | Seq len: 640\n",
            "  [Sample GT]:   DOUBL DOUBLE KHỞI NGUỒN YÊU THƯƠNG 100 AI % VÀO THE VINID CÁ MẮM Extr xtr xtr N NG A KẸO G BẠC HÀ KHUY SING-GUM WRIGLEY'S WRIGLEY'S oolAir CoolAir 58,4 g KẸO SING-GUM COOLAIR HƯƠNG BAC HÀ KHUYNH DIỆP Khối luọng tịnh: 58 COOLAIR EP KHỞI NGUỒN YÊU THƯƠNG\n",
            "  [Sample Pred]: CANCN T ANN  THU  CGUYNGCêN THUỜNG Đ 00C  E NI  TRU CIE N THCCIC CTe aCeaaCeeicGCGHCNAHPÀCICII CUNCHU ÊTA       TeA  A  OANAANVO  AANrre n FOrreLe A    0oCEP OA       TO      TUỜNG TA OCINTHU  G C  N THoi T  ng T  g  T0 T   A  AT  TH   TG  NGT N TH ỚNG                 TCC             N      N  N             N NN   N NNN  N NNN  C  NNNNNC          N                            N N      N               NNNN NNNN      NNNN NNNNNN C    N N NNNN NNNNNNNN NNN N NNNNCCNNNN NNNN NCC N   NNNNNNN NNNNCNN  NN NNNNNTN NNN NCNN T   CCNCN CCC  NNCCNNCCCNCCCCCCNCCCCCCCNCNNNNNNCCCNNCCNN NNNNNNNCNNNNNNNNNNNN C  NC CNNNNN NNNNNN  NNN N  N  NNN C   CC \n"
          ]
        },
        {
          "output_type": "stream",
          "name": "stderr",
          "text": [
            " 53%|█████▎    | 80/150 [00:21<00:22,  3.13it/s]"
          ]
        },
        {
          "output_type": "stream",
          "name": "stdout",
          "text": [
            "[Epoch 9 | Batch 80/150] Loss: 2.1413 | CharAcc: 0.405 | Batch size: 8 | Seq len: 211\n",
            "  [Sample GT]:   CÀ PHÊ VĨNH TẤN Café NỮA VẦNG TRĂNG ĐC: 1/13 TÂN HƯNG TÂN HẠNH LHVL ĐT: 0703.949.616\n",
            "  [Sample Pred]: HÔNCHỐ TINH THT THfo THA CIU  THƯNG CƯ: 00   LHM TÀỜG TRN TÀM  HA I ĐT: 0909.3...3.6.  N  NN NN N  NC C  CCNCCNCNCCCCCCC NCCNN NNNNNNCC NNCNNN C  N     CCC  CCCC CC CNCNNC N C CCNCCCCCCCCC  CCCCCCCCC  CNCCCC  C \n"
          ]
        },
        {
          "output_type": "stream",
          "name": "stderr",
          "text": [
            " 67%|██████▋   | 100/150 [00:28<00:13,  3.64it/s]"
          ]
        },
        {
          "output_type": "stream",
          "name": "stdout",
          "text": [
            "[Epoch 9 | Batch 100/150] Loss: 2.6357 | CharAcc: 0.339 | Batch size: 8 | Seq len: 326\n",
            "  [Sample GT]:   GIÁ VÉ: 7.000Đ / LƯỢT YT CỬA THOÁT KHẨN CẤP Tầng CỬA THOÁT KHẨN CẤP nhà Sun Grar nco fb.com/su f CỬA XUỐN Vsmart Oishi VÔ TƯ ĐI! Oishi 4X SNACK BẮP 4 LỚP 4X SỐT SRIRACHA vị cay CAY Lớp độc đáo Lớp giòn tan Lớp độc đáo Lớp giòn tan Lớp đậm đà Lớp đậm đà SNACK BẮP 4 LỚP 4 VỊ PHÔ MAI Oishi 4X 4 LỚP GIÒN TAN THĂNG HẠNG CUỘC VUI\n",
            "  [Sample Pred]: CIÁ TĂ  T00000 C TIƠN TÊRCÔA THÀẠ  THÔN THP CHng ThA THÀ T THÁNHCHP T ú Tố  CiineCgonCoa on. tpCoCHA CE CGC t  e C eee Tĩ TÔƠTT TN togT ETTG   TIP T TỘI T ET   TỐƯNIN A Te T n T   TOc Tưi tưc tOi t  nhth gt c tộ  Tưc tOi n  n t  gt c tưn tộ tIc Tộn tộ tTG  ht P t tÊN t TICT ÁNt   T     T  T TÀI T   GTH GTHÀNG TÀNG T  N TÀ  \n"
          ]
        },
        {
          "output_type": "stream",
          "name": "stderr",
          "text": [
            " 80%|████████  | 120/150 [00:34<00:08,  3.72it/s]"
          ]
        },
        {
          "output_type": "stream",
          "name": "stdout",
          "text": [
            "[Epoch 9 | Batch 120/150] Loss: 2.4217 | CharAcc: 0.359 | Batch size: 8 | Seq len: 157\n",
            "  [Sample GT]:   Sky World KHU VUI CHƠI TRẺ EM SKY WORLD THỂ CHẤT TRÍ TUỆ TÀI NĂNG S D I K M L CHUYÊN TỔ CHỨC SỰ KIỆN SINH NHẬT TẦNG 2 0962 482 388\n",
            "  [Sample Pred]: TỞ  S at  CHU TII THI  TRƯ CM CTH CART  CEA THIT THƯNĐHYNTH ÊTHM  TỐCIĐNTHCÁCƯĐHIYÊN TH TH   CỐ ĐH M TIN  TH P THN  Đ0T1   2   T8   NN NCNC  N       CC    CC\n"
          ]
        },
        {
          "output_type": "stream",
          "name": "stderr",
          "text": [
            " 93%|█████████▎| 140/150 [00:40<00:02,  3.75it/s]"
          ]
        },
        {
          "output_type": "stream",
          "name": "stdout",
          "text": [
            "[Epoch 9 | Batch 140/150] Loss: 2.0980 | CharAcc: 0.421 | Batch size: 8 | Seq len: 169\n",
            "  [Sample GT]:   Kim Oanh R Fashion Thời Trang Công Sở 108 Linh Đông, Thủ Đức Kim O nh COREST\n",
            "  [Sample Pred]: THn KRng C CIo i r Chii mhin  Nhig Ti T   Cing Cing  Thi TTc THệ TFTgiHh       N         C  C  CC     CCCCCCCCCCCCCCCCCCCC    CNNNCCCCCCCCCCN  C  C    C CC  C         C \n"
          ]
        },
        {
          "output_type": "stream",
          "name": "stderr",
          "text": [
            "100%|██████████| 150/150 [00:43<00:00,  3.46it/s]\n"
          ]
        },
        {
          "output_type": "stream",
          "name": "stdout",
          "text": [
            "\n",
            ">>> Epoch 9 completed. Avg Loss: 2.2403 | Avg CharAcc: 0.3903\n",
            "==> Saved new best model at epoch 9 (loss=2.2403)\n",
            "\n",
            "========== EPOCH 10 ==========\n"
          ]
        },
        {
          "output_type": "stream",
          "name": "stderr",
          "text": [
            "  1%|          | 1/150 [00:00<00:58,  2.53it/s]"
          ]
        },
        {
          "output_type": "stream",
          "name": "stdout",
          "text": [
            "[Epoch 10 | Batch 1/150] Loss: 2.3966 | CharAcc: 0.357 | Batch size: 8 | Seq len: 399\n",
            "  [Sample GT]:   HỘI ĐỒNG NHÂN DÂN THÀNH PHỐ LẠNG SƠN UỶ BAN NHÂN DÂN 30 LÊ LỢI PHƯỜNG VĨNH TRAI\n",
            "  [Sample Pred]: CỘI TING TGẬN TÂN THUNH THỐ TÝNH TTN TN TẢN TGẬN TÂN T  2Ễ TỄI THÒƠNG ĐĂNH THU   NNNN NN  N N  N         C CCCC CCCCCCCCC    CN  NN NNCCN N                           C  NN                     CCCC  C  N C     CC     C C   C       CC   C                     C C C          C                         N         N                       N NN                      C             N       N    N NC N     C  \n"
          ]
        },
        {
          "output_type": "stream",
          "name": "stderr",
          "text": [
            " 15%|█▍        | 22/150 [00:07<00:25,  4.96it/s]"
          ]
        },
        {
          "output_type": "stream",
          "name": "stdout",
          "text": [
            "[Epoch 10 | Batch 20/150] Loss: 2.1723 | CharAcc: 0.400 | Batch size: 8 | Seq len: 273\n",
            "  [Sample GT]:   BẮC TỪ LIÊM THÔNG TIN QUẢNG CÁO RAO VẶT Tuyển nhân viên CHO THUÊ\n",
            "  [Sample Pred]: CẢC TH TIÊN THANG TIN TUANG TÁN TI  TIC THyềngTgỉn Tànn ThUNTHàNN    C      CNCCAN A    ACNNNNCC ACCCCCCACCCCCCCCCCCCCCCCCCC CCCNANCNCCCCCCCCC    C  C C   CCC  C CCCCCCC     C CCC CCCCCCC  CCCCCCCCCCCCCCC CCCCC  CCCCCCCCCCCCCC  CCCCCCCC       C C C C CCCCCCCCC CCC     CCCC\n"
          ]
        },
        {
          "output_type": "stream",
          "name": "stderr",
          "text": [
            " 27%|██▋       | 40/150 [00:12<00:34,  3.23it/s]"
          ]
        },
        {
          "output_type": "stream",
          "name": "stdout",
          "text": [
            "[Epoch 10 | Batch 40/150] Loss: 2.1666 | CharAcc: 0.407 | Batch size: 8 | Seq len: 212\n",
            "  [Sample GT]:   HANOI CÔNG TY ĐIỆN LỰC HAI BÀ TRƯNG TRẠM BIẾN ÁP LƯƠNG YÊN CC Khi có sự cố xin gọi điện: 0242225225\n",
            "  [Sample Pred]: CONH  THNG TY TƯỆN TƯC TIN TA NHAỜG THƯN TẢỆN TO TƯUNG TÊN THÁTHunto taath tiệ tic tiện  T902000 000t      CC CCCCCCNCCCCCCC NNN CCCCCCC CC C C CC      CC          CC     C CC C CN C CNCCNCCCCCCCCCCCCCCCCNNNCCCCC\n"
          ]
        },
        {
          "output_type": "stream",
          "name": "stderr",
          "text": [
            " 40%|████      | 60/150 [00:19<00:39,  2.28it/s]"
          ]
        },
        {
          "output_type": "stream",
          "name": "stdout",
          "text": [
            "[Epoch 10 | Batch 60/150] Loss: 2.2626 | CharAcc: 0.376 | Batch size: 8 | Seq len: 295\n",
            "  [Sample GT]:   SUN CGV Hotpot Sakura Montessori International School Sun Grand Ancora Residence số 3 Lương Yên, Q. Hai Bà Trưng 50m 0962482388 Trường Sakura Lương Yên Hà Nội Mầm Non Montessori\n",
            "  [Sample Pred]: TỞN THA COt  r Cố     Cong    r  Nn        r   too    Sor tiir  S gan  Sor a   o S  t tàờng tên  Đu Đa  Hì Thàờg T   Đ          0ru n  Bố   ư toờn  tên to Tộc Tin Tgn Ting :  nư o            CT CTTCCT  TTTTTTTTCC T TTTTTTC T T CTT  TTTTTT   TTTTTTTTTTTTTTTTTTTTTTTTTTTTCTCCTTTCTCTTT TT  TC  CTT \n"
          ]
        },
        {
          "output_type": "stream",
          "name": "stderr",
          "text": [
            " 54%|█████▍    | 81/150 [00:24<00:18,  3.74it/s]"
          ]
        },
        {
          "output_type": "stream",
          "name": "stdout",
          "text": [
            "[Epoch 10 | Batch 80/150] Loss: 2.1906 | CharAcc: 0.395 | Batch size: 8 | Seq len: 163\n",
            "  [Sample GT]:   Xuân 2014 Xuân 2014\n",
            "  [Sample Pred]: CIấn T212 2E n B012 nNTN TNNCCNCNNNNMTCCCCN NTTTTCT NNNCNTCNCTTCCCCCNCT TTCCCCCN NNN TTNCCCCNNNCMMT NCCCCCTCCNCNCNCCCCCCCCCCTNNNNTCNNCCCTCCCNN TNC N  TCCTCCCNNCNTM\n"
          ]
        },
        {
          "output_type": "stream",
          "name": "stderr",
          "text": [
            " 67%|██████▋   | 100/150 [00:29<00:21,  2.36it/s]"
          ]
        },
        {
          "output_type": "stream",
          "name": "stdout",
          "text": [
            "[Epoch 10 | Batch 100/150] Loss: 2.0818 | CharAcc: 0.417 | Batch size: 8 | Seq len: 323\n",
            "  [Sample GT]:   CỔNG TRƯỜNG AN TOÀN GIAO THÔNG Phía trước tay lái là cuộc sống Nhanh một phút, chậm cả đời BẢO VIỆT VĨNH LONG TRƯỜNG EM XANH, SẠCH, ĐẸP AN TOÀN GIAO THÔNG AN TOÀ AN TOÀN GIA Ngân hàng TMCP Vietc chi nhá\n",
            "  [Sample Pred]: CẦNG THƯỜNG TNHTRÀN TIAN THANG THá nTriơn Trn Tic cannhai cingàchiig Tới đhàc  thán th cin cẢN TIỆT NINH TONG THUỜNG T ITI G  TTNH  TTP T  T ÀN T    T ANG TNGTYÀNTNGTR N T   TGày Tà   T    Ti n  T i N en         T     T            T  T TTTTT TN T  TTT NTTT    TTTTTN T  NNTTT T    TTT  TTCCCT TTT     NN N   NNNNNN N NNCCNN\n"
          ]
        },
        {
          "output_type": "stream",
          "name": "stderr",
          "text": [
            " 81%|████████  | 121/150 [00:35<00:07,  3.65it/s]"
          ]
        },
        {
          "output_type": "stream",
          "name": "stdout",
          "text": [
            "[Epoch 10 | Batch 120/150] Loss: 2.1605 | CharAcc: 0.395 | Batch size: 8 | Seq len: 168\n",
            "  [Sample GT]:   UBND XÃ LỘC HÒA PGD - ĐT HUYỆN LONG HỔ TRƯỜNG MẦM NON TƯ THỤC HỒNG ÂN ĐC: ẤP LONG HÒA - XÃ LỘC HÒA - HUYỆN LONG HỒ - TỈNH VĨNH LONG ĐT 0703 957776 CÁ GIỐNG TR IỆ THẮNG\n",
            "  [Sample Pred]: CB   TE HỘC TỘA TH  T TT:TUYẾN TONG TỌ THƯỜNG TẠN THNGTH THÔ  TÀNG TNGTT: 0P TƯNG TƯN T TE HƯ  TƯA - POYÊN TONG TÀ T TRNH TĨNH TONG TT:T909 T    7 0H TIA H THƯTÊMT  NH \n"
          ]
        },
        {
          "output_type": "stream",
          "name": "stderr",
          "text": [
            " 93%|█████████▎| 140/150 [00:39<00:01,  5.22it/s]"
          ]
        },
        {
          "output_type": "stream",
          "name": "stdout",
          "text": [
            "[Epoch 10 | Batch 140/150] Loss: 2.1886 | CharAcc: 0.388 | Batch size: 8 | Seq len: 168\n",
            "  [Sample GT]:   LED BẢNG HIỆU HỘP ĐÈN\n",
            "  [Sample Pred]: CỐX CIO  TÀÊT TOI TẠOG M           C    C  C          N C C N CCCCCC  C      CN      TN C     CC       C   CC CCCCCCCCNCC   N   NCNN    N TN        T        NC        N\n"
          ]
        },
        {
          "output_type": "stream",
          "name": "stderr",
          "text": [
            "100%|██████████| 150/150 [00:43<00:00,  3.42it/s]\n"
          ]
        },
        {
          "output_type": "stream",
          "name": "stdout",
          "text": [
            "\n",
            ">>> Epoch 10 completed. Avg Loss: 2.1959 | Avg CharAcc: 0.4006\n",
            "==> Saved new best model at epoch 10 (loss=2.1959)\n",
            "\n",
            "========== EPOCH 11 ==========\n"
          ]
        },
        {
          "output_type": "stream",
          "name": "stderr",
          "text": [
            "  1%|          | 1/150 [00:00<00:26,  5.64it/s]"
          ]
        },
        {
          "output_type": "stream",
          "name": "stdout",
          "text": [
            "[Epoch 11 | Batch 1/150] Loss: 2.0082 | CharAcc: 0.446 | Batch size: 8 | Seq len: 161\n",
            "  [Sample GT]:   RĂNG TRẺ EM RĂNG HÀ NỘI\n",
            "  [Sample Pred]: TANG THU NL TANG TỘNNỘI  N  N T  N NTACT N  NN        N  NN  CTTNC C NN       NN      NN C   N     N N     CC NNANN CNCNC NC  NCNNNNNCC  NN T  N  C           C  \n"
          ]
        },
        {
          "output_type": "stream",
          "name": "stderr",
          "text": [
            " 14%|█▍        | 21/150 [00:05<00:34,  3.71it/s]"
          ]
        },
        {
          "output_type": "stream",
          "name": "stdout",
          "text": [
            "[Epoch 11 | Batch 20/150] Loss: 2.0993 | CharAcc: 0.417 | Batch size: 8 | Seq len: 280\n",
            "  [Sample GT]:   CUNG MICOEM ĐÌNH Sợi Khoai tây Ngon ơi là ngon! Tạp hoá Thành Đức Rượu bia Bánh kẹo Thuốc lá ĐC: Nhà 3 Xóm Giếng, Phú Diễn, Từ Liêm, HN ĐT: 0947407707\n",
            "  [Sample Pred]: CÔNG TỪNH   CINH CỬn CHuà  nhy Lgàngca 1àytgà g Thi Tàànđh yg nồc Tẻờn đạn đình chp chiyc Cànci: :Gu T 2Ãn Tiện   Thú Ti n  Tr Ti n  TàHTT: 093474955 7  CC0  N  CCCCNNTNCCCMNCCCC CNCCCCCCCCCCCCCCCCCCCCCCCCCCCCC  CCCCNCCCCCCCCC  CCCCCCC  CC      CCCCCCCCCCCCCCCCCCCCC  CC CCCCC C  \n"
          ]
        },
        {
          "output_type": "stream",
          "name": "stderr",
          "text": [
            " 27%|██▋       | 41/150 [00:11<00:35,  3.04it/s]"
          ]
        },
        {
          "output_type": "stream",
          "name": "stdout",
          "text": [
            "[Epoch 11 | Batch 40/150] Loss: 2.0953 | CharAcc: 0.443 | Batch size: 8 | Seq len: 100\n",
            "  [Sample GT]:   LỐI VÀO TRUNG TÂM THƯƠNG MẠI SHOPPING CENTER\n",
            "  [Sample Pred]: CỐI TÀO THANG THM THAỜNG TII TION EN  THNAYR      CATCC   C CCCCCCCCTCCCCCCCCCCC C  CTC CCC C CC  C \n"
          ]
        },
        {
          "output_type": "stream",
          "name": "stderr",
          "text": [
            " 39%|███▉      | 59/150 [00:16<00:25,  3.53it/s]"
          ]
        },
        {
          "output_type": "stream",
          "name": "stdout",
          "text": [
            "[Epoch 11 | Batch 60/150] Loss: 2.1180 | CharAcc: 0.417 | Batch size: 8 | Seq len: 193\n",
            "  [Sample GT]:   TOTO LINK THE SMARTEST NETWORK DEVICES MÁY TÍNH LANH DUNG LAPTOP PC ĐIỆN THOẠI MÁY IN CAMERA ĐC: SỐ 60 ĐƯỜNG CHIẾN THẮNG VĂN QUÁN HÀ NỘI ĐT: 0917755288 0988366305\n",
            "  [Sample Pred]: CHÀ  CIỆ ETHU CƠ NEIR IOGR AN  CARINER OAC TH H TO O AUCG CA H  OTHCTCỆN THÀÀI T T HẾHTH ER  AC: 3Ử P  CTỜNG TỔ  T THÀN  ĐÀN VUYN ĐÀ NGI Đ   090977  4 6090 888989 N0TTT  T   CCC C   CC C CC    \n"
          ]
        },
        {
          "output_type": "stream",
          "name": "stderr",
          "text": [
            " 54%|█████▍    | 81/150 [00:21<00:11,  6.19it/s]"
          ]
        },
        {
          "output_type": "stream",
          "name": "stdout",
          "text": [
            "[Epoch 11 | Batch 80/150] Loss: 2.0410 | CharAcc: 0.439 | Batch size: 8 | Seq len: 151\n",
            "  [Sample GT]:   QUÁN ĂN HÀN QUỐC SƯỜN NƯỚNG HÀN QUỐC 4/4 Nguyễn Binh Khiêm P.Đakao, Q.1 ĐT: 39.106253 www.suonnuong quoc.com KOR 4/4 R\n",
            "  [Sample Pred]: TUÁN HN KONGGUỐC HỐ NGTGỚCG TO HTUYC T 2 TGuyễn Tì h Thuan T. Tn  n T.  TT: 0073 1..2.0ww.nham  .n  TuanacomaTiNIT   T iC C   NCMNCCCCCCC CN  C   C    \n"
          ]
        },
        {
          "output_type": "stream",
          "name": "stderr",
          "text": [
            " 67%|██████▋   | 101/150 [00:28<00:14,  3.41it/s]"
          ]
        },
        {
          "output_type": "stream",
          "name": "stdout",
          "text": [
            "[Epoch 11 | Batch 100/150] Loss: 2.0982 | CharAcc: 0.439 | Batch size: 8 | Seq len: 211\n",
            "  [Sample GT]:   CocaCola THÔNG BÁO CÔNG VIÊN NƯỚC ĐANG TRONG THỜI GIAN DUY TU, BẢO DƯỠNG NÊN TẠM DỪNG HOẠT ĐỘNG MONG Q Ý KHÁCH THÔNG CẢM VÀ HẸN ĐÓN TIẾP QUÝ KHÁCH TRONG THỜI GIAN SỚM NHẤT, TRÂN TRỌNG!\n",
            "  [Sample Pred]: BÔfofof  ThONG TỪN THN  TIỆN THỚI TIOG TRƯNG TIỊN TIAOHTỰNỂTIY TÌN TIƠNG TGN THI TING TIAI TỘNG T ÁG TUT THON  THANH THI TI TOP TIN NR T TUY THONH TRIN  TIII TI N TAP TG T  THƯN N ƯN    N  NNCCTCCCCCCCCNTCTTCCCC\n"
          ]
        },
        {
          "output_type": "stream",
          "name": "stderr",
          "text": [
            " 80%|████████  | 120/150 [00:33<00:12,  2.42it/s]"
          ]
        },
        {
          "output_type": "stream",
          "name": "stdout",
          "text": [
            "[Epoch 11 | Batch 120/150] Loss: 2.4630 | CharAcc: 0.354 | Batch size: 8 | Seq len: 520\n",
            "  [Sample GT]:   CAFE SỮA 12000\n",
            "  [Sample Pred]: ChOE SAA B0 000             CC                                  C C C C C C         C     CC         CCC CC CCC  C C CCC            C CC                                C                                                    C                       C       C       C         C                                                 CC       C     C C                                         C                C                   N                C CC CCC                                  N  C        C   C           C C     C       \n"
          ]
        },
        {
          "output_type": "stream",
          "name": "stderr",
          "text": [
            " 93%|█████████▎| 140/150 [00:40<00:03,  2.99it/s]"
          ]
        },
        {
          "output_type": "stream",
          "name": "stdout",
          "text": [
            "[Epoch 11 | Batch 140/150] Loss: 2.0687 | CharAcc: 0.443 | Batch size: 8 | Seq len: 164\n",
            "  [Sample GT]:   Cá chép hoá Rồng ĐÀ NẴNG - VIỆT NAM\n",
            "  [Sample Pred]: CHcChà  CitcCAng Cạ TGNG C HĂỆT TAM MAAAAACCCCCCCCCCCCMCCCCCCCCCCCCCCCCCC CCCCCCC CCCCCCCCCACCCCCCTCCCCCCCCCCCCCCCCCCCCCCCCCC CCCCCNCCCCCCCC C C C CCCC  CC C   C C \n"
          ]
        },
        {
          "output_type": "stream",
          "name": "stderr",
          "text": [
            "100%|██████████| 150/150 [00:43<00:00,  3.47it/s]\n"
          ]
        },
        {
          "output_type": "stream",
          "name": "stdout",
          "text": [
            "\n",
            ">>> Epoch 11 completed. Avg Loss: 2.1469 | Avg CharAcc: 0.4121\n",
            "==> Saved new best model at epoch 11 (loss=2.1469)\n",
            "\n",
            "========== EPOCH 12 ==========\n"
          ]
        },
        {
          "output_type": "stream",
          "name": "stderr",
          "text": [
            "  1%|          | 1/150 [00:00<00:52,  2.86it/s]"
          ]
        },
        {
          "output_type": "stream",
          "name": "stdout",
          "text": [
            "[Epoch 12 | Batch 1/150] Loss: 2.0599 | CharAcc: 0.447 | Batch size: 8 | Seq len: 115\n",
            "  [Sample GT]:   CẦU THANH QUÝT KM 944 +937 ,11 QL1A\n",
            "  [Sample Pred]: CÔU THINH TUỐ  KH K9  K    K   5L             C     C  NN  CCNNNC       CCNCCC CC NN C CCCCN CCC CNT  CCCCCCCCCCCCC\n"
          ]
        },
        {
          "output_type": "stream",
          "name": "stderr",
          "text": [
            " 14%|█▍        | 21/150 [00:05<00:31,  4.05it/s]"
          ]
        },
        {
          "output_type": "stream",
          "name": "stdout",
          "text": [
            "[Epoch 12 | Batch 20/150] Loss: 2.1909 | CharAcc: 0.413 | Batch size: 8 | Seq len: 410\n",
            "  [Sample GT]:   Café AN NHIÊN ĐỒ UỐNG NHẸ & THỨC ĂN NHANH 32\n",
            "  [Sample Pred]: THfe TN T À N TƯNCỶN  TGI T THÔC TN ĐGON  T    A AC CNCCCCCCCCCCCC CCCCCCCCCCCCCC C NCCCCCCC CCCCC CCCCCCCCCCCCCCCCCCCCCCCC CCNCCCCCCNCCCCCCCCCCCCCC   CC C   CCC C CCCCCCCC    CCCC C CCCCCCCCCCCCCCCCC CCC CCC  C CC  C C   CCC   C  CCC C CC  C  CCC C CCCC  CCCCCC CCC   C CCCCC C     C  CCC  CC C  C     CC   C CCC   CCCCN       C     C C CCNC  CC  CC CC C CCC  C   C C  CC C C   CN N C  C CC     C C CCCCCC   N\n"
          ]
        },
        {
          "output_type": "stream",
          "name": "stderr",
          "text": [
            " 27%|██▋       | 40/150 [00:10<00:22,  4.96it/s]"
          ]
        },
        {
          "output_type": "stream",
          "name": "stdout",
          "text": [
            "[Epoch 12 | Batch 40/150] Loss: 2.0224 | CharAcc: 0.457 | Batch size: 8 | Seq len: 237\n",
            "  [Sample GT]:   NHÀ NGHỈ TIẾN PHÚC TIỆN NGHI CÓ PHÒNG TẬP THỂ ĐT: 0643.661.123 0121.714.7769\n",
            "  [Sample Pred]: THÀ NỘHINTHẾNHTHƯC NHNN TGOI TH THÉNG THP THỂ ĐT: 093333888515.098.63.62757.   NCNNCC CCCCCCCC C C C CCCCCCCCCCCCCCCCCCCCCC CC CCNNN NCCNCCCNNCCC N       C   CCCCCCNC CN  C  C CCC  C C  C  CC C  CC C CC CC N C   C   NCCCCC C   N  C CCCC \n"
          ]
        },
        {
          "output_type": "stream",
          "name": "stderr",
          "text": [
            " 40%|████      | 60/150 [00:17<00:20,  4.44it/s]"
          ]
        },
        {
          "output_type": "stream",
          "name": "stdout",
          "text": [
            "[Epoch 12 | Batch 60/150] Loss: 2.0548 | CharAcc: 0.428 | Batch size: 8 | Seq len: 332\n",
            "  [Sample GT]:   NG X NH D KHU VỰC BIÊN GIỚI BIỂN SEA BOUNDARY AREA\n",
            "  [Sample Pred]: CHÀTENG VỰVHU VIC CIỆN ĐIÁI TIỂU BA  CONNDI A CNA  NAA ACCCCCCNCCCCCCCCCC   CCC C CC  CC  C C CC   CCC CCCCCCCCCCCCCCCCCCCCCN CNCCCNNC NCC C CCC CC       CC  CNCCCCC  CNC   C C       CCC    CC CCCCCN NCCCNCCCCNCN N C NNCC CC CC C  CC N C T  TC CCC   CN CCC CNCCC NC CC C CCCC C    C N C C C  T  CMC N    MN  NCNC CNC  NCM CN  N CC  \n"
          ]
        },
        {
          "output_type": "stream",
          "name": "stderr",
          "text": [
            " 53%|█████▎    | 80/150 [00:21<00:15,  4.43it/s]"
          ]
        },
        {
          "output_type": "stream",
          "name": "stdout",
          "text": [
            "[Epoch 12 | Batch 80/150] Loss: 1.9537 | CharAcc: 0.439 | Batch size: 8 | Seq len: 367\n",
            "  [Sample GT]:   ĐẠI HỘI ĐẢNG CỘNG SẢN VIỆT NAM XI\n",
            "  [Sample Pred]: CƯI HỌI HONG HÔNG TẢN HÀỆT NAM NINNNNCNCCN CN CC CCCCCCCCNCNNCCNCCCNCCCNC  NCC   CC CCCCCC C N CC NTNCCCCCCCCCCCNCCCCCCNCC     NNNNNCNCNCN CN      C    CC    NCC  CC  NCN  CCC N   C C  C CCC  C CC CC N  N       C  CNNN CCC     CC C        C        C C  CC C  CCCCC C   NCC NC     CCCN C         CCNN   N   NNNN    NCN  N  N NC C C  NN  CN N       C  N       N        \n"
          ]
        },
        {
          "output_type": "stream",
          "name": "stderr",
          "text": [
            " 67%|██████▋   | 100/150 [00:28<00:14,  3.37it/s]"
          ]
        },
        {
          "output_type": "stream",
          "name": "stdout",
          "text": [
            "[Epoch 12 | Batch 100/150] Loss: 2.0290 | CharAcc: 0.439 | Batch size: 8 | Seq len: 270\n",
            "  [Sample GT]:   VINSCHOOL School C Nơi ươm mầm tinh hoa TRƯỜNG MẦM NON VINSCHOOL I VINSCHOOL VINSCHOOL VINSCHOOL GIỜ LÀM VIỆC MẦM NON VINSCHOOL VINSCHOOL An IPC School IPC International Preschool IPC An IPC School\n",
            "  [Sample Pred]: CIỆHTOOM  TỬ opniCoCHn Cơn cớn Thnh toa thƯỜNG TừM T NGTIỆ T I   SNTENTTO NNICINHTOINN TIEATO MN TIN TO  NINT N U NAM TIN TOOMN NINGTOONM TNgTNO T  onm In oTNeen t  tnet I    oonn I  oIneI   SIoomm    CC T CNC   CC  T  CC CT  TCCC C T T T    TN  T   CCCC C CCCCC     C C\n"
          ]
        },
        {
          "output_type": "stream",
          "name": "stderr",
          "text": [
            " 80%|████████  | 120/150 [00:34<00:08,  3.71it/s]"
          ]
        },
        {
          "output_type": "stream",
          "name": "stdout",
          "text": [
            "[Epoch 12 | Batch 120/150] Loss: 2.0820 | CharAcc: 0.425 | Batch size: 8 | Seq len: 157\n",
            "  [Sample GT]:   TRẦN VĂN HIỀN\n",
            "  [Sample Pred]: CRƯN TÀNGTOỆN  N  CNNNC NNCNCCCNN  C CCCNCCNCCCC  NNUNN NNC NCCNNN N PCPCTTCC N   NN N NANCNNNCNNNNNTNCTCCCCCNCNCCCNNNNNNNNTNNNCCN NN NNNTCNNNNNTNCC  T  CC C\n"
          ]
        },
        {
          "output_type": "stream",
          "name": "stderr",
          "text": [
            " 93%|█████████▎| 140/150 [00:41<00:03,  2.55it/s]"
          ]
        },
        {
          "output_type": "stream",
          "name": "stdout",
          "text": [
            "[Epoch 12 | Batch 140/150] Loss: 2.1270 | CharAcc: 0.444 | Batch size: 8 | Seq len: 211\n",
            "  [Sample GT]:   CÔNG TY TNHH ĐẦU TƯ BẤT ĐỘNG SẢN GIA ÂN \"SỨC MẠNH CỦA CHÚNG TÔI LÀ BẠN\" 315 HAI BÀ TRƯNG PHƯỜNG 6, TP. ĐÀ LẠT ĐT: 0932. 25 43 99 ĐẦU TƯ MUA BÁN KÝ GỬI BẤT ĐỘNG SẢN TƯ VẤN THIẾT KẾ THI CÔNG CÔNG TRÌNH DÂN GIA ÂN\n",
            "  [Sample Pred]: CÔNG TY TNH  TIU TƯ PUN BƯ G TẢN CIÁ TN TSAC CÁN  TH  NH  G THN TÀ NỘN  N0  CÀI NUNBHƯỜG NHƯỜNG T  TP. TT TÝN TT: 098833B7 T783  1TU T: T   TIN TH TII TÁT TÀ G TAN T  TẤN TRU T THTT Ô T NG T NG THƯN  TÂN T  NTN \n"
          ]
        },
        {
          "output_type": "stream",
          "name": "stderr",
          "text": [
            "100%|██████████| 150/150 [00:44<00:00,  3.40it/s]\n"
          ]
        },
        {
          "output_type": "stream",
          "name": "stdout",
          "text": [
            "\n",
            ">>> Epoch 12 completed. Avg Loss: 2.1047 | Avg CharAcc: 0.4217\n",
            "==> Saved new best model at epoch 12 (loss=2.1047)\n",
            "\n",
            "========== EPOCH 13 ==========\n"
          ]
        },
        {
          "output_type": "stream",
          "name": "stderr",
          "text": [
            "  1%|▏         | 2/150 [00:00<00:31,  4.68it/s]"
          ]
        },
        {
          "output_type": "stream",
          "name": "stdout",
          "text": [
            "[Epoch 13 | Batch 1/150] Loss: 2.0201 | CharAcc: 0.457 | Batch size: 8 | Seq len: 241\n",
            "  [Sample GT]:   VĂN PHÒNG LUẬT SƯ HÀ VĂN VĨNH ĐC: 33/15A PHẠM THÁI BƯỞNG, P4, TP. VĨNH LONG ĐT: 0703 825 761 - 0933 491 090 - 0932 540 515 - 0963 553 695 VĂN PHÒNG LUẬT SƯ HÀ VĂN VĨNH TƯ VẤN MIỄN PHÍ ỘI THẤT VINH PHÁT ĐC\n",
            "  [Sample Pred]: CIN HHÚNG HÀẬT TI TÀNNÀN HÀNH TT: T      THƯM HHƯI TỘỜNG  TH  TP. TĨNH TONG HT: 0907.033 T0.6- -9  8-   09  1 -93. 0  9-   - 09   0   88  8ĂN LHÓNG H ẬT TỐ H NTĂN HĂNH T ỜTIN T ỆN THO TI TH T HIỆ  THƯT TT         C   CTCCCC       TCTTTTCTTT \n"
          ]
        },
        {
          "output_type": "stream",
          "name": "stderr",
          "text": [
            " 13%|█▎        | 20/150 [00:06<01:00,  2.13it/s]"
          ]
        },
        {
          "output_type": "stream",
          "name": "stdout",
          "text": [
            "[Epoch 13 | Batch 20/150] Loss: 1.9564 | CharAcc: 0.471 | Batch size: 8 | Seq len: 174\n",
            "  [Sample GT]:   KHANG PHƯƠNG VẬT LIỆU ĐIỆN NƯỚC CÔNG TRÌNH ĐANG THI CÔNG BÊ TÔNG MẶT ĐƯỜNG CẤM CÁC LOẠI XE CƠ GIỚI Dulux\n",
            "  [Sample Pred]: CHUIG THÒƠNG TIT CƯỂU NỘỂN NAƠC THNG TRƯNH TẠ H THÔỂTHNG TẠNTHIG TIC TIỜNG TƯP TỦ  CO I CE CH CIÁI TỤN n:  CCCCTCCC CCCCCC C   N   N C   C C             CC   NN C     NCNC C \n"
          ]
        },
        {
          "output_type": "stream",
          "name": "stderr",
          "text": [
            " 27%|██▋       | 40/150 [00:12<00:43,  2.56it/s]"
          ]
        },
        {
          "output_type": "stream",
          "name": "stdout",
          "text": [
            "[Epoch 13 | Batch 40/150] Loss: 2.0644 | CharAcc: 0.429 | Batch size: 8 | Seq len: 392\n",
            "  [Sample GT]:   LÀNG VỒM\n",
            "  [Sample Pred]: CỐNG CÀ   CCTT C CCCCCCC   CCCCC CCCCCCCCCCCC    CCCCCCCCCCCCCTCCCCCCCCCT T C  TCCCTTCCCCCTCCCUCCTCTCTCCCCCCCCCC CCCCCTCCCCCCTCCNNNC CCNCCCPCCC  CC CC CCCCC CCC C CCCNC   CCCCCC CCC CCNCC CCCCCCCCCCCC CCCCCCC C CCCCCCCCCCCCCCCCCCCTCCCCNCC  CCC CCCCCCCC CCCC CC CCCCCNCCCC CCCCCC CCCCCCCC CPCCN CCC CCC NCC CCCNCCCCN CCCCCCCCCCCCCC TC NCCCTCCCCCCPC CCC NCCC  C  C CC CC C CCCC    CC C CCCCCCCC\n"
          ]
        },
        {
          "output_type": "stream",
          "name": "stderr",
          "text": [
            " 40%|████      | 60/150 [00:19<00:36,  2.44it/s]"
          ]
        },
        {
          "output_type": "stream",
          "name": "stdout",
          "text": [
            "[Epoch 13 | Batch 60/150] Loss: 2.1220 | CharAcc: 0.410 | Batch size: 8 | Seq len: 157\n",
            "  [Sample GT]:   KHU DU LỊCH SINH THÁI BẢO SƠN\n",
            "  [Sample Pred]: ĐHÁ VU CỊCH SIÊH ĐHUN BAO HHN     SCC C C N C CC   C CSCCCCCC S P CCPP  PC TCPCPS CC C C  CCCNPCCP PPC PCPCCCPCCSCCCCCCCC CCC  CCCN CCCCPC CCC C C   C CP    \n"
          ]
        },
        {
          "output_type": "stream",
          "name": "stderr",
          "text": [
            " 54%|█████▍    | 81/150 [00:24<00:19,  3.48it/s]"
          ]
        },
        {
          "output_type": "stream",
          "name": "stdout",
          "text": [
            "[Epoch 13 | Batch 80/150] Loss: 2.0992 | CharAcc: 0.444 | Batch size: 8 | Seq len: 179\n",
            "  [Sample GT]:   NGUYỄN HUYỀN Beauty Spa & Clinic 097799 988 Số Đườn Số 6, Hà Đô Centr sa, Quận 10 6,\n",
            "  [Sample Pred]: CH YỄN TUY N TÁt t  TporC HoonanoG99979 16  1I HIờngTố H  Ho Nà Thng  Har Huật T  2   NNNNN   C C CNNCCCCCCCCCCCCCCCCTCCCCCCCNCNCNNNNCCCNTCCCNCC CC     CC  CCCCCCCCCNC T  C T  CC \n"
          ]
        },
        {
          "output_type": "stream",
          "name": "stderr",
          "text": [
            " 67%|██████▋   | 100/150 [00:29<00:11,  4.47it/s]"
          ]
        },
        {
          "output_type": "stream",
          "name": "stdout",
          "text": [
            "[Epoch 13 | Batch 100/150] Loss: 2.1635 | CharAcc: 0.395 | Batch size: 8 | Seq len: 154\n",
            "  [Sample GT]:   MEET The Best Coffee & Tea from Korea & MORE HỆ THỐNG TRÀ SỮA HÀN QUỐC 164 Lê Quang Định, P.14, Q.Bình Thạnh www.MeetandMore.vn Hotline: 0967 827 728\n",
            "  [Sample Pred]: CeTT CHu TAnt Conoe  T Tr nCeereC nienC C R  CO THÀN  THƯ TÁA CÀNGNUỐC T   TÀnĐUanh ĐTah  T.    Đ. Inh Trành Tww.veee nh  neeen.Tàneefe: 09.670 4 w95   C \n"
          ]
        },
        {
          "output_type": "stream",
          "name": "stderr",
          "text": [
            " 80%|████████  | 120/150 [00:35<00:10,  2.94it/s]"
          ]
        },
        {
          "output_type": "stream",
          "name": "stdout",
          "text": [
            "[Epoch 13 | Batch 120/150] Loss: 2.3899 | CharAcc: 0.370 | Batch size: 8 | Seq len: 525\n",
            "  [Sample GT]:   NHÀ ĐIỀU TRỊ NỘI KHOA NHÀ ĐIỀU TRỊ NHI KHOA KHOA THẬN NHÂN TẠO KHOA PHỤC HỒI CHỨC NĂNG CỔNG 72 NGUYỄN THÁI HỌC NG TẠP HÓ BẢO TRANH NGHỆ THUẬT TRANH HÁI SƠN VẬT\n",
            "  [Sample Pred]: CỘÀ NOỆU THƯ TỘI THÁA TGI NẠỆU TRƯ NGẬ THUT CHÁA THÁP ĐỘẬN THO THÁA THÁ  TU  THÍU CGNG TH G T  TGHYỄN THƯT TỌC TG THN.TÓ TẢO THƯ G TGHINTHUẬT N UNH TƯT TƠ  TĨT NN NNNN   C CC  CCC C C CC C   C CCCC C  C CC  N     CC C C CC C   C  CC C CCC C    CCCC NCCC CCCCCCCCCC N   CCCC CC    C N  CCCCCC   NNCM NCNN           CC  CC CCNN          MCM C      P   C        CC C          C               CC   C C N  C  N  CC      C   C     CC  C  C   CCC   C C  CC      C  C TCC CC  C     CCC CC CCC    NC  CCCCCC   C NNNN C   CC C  C  CC  \n"
          ]
        },
        {
          "output_type": "stream",
          "name": "stderr",
          "text": [
            " 93%|█████████▎| 140/150 [00:40<00:02,  4.21it/s]"
          ]
        },
        {
          "output_type": "stream",
          "name": "stdout",
          "text": [
            "[Epoch 13 | Batch 140/150] Loss: 1.9225 | CharAcc: 0.489 | Batch size: 8 | Seq len: 230\n",
            "  [Sample GT]:   p xanh phẩm ỦY BAN NHÂN DÂN THÀNH PHỐ HÀ NỘI CÔNG TY TNHH MTV ĐẦU TƯ VÀ PHÁT TRIỂN NÔNG NGHIỆP HÀ NỘI CHỢ CẦU DIỄN ĐỊA CHỈ : PHƯỜNG PHÚC DIỄN QUẬN BẮC TỬ LIÊM HÀ NỘI\n",
            "  [Sample Pred]: ChK yh Đhàm tY CÌNHCHÀN DAN THINH PHỐ TẢ NỘI THNG TY TRHH V HINTU TƯ TI NHỐT CHIÊN CHNG TGHIỆM TÁ NỘI CHÚ CHU TI N TẦN THỈ N HHỤỚNG THÁC NĐ NHTUỐT TẮC TH TI N TÀ NHI  CCCCCCCCCCCCCCCCCCCCCCCCCCCCCCCCCCCCCCCCCCCCCCCCCCCCCCCCCCCCCCC\n"
          ]
        },
        {
          "output_type": "stream",
          "name": "stderr",
          "text": [
            "100%|██████████| 150/150 [00:43<00:00,  3.42it/s]\n"
          ]
        },
        {
          "output_type": "stream",
          "name": "stdout",
          "text": [
            "\n",
            ">>> Epoch 13 completed. Avg Loss: 2.0499 | Avg CharAcc: 0.4310\n",
            "==> Saved new best model at epoch 13 (loss=2.0499)\n",
            "\n",
            "========== EPOCH 14 ==========\n"
          ]
        },
        {
          "output_type": "stream",
          "name": "stderr",
          "text": [
            "  1%|          | 1/150 [00:00<01:01,  2.44it/s]"
          ]
        },
        {
          "output_type": "stream",
          "name": "stdout",
          "text": [
            "[Epoch 14 | Batch 1/150] Loss: 1.8994 | CharAcc: 0.481 | Batch size: 8 | Seq len: 210\n",
            "  [Sample GT]:   THẨM MỸ VIỆN PLACENCARE KÍNH CHÀO QUÝ KHÁCH !\n",
            "  [Sample Pred]: CHAM TÓ TIỆT NHOC   OLE CHNH CHUO CUỐ THÁNH T CCCCCCCCCCCCCCCCCCCCCCCCCCCCCCCCCCCCCCCCCCCCCCCCCCCCCCCCCCCCCCCCCCCCCCCCCCCCCCCCCCCCCCCCCCCCCCCCC CCCCC0CPCCCCCCCCCCC CCCCCCCCCCCCCCCCCCCCCCCCCCCCCCCCCCCCCCCCCCCCC\n"
          ]
        },
        {
          "output_type": "stream",
          "name": "stderr",
          "text": [
            " 13%|█▎        | 20/150 [00:05<00:25,  5.11it/s]"
          ]
        },
        {
          "output_type": "stream",
          "name": "stdout",
          "text": [
            "[Epoch 14 | Batch 20/150] Loss: 2.0695 | CharAcc: 0.423 | Batch size: 8 | Seq len: 268\n",
            "  [Sample GT]:   Năng lực tư duy bậc cao Ngôn ngữ - - Sáng tạo APAX LEADER\n",
            "  [Sample Pred]: THn  Mực sướsuấ cạt sá  cgungtgà t L -A g -rt s ER -A     nN  CCCCC C C C  CCC CCCCCCCC CCCCC PAC   UCCC  CCCCCCCCCCCCCCCCCCC  CCCCCCCCCCCPTCA PPC     CPCC P   C CC C   CC  C C   C  C  C  PC CCCCC   C CC  C    C  C  CC     CC         C               C C  CCCC  CCC C  \n"
          ]
        },
        {
          "output_type": "stream",
          "name": "stderr",
          "text": [
            " 27%|██▋       | 40/150 [00:10<00:26,  4.11it/s]"
          ]
        },
        {
          "output_type": "stream",
          "name": "stdout",
          "text": [
            "[Epoch 14 | Batch 40/150] Loss: 1.9170 | CharAcc: 0.458 | Batch size: 8 | Seq len: 262\n",
            "  [Sample GT]:   GreenFeed Công Ty Cổ Phần GreenFeed Việt Nam KHAO 0703.880073 ĐT: Long Vĩnh Hồ, Long Huyện Đức, Thanh Xã Quới, Hưng Ấp 11, Số Chỉ: Địa NHÁNH CHI ĐÌNH\n",
            "  [Sample Pred]: Cran  a   RHn  Bh Đh ĐHan Còenn e   tiệt Nam tiÁI T100 808    3T: 0ong 0inh 0à  Tong Tuyên TCc  0hunhiTu Huậi  Tàờg TT T97 Tố Đhu: 0ịa TgoIH ĐHI ĐCNH    C00TC CCCA     C   C CACCC CCC CCCCCCCC CCNCCCC CCCC  CCCCCCCCCCCNCCCCC CC A C  CC CC    CC C CCCC CCC  CCC C\n"
          ]
        },
        {
          "output_type": "stream",
          "name": "stderr",
          "text": [
            " 40%|████      | 60/150 [00:17<00:25,  3.49it/s]"
          ]
        },
        {
          "output_type": "stream",
          "name": "stdout",
          "text": [
            "[Epoch 14 | Batch 60/150] Loss: 2.1862 | CharAcc: 0.418 | Batch size: 8 | Seq len: 410\n",
            "  [Sample GT]:   CÔNG TY TNHH TƯ VẤN VÀ PHÁT TRIỂN PHẦN MỀM LARION LARION COMPUTING www.elarion.com Kính Tặng\n",
            "  [Sample Pred]: CHNG TY TNHH TRƠTẤN ĐI ĐHÒT TRƯỂN THÚN T N TANENN TÀN TN TAMP TIN  TwwwinimtomecomHInh trnh  CCCCCCCCCCCCCCCCCCCCCCCCCCCCCCCCCCCCCCCCCCNCCCPC CCCCC CCPCCCCCCCCCCCCCCCCCCCCCCCCCCCCCCCCCCCCC CCCCCCCCCCCCCCC C CCC CC    CCCCCCCCC C CCCCCCC C   C CCCCC CCCCCCCCCCCCCCC  CCC CCCCC CCC  CCCCCC CC   CCCCC  CCP C CCPCCCC  CCTCPCTTCPCCTCC CCCPCCPCCCC   CCCC CP CC C CCCCC  C   C CCCCC CCCP  CC CCCC      CC    CCCM   \n"
          ]
        },
        {
          "output_type": "stream",
          "name": "stderr",
          "text": [
            " 53%|█████▎    | 80/150 [00:24<00:30,  2.27it/s]"
          ]
        },
        {
          "output_type": "stream",
          "name": "stdout",
          "text": [
            "[Epoch 14 | Batch 80/150] Loss: 2.0830 | CharAcc: 0.419 | Batch size: 8 | Seq len: 194\n",
            "  [Sample GT]:   3\n",
            "  [Sample Pred]: C0mC  T C T TTTTTTC       PCTT  C      TTT   TT         P PTTT  TT  PP  PP  P P TPP M U  C   PP T PP   TTC T   T  TTCCTTP    T T    P T PPTT  PP    T  PPP P    P  CP T T TPP P     T  P     P    \n"
          ]
        },
        {
          "output_type": "stream",
          "name": "stderr",
          "text": [
            " 67%|██████▋   | 100/150 [00:29<00:13,  3.84it/s]"
          ]
        },
        {
          "output_type": "stream",
          "name": "stdout",
          "text": [
            "[Epoch 14 | Batch 100/150] Loss: 2.1466 | CharAcc: 0.409 | Batch size: 8 | Seq len: 290\n",
            "  [Sample GT]:   Coffee MUS MUSIC PHIÊU Số: 58/16D Phó Cơ Điều P.3 TPVL\n",
            "  [Sample Pred]: TÔfee  CÁN TPSIT CHÁNN TÁ  H  1   THú Th Tiệu Đh  Đh.     CCTCTCCCTCCCTCCC  TCCTTTC T CCTCC   CCTCC TTCTTCTCCCCTTCTTTCCT CCTAC CTNCCCC C CT  CCAPC T   T TCC   T          CTTTTC TC    CC       C C CT C   C C         C TTT     T   T T T  TT TT    T TTC TC  TT T            T T  T   TT TT T   \n"
          ]
        },
        {
          "output_type": "stream",
          "name": "stderr",
          "text": [
            " 80%|████████  | 120/150 [00:35<00:08,  3.48it/s]"
          ]
        },
        {
          "output_type": "stream",
          "name": "stdout",
          "text": [
            "[Epoch 14 | Batch 120/150] Loss: 2.0084 | CharAcc: 0.439 | Batch size: 8 | Seq len: 206\n",
            "  [Sample GT]:   CÁN BỘ, NHÂN DÂN XÃ LỘC HOÀ HÃY CHUNG TAY ĐẨY TỆ LÙI NẠN MA TUÝ CHO VAY TẤN ĐẠT VIETTEL aphone TẤN ĐẠT V// Vietnamobile\n",
            "  [Sample Pred]: CHCHCẢ  BHÂN TÂN TE CAC TỘNNTỘ  HHỮYG THN TỘY TINT N TGNGCỚNCHY THÁ TIN CHN TCI CIỆTENC Cnhine ShM TCI N   Cint an rile n  CCCCCCCCC CCCCCCCACC CCCCCCCCCCC CCC CCCCCCCCCC CCCCCCACCC CCC CC  CCCCCCCCCCCCCCCC\n"
          ]
        },
        {
          "output_type": "stream",
          "name": "stderr",
          "text": [
            " 93%|█████████▎| 140/150 [00:40<00:02,  4.43it/s]"
          ]
        },
        {
          "output_type": "stream",
          "name": "stdout",
          "text": [
            "[Epoch 14 | Batch 140/150] Loss: 1.9852 | CharAcc: 0.469 | Batch size: 8 | Seq len: 274\n",
            "  [Sample GT]:   ĐÀO TẠO ĐẠI HỌC\n",
            "  [Sample Pred]: CƯO TẠO HII HỌC  NNCNA       C    PMCTTCA CCCC  CPC PA  MCCTCCMMCMC CCP PP   C  MP  P   CN TPMPMMMM PCTPC PPPPCCCPNMT CCPCCTCCPCNTNNCNNCPMP P  CCC    ƠPP T   C PT   P C  PP     C  CCC   C        CC     N  N           CC NC PC   C      CM     C     CN     C  CP C N       M  \n"
          ]
        },
        {
          "output_type": "stream",
          "name": "stderr",
          "text": [
            "100%|██████████| 150/150 [00:43<00:00,  3.44it/s]\n"
          ]
        },
        {
          "output_type": "stream",
          "name": "stdout",
          "text": [
            "\n",
            ">>> Epoch 14 completed. Avg Loss: 2.0118 | Avg CharAcc: 0.4421\n",
            "==> Saved new best model at epoch 14 (loss=2.0118)\n",
            "\n",
            "========== EPOCH 15 ==========\n"
          ]
        },
        {
          "output_type": "stream",
          "name": "stderr",
          "text": [
            "  1%|▏         | 2/150 [00:00<00:25,  5.81it/s]"
          ]
        },
        {
          "output_type": "stream",
          "name": "stdout",
          "text": [
            "[Epoch 15 | Batch 1/150] Loss: 2.0498 | CharAcc: 0.425 | Batch size: 8 | Seq len: 361\n",
            "  [Sample GT]:   CÂU LẠC BỘ TÌNH NGUYỆN HOPE CHĂM SÓC - YÊU THƯƠNG - CHIA SẺ\n",
            "  [Sample Pred]: CHU TÝC TỘ THNH THHYÊN TÀA  CHIM SÁC T -ÊU THIƠNG T THUẾ -Ơ   NC CCCCCCC   PCCCCPCCCP ACC CPCCCPCMCCCCCCMCCCCCMCCPCCCCCCCCPCPCCCCCCCCCCCCACCCT CCCP   CMCPCCCPCCCCCMMCCCCC  CC CCCCCCCCCCCCCCCCCCPCCPCCPCCCTMC  CCCCCCCCCC CCTCCC     C CCCCTCTC CC C CMCCCCC CCCCCCCCC  CC  CMCCPM    CMC PP C PM MC   C M  CM M C M    M MM  C MMCC CN MCN C MCM MMMM M C  CC PM CC C T\n"
          ]
        },
        {
          "output_type": "stream",
          "name": "stderr",
          "text": [
            " 14%|█▍        | 21/150 [00:05<00:31,  4.11it/s]"
          ]
        },
        {
          "output_type": "stream",
          "name": "stdout",
          "text": [
            "[Epoch 15 | Batch 20/150] Loss: 1.9868 | CharAcc: 0.446 | Batch size: 8 | Seq len: 392\n",
            "  [Sample GT]:   VinID VinMart TÍCH ĐIỂM 3 % HOÁ ĐƠN VINMART 1 ĐIỂM = 1000Đ\n",
            "  [Sample Pred]: TIeaỆ TIeaatt CRCH TỘỆM T L TIÁ LÌN TIỆH  EIN TIỆM T T0   ỘN CCCC C CCCCCC C CCCC   CCCCC CCCCACCCCTACCCCCMCCMCTCCCCCACCACC CCC CM CCCCCCACCC CPP C      MCMA  CMMC  MCCCCCMC  C C CCCCCMCCACC CCCCCCCC CCCCC CM  CC  C CC C C C    CCTC C T       CC CCC  CCC M CCCC  CCM     MTC P  C CCC   PM C  C  CMMMMMCMMM M MMM  M  MCMMMCCMNM C MM CMMCMM MMMM    MMMCMM  M  M P CM        CMMT CMỞ   CM C MCMC\n"
          ]
        },
        {
          "output_type": "stream",
          "name": "stderr",
          "text": [
            " 27%|██▋       | 40/150 [00:11<00:33,  3.26it/s]"
          ]
        },
        {
          "output_type": "stream",
          "name": "stdout",
          "text": [
            "[Epoch 15 | Batch 40/150] Loss: 1.9087 | CharAcc: 0.460 | Batch size: 8 | Seq len: 228\n",
            "  [Sample GT]:   XƯỞNG CƠ KHÍ CHÍN MỎNG Chuyên: HÀN - TIÊN - PHAY - BÀO - XỌC 786 977\n",
            "  [Sample Pred]: CEỚNG CH CHÁ CH NHCÁ G CHuyên  TONHT TRẾN T ThÒN - TẢN - -ÃC T727T 77 NNN  CCCCPNPCCCCPCCCCCCPCCCCCPPCPCTCCPCCCCCCCPCCCCCCCCTCCCCCANCCNCCNCCCCCA CCCPCP CCCCPPCCCCCCCCCCCCP CNC CCCCCCCCCCCCCC CCCCCCCCCCCCCCCCCCCC CC CCCCCCCC C T \n"
          ]
        },
        {
          "output_type": "stream",
          "name": "stderr",
          "text": [
            " 40%|████      | 60/150 [00:17<00:32,  2.76it/s]"
          ]
        },
        {
          "output_type": "stream",
          "name": "stdout",
          "text": [
            "[Epoch 15 | Batch 60/150] Loss: 1.9781 | CharAcc: 0.438 | Batch size: 8 | Seq len: 298\n",
            "  [Sample GT]:   VINSCHOOL School C Nơi ươm mầm tinh hoa TRƯỜNG MẦM NON VINSCHOOL I VINSCHOOL VINSCHOOL VINSCHOOL GIỜ LÀM VIỆC MẦM NON VINSCHOOL VINSCHOOL An IPC School IPC International Preschool IPC An IPC School\n",
            "  [Sample Pred]: CIỆATOOON TThorriBhPhi Bớn Cừn Trah đaa trƯỜNG TŨM TONGTINSTHE NESNSINHSOO   SINHTHO   SIEATOOOO SRA SEM CIỆT N M NAN TIE TO    SIEATHO   GI CNHOTTharriCPCoINaeraareorktloroe oorriIPchantSnC Gốharrao       C       CCCCCC  C  C   C   CC  CC    CCTC    CCC CC C  C  C    C  CCC         TCC C  C  C  N\n"
          ]
        },
        {
          "output_type": "stream",
          "name": "stderr",
          "text": [
            " 53%|█████▎    | 80/150 [00:22<00:18,  3.82it/s]"
          ]
        },
        {
          "output_type": "stream",
          "name": "stdout",
          "text": [
            "[Epoch 15 | Batch 80/150] Loss: 1.8572 | CharAcc: 0.471 | Batch size: 8 | Seq len: 335\n",
            "  [Sample GT]:   p xanh phẩm ỦY BAN NHÂN DÂN THÀNH PHỐ HÀ NỘI CÔNG TY TNHH MTV ĐẦU TƯ VÀ PHÁT TRIỂN NÔNG NGHIỆP HÀ NỘI CHỢ CẦU DIỄN ĐỊA CHỈ : PHƯỜNG PHÚC DIỄN QUẬN BẮC TỬ LIÊM HÀ NỘI\n",
            "  [Sample Pred]: ChKan  hhàm cY HA  NHÂNGDÂN DHÔNH THU TÀNNỘI TÔNG TY TYHH S   TẦU TƯ TIOTHÁT THIỂN THMG TGH ỆM TONNHI THÍ THU TIỀN TIA THỈNT SHÓỚNG THCC TIỀN TUYT TIC TR TIỀN TONTỘI NCCCC   C C C  C   C CC  CC CCCCC   C CC  CCCCCC  C   CCCCCC CCCC CCCC CCCCC CCCCC CCCCCCCC CCCCCCCCC  CCC CC   C CCC CC C C C   C   C   C    C  C   CC CCCCCC C C CC C  \n"
          ]
        },
        {
          "output_type": "stream",
          "name": "stderr",
          "text": [
            " 67%|██████▋   | 100/150 [00:28<00:11,  4.28it/s]"
          ]
        },
        {
          "output_type": "stream",
          "name": "stdout",
          "text": [
            "[Epoch 15 | Batch 100/150] Loss: 2.0617 | CharAcc: 0.427 | Batch size: 8 | Seq len: 232\n",
            "  [Sample GT]:   S E PHỞ GÀ ANH DUC HAIR SALON CÂY KÉO VÀNG 2011 Trọng Tấn Thanh Xuân Hà Nội\n",
            "  [Sample Pred]: ThP PHO TI P G TO  TÀN AAANE  SHY TH  SIN  N01  1Rưng Thm T ưnh Cuân Tà Tội   NNN  C  CCCC   CCPCP ACCCACCCPCACCACCCCCCCCAC  CACCCC  CC PCPCCCC CPCC    PPCCC P CAACC   CCCPC  C  C  C   C  CC    P CCC MCCCCCC  C    CMCCCCCCC C     CC\n"
          ]
        },
        {
          "output_type": "stream",
          "name": "stderr",
          "text": [
            " 80%|████████  | 120/150 [00:33<00:06,  4.76it/s]"
          ]
        },
        {
          "output_type": "stream",
          "name": "stdout",
          "text": [
            "[Epoch 15 | Batch 120/150] Loss: 1.9625 | CharAcc: 0.441 | Batch size: 8 | Seq len: 280\n",
            "  [Sample GT]:   Kevin Language Center KC TRUNG TÂM NGOẠI NGỮ KEVIN DU HỌC HÀN QUỐC G ĐC: 594 Nguyễn Trãi TP. Bắc Ninh Hotline: 0222.3895.858 0975.84.8668 AN TO BÁN LẺ N ÁO CHỐNG TĨNH ĐI ẢNH CÁO, ĐỒ TẠP ÓA 0915.342.488 ĐÀO TẠO KEVIN & DU HỌC COFFEE TRÀ SỮA CAFE ĐC: V T CO NGOẠI NGỮ KEVIN FA FFFF\n",
            "  [Sample Pred]: CH e  Cen      Vhrter CIOCRING TRM TGOẠI TGÀ THTIN TV CÀC TO HNUỐC TITẠ: 39  PGuyễn PhàiệTh. VẢc Thnh Tàà ine: 09   37  0 93 0 376883876680n PO NìN TỚ T TY TH NG T NH CI TNG PH   TTNTHI T  C909.8.4 447 0   PHI 0H IÊ T T  H I T NAE  THI TT  P  E TÀ  HÀC T NC   I TG ACI À GTF CFFFE\n"
          ]
        },
        {
          "output_type": "stream",
          "name": "stderr",
          "text": [
            " 93%|█████████▎| 140/150 [00:40<00:03,  2.87it/s]"
          ]
        },
        {
          "output_type": "stream",
          "name": "stdout",
          "text": [
            "[Epoch 15 | Batch 140/150] Loss: 2.0036 | CharAcc: 0.431 | Batch size: 8 | Seq len: 74\n",
            "  [Sample GT]:   Tẩm Quất Người Mù Tại nhà GIÀ NE SA\n",
            "  [Sample Pred]: CRm TUát Kguới TIyTIc Thỉ 0IA CHTSAUN   CACC        C CCCCC CCCCCC  CCCC C\n"
          ]
        },
        {
          "output_type": "stream",
          "name": "stderr",
          "text": [
            "100%|██████████| 150/150 [00:44<00:00,  3.40it/s]\n"
          ]
        },
        {
          "output_type": "stream",
          "name": "stdout",
          "text": [
            "\n",
            ">>> Epoch 15 completed. Avg Loss: 1.9623 | Avg CharAcc: 0.4536\n",
            "==> Saved new best model at epoch 15 (loss=1.9623)\n",
            "\n",
            "========== EPOCH 16 ==========\n"
          ]
        },
        {
          "output_type": "stream",
          "name": "stderr",
          "text": [
            "  1%|          | 1/150 [00:00<00:19,  7.81it/s]"
          ]
        },
        {
          "output_type": "stream",
          "name": "stdout",
          "text": [
            "[Epoch 16 | Batch 1/150] Loss: 1.7646 | CharAcc: 0.497 | Batch size: 8 | Seq len: 414\n",
            "  [Sample GT]:   ĐỀ NGHỊ QUÝ KHÁCH KHÔNG TUNG MUỐI, GẠO VÀO CÂY\n",
            "  [Sample Pred]: TẠ PG À ĐUÝ KHÁCH KHÁNG TRYG TAAC  VIO TÀO THY    CCT   CCCCCCCCCCC  C CC   CCCCC C CCCCCCC C CCCC    CCCCCCCCCCCCCCCCCC CC C  C CCCCCCCC  CC      C      PC    CC C        CC       C C C C  C      CC  C CCC C CC CC C CC CC C  C     CCC C     C        C C    C C CC    C  CC                 C     C C  C      C    C   CC C        C     N    C      C       C      C                    C   CC C    C         C   C   C\n"
          ]
        },
        {
          "output_type": "stream",
          "name": "stderr",
          "text": [
            " 13%|█▎        | 20/150 [00:05<00:32,  4.01it/s]"
          ]
        },
        {
          "output_type": "stream",
          "name": "stdout",
          "text": [
            "[Epoch 16 | Batch 20/150] Loss: 1.9944 | CharAcc: 0.447 | Batch size: 8 | Seq len: 157\n",
            "  [Sample GT]:   RÚT TIỀN TỰ ĐỘNG NGÂN HÀNG QUÂN ĐỘI\n",
            "  [Sample Pred]: CaT CHỆU TH BONG CGỮN HỌ G ĐUAN TẠ   C      C C   C  CC  CCCCCCCCCCCC CC     C C  C   CCC C CC CCC   CCCCCCCCCCC CCCCCCCCCCCC C CC CCC   C  CCC             C\n"
          ]
        },
        {
          "output_type": "stream",
          "name": "stderr",
          "text": [
            " 27%|██▋       | 40/150 [00:11<00:31,  3.52it/s]"
          ]
        },
        {
          "output_type": "stream",
          "name": "stdout",
          "text": [
            "[Epoch 16 | Batch 40/150] Loss: 1.8403 | CharAcc: 0.464 | Batch size: 8 | Seq len: 152\n",
            "  [Sample GT]:   THÔNG BÁO DANH MỤC THUỐC BẢNG GIÁ BẢNG GIÁ TIỀN PHÒNG X- QUANG P.28 P.3 đến P.27 XÉT NGHIỆM P.38 SIÊU ÂM P.34 P.35 P.36 NỘI SOI P.32 P.33 BÓ BỘT P.40 1\n",
            "  [Sample Pred]: CRÀNG TÁN DỤIH TÔC THAYC HỘNH TIÁOLÁOG DIẢOSHÁN THẠNG TÂ DUÂN  N.   T. 0TÓ gT.109TPT TGHIỆM T. 9 -INU TN T. 9 -. . T.3 9TAI TANNTE 00P.308PẢ TỆ  T.  0T \n"
          ]
        },
        {
          "output_type": "stream",
          "name": "stderr",
          "text": [
            " 40%|████      | 60/150 [00:17<00:30,  2.94it/s]"
          ]
        },
        {
          "output_type": "stream",
          "name": "stdout",
          "text": [
            "[Epoch 16 | Batch 60/150] Loss: 2.0985 | CharAcc: 0.416 | Batch size: 8 | Seq len: 530\n",
            "  [Sample GT]:   HỚT TÓC THẠNH SỮA .0 ng KHUYÊN MẠI 50%\n",
            "  [Sample Pred]: CỆ  HHC KHÁC  CỬA K 0ChunMAYÊN CII C00 N A AAACCCAI   CCCCCCC O  CCCCPC CC CCCNCC PC CCCCCCCCCC ACC  CCCCCCCC CCCCCCCCCCCCCCCCCCCCCCCC  CCC C C P CC C PCPCC  CCOC   CCC C   CCCCCCCC   C  CCP    CCCC C CCC TC  CCCC CC OCC CCCC C  CC CC           O C   C  CCCC  C C        CCC  C     P      P       CC           NP P   C PC     C  CC C   CC C             C C    C CC                    C  C         CC     CC          C  C   CO  C       C   C          C                 PP   C  CNC   C C      CCPCC    CC CC   CN P P    P    CC   CC\n"
          ]
        },
        {
          "output_type": "stream",
          "name": "stderr",
          "text": [
            " 53%|█████▎    | 80/150 [00:22<00:28,  2.49it/s]"
          ]
        },
        {
          "output_type": "stream",
          "name": "stdout",
          "text": [
            "[Epoch 16 | Batch 80/150] Loss: 1.9388 | CharAcc: 0.447 | Batch size: 8 | Seq len: 223\n",
            "  [Sample GT]:   BIA TRUYỀN THỐNG CÔNG AN TỈNH VĨNH LONG\n",
            "  [Sample Pred]: CỘỂ TOƯNỀN THING THNG TN TRNH VĨNH TONG  T T ACC  CCC  C CCC  CC C  C  CUC   C CCT CC  C  CCCCCCUCC  CCCCCC CCCCCCCCCCCCCCCCCCC CCCCCCCCCCCTT  C     T  C T  T TCCTTCC C  CC C  CCC    CC C  CC CCCCCCCC C CC C CC  CCC     T T\n"
          ]
        },
        {
          "output_type": "stream",
          "name": "stderr",
          "text": [
            " 67%|██████▋   | 100/150 [00:28<00:17,  2.90it/s]"
          ]
        },
        {
          "output_type": "stream",
          "name": "stdout",
          "text": [
            "[Epoch 16 | Batch 100/150] Loss: 1.9829 | CharAcc: 0.470 | Batch size: 8 | Seq len: 157\n",
            "  [Sample GT]:   ĐƯỜNG LÔ TƯ HUT HAM CAU TIEN\n",
            "  [Sample Pred]: CỊỜNG TA TP TAY TƯN TÔN TRNRA A       C     C       C   C    C  C        T C  C CC C CC  C     CC C   CC CCCC   CC  C CCCC      CN  C CC C C        C    CC  \n"
          ]
        },
        {
          "output_type": "stream",
          "name": "stderr",
          "text": [
            " 80%|████████  | 120/150 [00:34<00:07,  4.02it/s]"
          ]
        },
        {
          "output_type": "stream",
          "name": "stdout",
          "text": [
            "[Epoch 16 | Batch 120/150] Loss: 1.7269 | CharAcc: 0.494 | Batch size: 8 | Seq len: 267\n",
            "  [Sample GT]:   PHỐ LÊ HỒNG PHONG PHỐ CHU VĂN AN\n",
            "  [Sample Pred]: CHỐ HÊ TONG NHỐNG THỐ NHÍYTỰN CN                                                                       C CC  C    C                  C C                     C                                                                                                             \n"
          ]
        },
        {
          "output_type": "stream",
          "name": "stderr",
          "text": [
            " 93%|█████████▎| 140/150 [00:40<00:02,  4.04it/s]"
          ]
        },
        {
          "output_type": "stream",
          "name": "stdout",
          "text": [
            "[Epoch 16 | Batch 140/150] Loss: 1.8982 | CharAcc: 0.483 | Batch size: 8 | Seq len: 198\n",
            "  [Sample GT]:   Bệt Quán Trà chanh Phố Cổ Bánh Tráng nướng Đà L ĐC 192 Nguyễn Gia Thiều ĐT 0902640299\n",
            "  [Sample Pred]: CỘ  Tuên THà chayh Tha Th Tánh Thảng đgớng Tà T TT:T   Tguyễn Tia Thaệu TT:N979    3   NNNN   C     C  CACCCCNCCC CN AACCCC      NNC  CCC N      C     0      N  N         C             C    C     C \n"
          ]
        },
        {
          "output_type": "stream",
          "name": "stderr",
          "text": [
            "100%|██████████| 150/150 [00:43<00:00,  3.41it/s]\n"
          ]
        },
        {
          "output_type": "stream",
          "name": "stdout",
          "text": [
            "\n",
            ">>> Epoch 16 completed. Avg Loss: 1.9389 | Avg CharAcc: 0.4560\n",
            "==> Saved new best model at epoch 16 (loss=1.9389)\n",
            "\n",
            "========== EPOCH 17 ==========\n"
          ]
        },
        {
          "output_type": "stream",
          "name": "stderr",
          "text": [
            "  1%|          | 1/150 [00:00<01:02,  2.39it/s]"
          ]
        },
        {
          "output_type": "stream",
          "name": "stdout",
          "text": [
            "[Epoch 17 | Batch 1/150] Loss: 1.8938 | CharAcc: 0.464 | Batch size: 8 | Seq len: 200\n",
            "  [Sample GT]:   CHỈNH TRANG NHÀ CỬA, VỆ SINH MÔI TRƯỜNG XANH SẠCH ĐẸP LÀ GÓP PHẦN XÂY DỰNG NÔNG THÔN MỚI !\n",
            "  [Sample Pred]: CHỢ H LHUNG TGÀ NHA  HÀ NINH TIN TRUỜNG TENH TỸCH ĐÔP GO GIP THÁN TUY DỰNG ĐGNG TRUNGTỚI T  NTTTTCTTATTTTCCCCCCCCCCCTCA CCTC CCATCCCCCCCCCCCCNC CC CC    TCCTTOCCCCC   C C TCC  C0CCC CCC C  CC CCCCC C \n"
          ]
        },
        {
          "output_type": "stream",
          "name": "stderr",
          "text": [
            " 13%|█▎        | 20/150 [00:06<00:40,  3.19it/s]"
          ]
        },
        {
          "output_type": "stream",
          "name": "stdout",
          "text": [
            "[Epoch 17 | Batch 20/150] Loss: 1.7140 | CharAcc: 0.516 | Batch size: 8 | Seq len: 186\n",
            "  [Sample GT]:   KHÔNG ĐIỀU KHIỂN XE KHI CHƯA ĐỦ TUỔI HOẶC KHÔNG CÓ GPLX PHÒNG CSGT ĐƯỜNG DÂY NÓNG PHẢN ÁNH TRẬT TỰU ATTGT ĐT: 0703.833939 - 0931033113\n",
            "  [Sample Pred]: CHUNG TI U XHÔ N KE KHÔ KHIỚ CI VRY  SOPC THÁNG TH TIHO SHÁNG THỐDYĐƯỜNG ĐUN TGN  NHƯIGĐYH ĐRƯT ĐR  TYHO  ĐƯ: 0909 328818 0 0933  . 311N0CM  O   C     00 0    C C0        0            CC\n"
          ]
        },
        {
          "output_type": "stream",
          "name": "stderr",
          "text": [
            " 27%|██▋       | 40/150 [00:10<00:20,  5.34it/s]"
          ]
        },
        {
          "output_type": "stream",
          "name": "stdout",
          "text": [
            "[Epoch 17 | Batch 40/150] Loss: 1.7905 | CharAcc: 0.518 | Batch size: 8 | Seq len: 177\n",
            "  [Sample GT]:   TRƯỜNG THPT PHAN ĐĂNG LƯU TRƯỜNG THPT PHAN ĐĂNG LƯU SƠ GIAO DUC VA ĐAO TAO UBND NGHE AN\n",
            "  [Sample Pred]: TRƯỜNG TRP  C ÚNHTING ĐÀƠ TROỜNG THUT H.ƯN TTN  TAU TỬNCIAO ĐU  T NĐIN TƯMÀDỒID TG I CN   CTCCCC CCC  CCCC CC  CCCCCCCCCCCCCC CCN CCCCCCCCCCO0   0CC    CCOC C CCC CCCC  CC C    \n"
          ]
        },
        {
          "output_type": "stream",
          "name": "stderr",
          "text": [
            " 40%|████      | 60/150 [00:18<00:27,  3.23it/s]"
          ]
        },
        {
          "output_type": "stream",
          "name": "stdout",
          "text": [
            "[Epoch 17 | Batch 60/150] Loss: 1.7724 | CharAcc: 0.502 | Batch size: 8 | Seq len: 181\n",
            "  [Sample GT]:   Vietlink GLOBAL CÔNG TY TNHH TOÀN CẦU LIÊN KẾT VIỆT VẬN CHUYỂN HÀNG HOÁ QUỐC NỘI VÀ QUỐC TẾ 63 Thăng Long, P.4, Q.Tân Bình, TP.HCM ĐT: (08) 3948-4270 www.vietlinkglobal.com 63\n",
            "  [Sample Pred]: TIntn n  CIEN   CÔNG TY TNHH THÀN THU TÀỆN THT TIỆT NIN NHUYỂN TÀ G NOÀ DUỐC TGI TI NUAC NI N  Trung Tàng, T.   T. Hn Vình  ĐP. CM ĐT: 0088 08  8 84  0wwweneln.g e .malecom.T0 oCCCT\n"
          ]
        },
        {
          "output_type": "stream",
          "name": "stderr",
          "text": [
            " 54%|█████▍    | 81/150 [00:25<00:21,  3.22it/s]"
          ]
        },
        {
          "output_type": "stream",
          "name": "stdout",
          "text": [
            "[Epoch 17 | Batch 80/150] Loss: 1.6894 | CharAcc: 0.512 | Batch size: 8 | Seq len: 158\n",
            "  [Sample GT]:   HOANG VIET SCHOOL SỞ GIÁO TRƯỜNG TIỂU DỤC HỌC, VÀ THCS ĐÀO TẠO VÀ THPT ĐẮK HOÀNG LẮK VIỆT LỄ CÔNG BỐ QUYẾT ĐỊNH CÔNG NHẬN HIỆU TRƯỞNG\n",
            "  [Sample Pred]: COA G TIỆT CTOE   TỞ ĐIÁO DHIỜNG ĐHỂU HÀC TỌC  TI ĐRU  ĐÀO TRO TI CRỊ  NCCDTOANG CAP KIỆT NÒ NÁNG TẠ CUAÊT TINH C NG MGIN TÀỆMYTRƯỜNG  NC CNCC C C CC A  COCC \n"
          ]
        },
        {
          "output_type": "stream",
          "name": "stderr",
          "text": [
            " 67%|██████▋   | 101/150 [00:31<00:11,  4.38it/s]"
          ]
        },
        {
          "output_type": "stream",
          "name": "stdout",
          "text": [
            "[Epoch 17 | Batch 100/150] Loss: 1.9260 | CharAcc: 0.446 | Batch size: 8 | Seq len: 302\n",
            "  [Sample GT]:   LIÊN ĐOÀN VÕ THUẬT CỔ TRUYỀN VIỆT NAM CLB VÕ CỔ TRUYỀN MÔN PHÁI THANH LONG VÕ ĐẠO DÒNG VÕ TÂY SƠN BÌNH ĐỊNH VIỆT NAM Võ Sư : LÊ HỮU PHƯỚC phụ trách ĐC: 73/12 - PHÓ CƠ ĐIỀU - PHƯỜNG 3 - TP. VĨNH LONG LIÊN ĐOÀN VÕ THUẬT CỔ TRUYỀN VIỆT NAM THANH LONG VÕ ĐẠO\n",
            "  [Sample Pred]: CỄ N ĐOÀN TI NHƯYT BÔ PHƯNỀN TIỆT NAM CHONHI NH PRƯNỀN TINGTHƯT THUNH TONG TI NTI TỰNG HI N Y NẢNHĐINH TTC  TIỆT TAM TI NẢơL 0o TàNẬTHƯỜC PhưnThec  TT: 0  22 T LHƯNT NTIỂU H THƯỜNG T T TP. HĨNH LONG TO N TT N ĐĨ ĐHONN TP THU ỂN TĨỆ  NGM THUMG TONG TI TTIN   CN     N  NN C C                      C     \n"
          ]
        },
        {
          "output_type": "stream",
          "name": "stderr",
          "text": [
            " 81%|████████  | 121/150 [00:36<00:06,  4.64it/s]"
          ]
        },
        {
          "output_type": "stream",
          "name": "stdout",
          "text": [
            "[Epoch 17 | Batch 120/150] Loss: 1.8303 | CharAcc: 0.510 | Batch size: 8 | Seq len: 94\n",
            "  [Sample GT]:   KHÔNG LÁI XE KHI KHÔN CÓ GIẤY PHÉP LÁI XE 40\n",
            "  [Sample Pred]: CHUNG TÀI TE CHÁ ĐHÔNGTH GIÁY THÁT LƯY TE T0 N        C       TCT            T TA   0S   AA C \n"
          ]
        },
        {
          "output_type": "stream",
          "name": "stderr",
          "text": [
            " 94%|█████████▍| 141/150 [00:42<00:02,  4.21it/s]"
          ]
        },
        {
          "output_type": "stream",
          "name": "stdout",
          "text": [
            "[Epoch 17 | Batch 140/150] Loss: 1.9299 | CharAcc: 0.454 | Batch size: 8 | Seq len: 218\n",
            "  [Sample GT]:   Kính Chào Quý Khách\n",
            "  [Sample Pred]: ĐHnh Shào Tuy Thách          AAA   Ơ  A                                        C        A     A                      C          N N                                                                                       \n"
          ]
        },
        {
          "output_type": "stream",
          "name": "stderr",
          "text": [
            "100%|██████████| 150/150 [00:44<00:00,  3.39it/s]\n"
          ]
        },
        {
          "output_type": "stream",
          "name": "stdout",
          "text": [
            "\n",
            ">>> Epoch 17 completed. Avg Loss: 1.8869 | Avg CharAcc: 0.4713\n",
            "==> Saved new best model at epoch 17 (loss=1.8869)\n",
            "\n",
            "========== EPOCH 18 ==========\n"
          ]
        },
        {
          "output_type": "stream",
          "name": "stderr",
          "text": [
            "  1%|          | 1/150 [00:00<01:36,  1.55it/s]"
          ]
        },
        {
          "output_type": "stream",
          "name": "stdout",
          "text": [
            "[Epoch 18 | Batch 1/150] Loss: 1.9910 | CharAcc: 0.442 | Batch size: 8 | Seq len: 350\n",
            "  [Sample GT]:   CỘNG CÀ PHÊ CỘNG 195\n",
            "  [Sample Pred]: CÔNG TÀ PHÊ CHNG T   n                                      O   MC                TƠ T  A               T         CC              MC                                 N                        Ơ     C       C                       O                                                                                                                         \n"
          ]
        },
        {
          "output_type": "stream",
          "name": "stderr",
          "text": [
            " 13%|█▎        | 20/150 [00:05<00:36,  3.56it/s]"
          ]
        },
        {
          "output_type": "stream",
          "name": "stdout",
          "text": [
            "[Epoch 18 | Batch 20/150] Loss: 1.6688 | CharAcc: 0.517 | Batch size: 8 | Seq len: 254\n",
            "  [Sample GT]:   K CÔNG TY TNHH VÀNG BẠC ĐÁ QUÝ KẾT NHUNG TỈ GIÁ VÀNG & NGOẠI LỆ NGÀY THÁNG NĂM 12 08 2009 THỜI GIAN: 19: 17 LOẠI: MUA VÀO BÁN RA SJC 9556 9999 8783 999 8890 18K 8968 14K 8889 USD 7908 S S NOKIA\n",
            "  [Sample Pred]: CHL NG TY CNHH TÀ G TẠCHCỘCTUÝ KH  THÁẬG TRNCIÁOLÀ   Đ LHIẠI TÀ LGOY NHÀI  NHM N  21 2000 1 ÀI 1IAO  100 1101Ư I  1 A 1Ề  TÁN VI SOEOF0A5 1 9 91    599 1   0168 1 0  1   1    0   1  0 1 1 1 NH    CNC    C  C        C    0           0   0    0           0\n"
          ]
        },
        {
          "output_type": "stream",
          "name": "stderr",
          "text": [
            " 27%|██▋       | 40/150 [00:11<00:28,  3.80it/s]"
          ]
        },
        {
          "output_type": "stream",
          "name": "stdout",
          "text": [
            "[Epoch 18 | Batch 40/150] Loss: 1.8346 | CharAcc: 0.486 | Batch size: 8 | Seq len: 141\n",
            "  [Sample GT]:   LỊCH NGHỈ TẾT Quán bán hết ngày 13 / 02 28 âm  lịch Quán bán lại vào ngày 24 / 02 Mùng 9 chúc quý khách nghỉ tết vui vẻ An Khang Thịnh Vượng\n",
            "  [Sample Pred]: TỐCH TGHỈ HR  TUángCán nêt đgiyê1  t /9414 ty tTị h cuangbáigCii cày ngin t4 n 2222ùng n nhực tuý Thách nghi trt 2ới bớ cn thing brịah ciởng \n"
          ]
        },
        {
          "output_type": "stream",
          "name": "stderr",
          "text": [
            " 41%|████      | 61/150 [00:18<00:29,  3.06it/s]"
          ]
        },
        {
          "output_type": "stream",
          "name": "stdout",
          "text": [
            "[Epoch 18 | Batch 60/150] Loss: 1.9952 | CharAcc: 0.447 | Batch size: 8 | Seq len: 410\n",
            "  [Sample GT]:   HNUE ĐẠI HỌC SƯ PHẠM HÀ NỘI TRƯỜNG ĐẠI HỌC SƯ PHẠM HÀ NỘI CHÀO MỪNG NGÀY QUỐC TẾ PHỤ NỮ 8/3 \"... LÀM THẾ NÀO ĐỂ NHÀ TRƯỜNG NÀY CHẲNG NHỮNG LÀ TRƯỜNG SƯ PHẠM MÀ CÒN LÀ TRƯỜNG MÔ PHẠM CỦA CẢ NƯỚC.\" (Trích lời Chủ tịch Hồ Chí Minh khi về thăm trường, ngày 21/10/1964)\n",
            "  [Sample Pred]: CAGN LÔI HỌC NI ĐHƯM ĐÀ NỘI TRƯỜNG TẠI TỌC NỐ ĐHỤM ĐỐ NỘI ĐHÀ  TỪNG TGÀY NUỐC NẾTNHÒ HG T 2 T.   ĐI CH  NHO TẠ NHÀ THIỜNG TGY THÀNG CGÀAH TÀ NHOỜNG TƠ C CM Đ  NHNGTI T ƯỜNG TẠNTHƯM TỦA THNLGỚC   TTH ch đonnThíađhch Tầ ThicCing điíêCumThưn nhêơng, ngà  t  1 01 7 .n     CC         ii i     C   NNHN C   NCCCNNNNNNNNNNN NN NNC   CC T NNNNNNCNC   Ơ ƠCNNNNN CC C CC 0 N   NNNNNN0CCNNCNCNCCCCCCCCCCCCCCCNNCNNCCN\n"
          ]
        },
        {
          "output_type": "stream",
          "name": "stderr",
          "text": [
            " 53%|█████▎    | 80/150 [00:24<00:17,  3.90it/s]"
          ]
        },
        {
          "output_type": "stream",
          "name": "stdout",
          "text": [
            "[Epoch 18 | Batch 80/150] Loss: 1.9315 | CharAcc: 0.453 | Batch size: 8 | Seq len: 142\n",
            "  [Sample GT]:   HOTEL TÍN HOÀ P D D\n",
            "  [Sample Pred]: CỘA   CH HCÂA THHACA CNN             C A          C      C    C      C     CCCCCU     C  CC Ở  C C  Ở ỞCCCCC  C  CCCCC CC C CC NN CNCỞNCCC  CN\n"
          ]
        },
        {
          "output_type": "stream",
          "name": "stderr",
          "text": [
            " 67%|██████▋   | 100/150 [00:30<00:13,  3.82it/s]"
          ]
        },
        {
          "output_type": "stream",
          "name": "stdout",
          "text": [
            "[Epoch 18 | Batch 100/150] Loss: 1.8538 | CharAcc: 0.490 | Batch size: 8 | Seq len: 226\n",
            "  [Sample GT]:   ĐỊA PHẬN THÁI NGUYÊN Km 96 + 110\n",
            "  [Sample Pred]: TƯA PHẬN THÀP LHUYÊN T  K  + 7000   C C              C     C C CCC   C C       C CƠ                  CCCC   C   CCC  C CC      C  CCC   C                                   Ơ                                                     \n"
          ]
        },
        {
          "output_type": "stream",
          "name": "stderr",
          "text": [
            " 80%|████████  | 120/150 [00:36<00:10,  2.93it/s]"
          ]
        },
        {
          "output_type": "stream",
          "name": "stdout",
          "text": [
            "[Epoch 18 | Batch 120/150] Loss: 1.7746 | CharAcc: 0.472 | Batch size: 8 | Seq len: 273\n",
            "  [Sample GT]:   ĐẠI HỌC HOA SEN\n",
            "  [Sample Pred]: CẠI HỌC NỌÁ HƠSD  C     C Ơ    CC    CC C    CC I C    C CC CC C C CCCC    C C CC   CCCCCC C  CC    CCCC CCCCCC CCCCCC CCCCC  CCC C CƠ    CƠCC                     C               C        CC        CC     C                         C                                       \n"
          ]
        },
        {
          "output_type": "stream",
          "name": "stderr",
          "text": [
            " 93%|█████████▎| 140/150 [00:41<00:02,  3.38it/s]"
          ]
        },
        {
          "output_type": "stream",
          "name": "stdout",
          "text": [
            "[Epoch 18 | Batch 140/150] Loss: 1.6682 | CharAcc: 0.526 | Batch size: 8 | Seq len: 257\n",
            "  [Sample GT]:   HESTRA LỄ KHÁNH THÀNH NHÀ MÁY HESTRA MATSUOKA VIETNAM LLC GRAND OPENING CEREMONY 11 September 8\n",
            "  [Sample Pred]: CO TO  LỄ KHANH LHÀNH THÀ NÁY TÀAARI K  IUAN  KIE  AM LAA TVANG CFE ATG AORE     C  CAn  roer C       C  C CCCCCCCCCCCCCCC CCCCCCCC  CCA CCCCC      C          C                    C CCCC         C C CC CCCCAC  C   C  CC  C             C             CC CC C\n"
          ]
        },
        {
          "output_type": "stream",
          "name": "stderr",
          "text": [
            "100%|██████████| 150/150 [00:44<00:00,  3.40it/s]\n"
          ]
        },
        {
          "output_type": "stream",
          "name": "stdout",
          "text": [
            "\n",
            ">>> Epoch 18 completed. Avg Loss: 1.8365 | Avg CharAcc: 0.4813\n",
            "==> Saved new best model at epoch 18 (loss=1.8365)\n",
            "\n",
            "========== EPOCH 19 ==========\n"
          ]
        },
        {
          "output_type": "stream",
          "name": "stderr",
          "text": [
            "  1%|          | 1/150 [00:00<00:38,  3.92it/s]"
          ]
        },
        {
          "output_type": "stream",
          "name": "stdout",
          "text": [
            "[Epoch 19 | Batch 1/150] Loss: 1.9476 | CharAcc: 0.447 | Batch size: 8 | Seq len: 399\n",
            "  [Sample GT]:   METRO Lối vào O METRO\n",
            "  [Sample Pred]: CATRO SIi Cào Đ CANRA  AAA  CA0ACTCC CA  C    C     A  C  0 C CC C CC0C   C C C C     C   CC CC   C  C C CCCCC  CCCCCCAC  CC   C CC C CC 0CCCC     C                       C         C C            CC                  C         0                              C   C C       C CC                   C0   C                  C  C    N C             C                C              C   C  C   C   C   C     \n"
          ]
        },
        {
          "output_type": "stream",
          "name": "stderr",
          "text": [
            " 13%|█▎        | 20/150 [00:05<00:35,  3.62it/s]"
          ]
        },
        {
          "output_type": "stream",
          "name": "stdout",
          "text": [
            "[Epoch 19 | Batch 20/150] Loss: 1.6965 | CharAcc: 0.515 | Batch size: 8 | Seq len: 180\n",
            "  [Sample GT]:   Mị Châu Quán CHÁO HẾN MỊ CHÂU Bún riêu cua Trọng Thuỷ TRỨNG VỊT LỘN ĐIỂM TÂM GIẢI KHÁT\n",
            "  [Sample Pred]: CĂ Cháy Cuan CũIC TÀU TI CHIU CÁn Maêu naanThưc  Thịy ThẦNG CĂT TÒN TTỆM TRM TIẢI THÁC        CC     CACCCCCC CCCCCCCCCCCCCC CCC AA CCCC  C CC   C   C                     C        \n"
          ]
        },
        {
          "output_type": "stream",
          "name": "stderr",
          "text": [
            " 27%|██▋       | 40/150 [00:11<00:21,  5.23it/s]"
          ]
        },
        {
          "output_type": "stream",
          "name": "stdout",
          "text": [
            "[Epoch 19 | Batch 40/150] Loss: 1.6600 | CharAcc: 0.515 | Batch size: 8 | Seq len: 166\n",
            "  [Sample GT]:   CÔNG TY KBC ĐỜI ĐỜI NHỚ ƠN CÁC ANH HÙNG LIỆT SỸ\n",
            "  [Sample Pred]: TÔNG TY THT TỜI ĐƯI TGỚ DN HH HSNH PÀNG LI T SỸ          C  AAA ACA C   AU CCCCA   ACAACC C  C  AC  CCC C CC AC CCCCCCCCACCA CC CA ACA ACACCA             A A         \n"
          ]
        },
        {
          "output_type": "stream",
          "name": "stderr",
          "text": [
            " 40%|████      | 60/150 [00:18<00:28,  3.21it/s]"
          ]
        },
        {
          "output_type": "stream",
          "name": "stdout",
          "text": [
            "[Epoch 19 | Batch 60/150] Loss: 1.7784 | CharAcc: 0.535 | Batch size: 8 | Seq len: 350\n",
            "  [Sample GT]:   CÔNG TY CỔ PHẦN ĐỒNG XUÂN ĐIỂM TRÔNG GIỮ XE MÁY 5.000đ / xe\n",
            "  [Sample Pred]: TÔNG TY CH PHẦN TƯNG TUÂN DIỆM TRƯNG TIÁ XE TÁY T 0000 / /: hCTTTTC  CTCC  CCCCCC CCCCCCCCC   C CC C C CCCCCCC C CCCCCCC  CC      CCCCCC C C C                                          C C                   C             ,                           C                            C                                                          \n"
          ]
        },
        {
          "output_type": "stream",
          "name": "stderr",
          "text": [
            " 53%|█████▎    | 80/150 [00:24<00:15,  4.60it/s]"
          ]
        },
        {
          "output_type": "stream",
          "name": "stdout",
          "text": [
            "[Epoch 19 | Batch 80/150] Loss: 1.7293 | CharAcc: 0.515 | Batch size: 8 | Seq len: 176\n",
            "  [Sample GT]:   SP SAIGON PETRO   Kp 1, TT. VĨNH AN, VĨNH CỬU, ĐỒNG NAI HỘ KINH DOANH LPG GAS SP THẢO HẠNH ĐT: 06133552702 0916240725 Số ĐKKD 4708002321\n",
            "  [Sample Pred]: CUOSAP ON PETRONSCCI 10 1I  VĨNH LN  LĨNH LHA  TƯNG TGO TƠINHNH HANNH HOH ĐA  LỐAĐH N LUTG LT: 03.0885501.09 62. 9 0  FiDK 0059 00 106 0       P  C 0A AAAAAAAA  AA AAA PACCA\n"
          ]
        },
        {
          "output_type": "stream",
          "name": "stderr",
          "text": [
            " 67%|██████▋   | 100/150 [00:28<00:08,  5.67it/s]"
          ]
        },
        {
          "output_type": "stream",
          "name": "stdout",
          "text": [
            "[Epoch 19 | Batch 100/150] Loss: 1.8459 | CharAcc: 0.476 | Batch size: 8 | Seq len: 392\n",
            "  [Sample GT]:   SỞ KẾ HOẠCH VÀ ĐẦU TƯ THÀNH PHỐ HÀ NỘI CÔNG TY CỔ PHẦN PHÁT TRIỂN HUY HOÀNG WESBITE: COPHANHUYHOANG.COM EMAIL: HUYHOANGJSC68@GMAIL.COM ĐC: SỐ 19, NGÕ 263, NGUYỄN TRÃI, THANH XUÂN, HÀ NỘI SỞ KẾ HOẠCH VÀ ĐẦU TƯ THÀNH PHỐ HÀ NỘI CÔNG TY CỔ PHẦN DỊCH VỤ VÀ TRUYỀN THÔNG TNT VIỆT NAM ĐC: Số 2/26 Ngõ 56 Lê Quang Đạo, Mỹ Đình, Từ Liêm, Hà Nội ĐT: 04.64.972.822 0972.874.772 FAX: (84) 04.64 972 822\n",
            "  [Sample Pred]: CI GẾ HOẠIH ĐÀ ĐẦU TƯ THÀNH THỐ HỒNNỘI THNG TY TỔ PHẦN THỐT THƯỂN TIYÊTOÀNG TC TÌNER CANEƯNG N I LG  H  TM NL: CỒE EAIG I    GE    VHN TT: 0Ố 0   TgU T3   TGUYỄNGTRII  TRÁNG TUÂN  TỌYNGI CU TI TU NH ĐÀNĐTU TƯNTHÁNG THÁ TÁNCGI THNG TH TH PHÁNGTẦCH TI TINTHOY N THÀNG THGHTI TRTGN TẾ: TỬ T 1  TG  T  PÝmTuýng Tưi  TỪ Tingậ Tr Tộnu  Tà Tội TTh T  3  3   32  T902 3.7.7   TA : T0.. T9.6 .T6 .T.2\n"
          ]
        },
        {
          "output_type": "stream",
          "name": "stderr",
          "text": [
            " 80%|████████  | 120/150 [00:35<00:09,  3.23it/s]"
          ]
        },
        {
          "output_type": "stream",
          "name": "stdout",
          "text": [
            "[Epoch 19 | Batch 120/150] Loss: 2.0304 | CharAcc: 0.437 | Batch size: 8 | Seq len: 326\n",
            "  [Sample GT]:   Ở ĐÂY TAI VÁCH MẠCH RỪNG NHỮNG ĐIỀU BÍ MẬT XIN ĐỪNG NÓI RA\n",
            "  [Sample Pred]: C GẠY TH  TICH TÔCH CANG ĐGỆ G CẠỆU TI TỖT BÂ  MẠNG ĐGI GA  CCTTTT TCCCPCCCCCPCTA CC C CCCCCCCCCCACAC CCCCCCCCCCCCCCCCCCCA CCCCACCCACCCCC CCOCCPC0CCC   0AC C ACC   CCC  CC CC   CCCC CCCCC C CỞCC CCCCCC C CC C  CC    C CC C CCCACCCC COC  T    COOO aCCCCCCC C CCCCC  C    CCC CCC  1 C CC C CC C CC CCCCC CCCC    C      TCC CC   \n"
          ]
        },
        {
          "output_type": "stream",
          "name": "stderr",
          "text": [
            " 93%|█████████▎| 140/150 [00:40<00:02,  4.32it/s]"
          ]
        },
        {
          "output_type": "stream",
          "name": "stdout",
          "text": [
            "[Epoch 19 | Batch 140/150] Loss: 1.8540 | CharAcc: 0.468 | Batch size: 8 | Seq len: 270\n",
            "  [Sample GT]:   TRANH THUÊ MINH MINH\n",
            "  [Sample Pred]: ThƯNG TÂAY TẠNH TTÊH  NA N AAACÀA      CTC C C   T    A  C NCCOTCCT   ACUA TP C CC TT0CATCN    A  T U OACCCT  CC CCTCCCCTCA  CCTAN ACNCCA PCC                 C  C   C    C C     CC A  C          Ở  ỞCC C              C   CT          C N     a                   C        \n"
          ]
        },
        {
          "output_type": "stream",
          "name": "stderr",
          "text": [
            "100%|██████████| 150/150 [00:43<00:00,  3.44it/s]\n"
          ]
        },
        {
          "output_type": "stream",
          "name": "stdout",
          "text": [
            "\n",
            ">>> Epoch 19 completed. Avg Loss: 1.7896 | Avg CharAcc: 0.4919\n",
            "==> Saved new best model at epoch 19 (loss=1.7896)\n",
            "\n",
            "========== EPOCH 20 ==========\n"
          ]
        },
        {
          "output_type": "stream",
          "name": "stderr",
          "text": [
            "  1%|          | 1/150 [00:00<00:25,  5.76it/s]"
          ]
        },
        {
          "output_type": "stream",
          "name": "stdout",
          "text": [
            "[Epoch 20 | Batch 1/150] Loss: 1.4837 | CharAcc: 0.583 | Batch size: 8 | Seq len: 98\n",
            "  [Sample GT]:   Bạn đang ở đây You are here Cũi Trẻ Em Thay Tã Nơi Thay Đồ Cho Trẻ Em Nhà Vệ SInh Cho Trẻ Em\n",
            "  [Sample Pred]: CInhđang t Lếy Yoa cra Taae Tai Tru cm Tran Ti Đgi Tran Tồ Tho Trẻ cm Tha TệtSINg Tho Thẻ Nc nNN C\n"
          ]
        },
        {
          "output_type": "stream",
          "name": "stderr",
          "text": [
            " 13%|█▎        | 20/150 [00:06<00:30,  4.23it/s]"
          ]
        },
        {
          "output_type": "stream",
          "name": "stdout",
          "text": [
            "[Epoch 20 | Batch 20/150] Loss: 1.4887 | CharAcc: 0.585 | Batch size: 8 | Seq len: 173\n",
            "  [Sample GT]:   WC NỮ PHÒNG GIÁM THI TẦNG 3\n",
            "  [Sample Pred]: CeÔCG THÒNG TIÁO THỰ TRN  T              A CC A           C CCNA C CC   T C  CC    C O  C    C       ỐACC ICC C CCCCC CCNCC   CN  N ACACCC C                              C  \n"
          ]
        },
        {
          "output_type": "stream",
          "name": "stderr",
          "text": [
            " 27%|██▋       | 40/150 [00:11<00:30,  3.66it/s]"
          ]
        },
        {
          "output_type": "stream",
          "name": "stdout",
          "text": [
            "[Epoch 20 | Batch 40/150] Loss: 1.9008 | CharAcc: 0.458 | Batch size: 8 | Seq len: 259\n",
            "  [Sample GT]:   ĐT: 061.3.965.555 061.3.965.666 Fax: 061.3.854.444 DĐ: 0913.75.75.09 DL. SINH THÁI VƯỜN làng bưởi NĂM HUỆ 170m R 109/7 hl9. ẤP VĨNH HIỆP (CÙ LAO TÂN TRIỀU. BIÊN HOÀ) XÃ TÂN BÌNH. H. VĨNH CỬU. T. ĐỒNG NAI HỢP ĐỒNG XE DU LỊCH 4.7.16.30 CHỖ Liên hệ: 0968.059060\n",
            "  [Sample Pred]: TƯ: 0933888  .856.093.3836..8 0 1ax: 09363.38. 4 0O: 090 .87317239 ĐĐ  1ỐN  THAIÊHIƠN Đamh nuơi vHM HOY H9 3 T T  02 Hú442HP HĨNH LOÊP VTH HA  THN LRƯỆU  TẮNN VOÀN TÃ HHN HINH  TỒ VĨNH LỬU  LỈ LỒNG THI TÀ  LỒNG TÂ TUYVỄCH V.0. .11.0XHI Xiên to: 09018890.919\n"
          ]
        },
        {
          "output_type": "stream",
          "name": "stderr",
          "text": [
            " 40%|████      | 60/150 [00:17<00:39,  2.29it/s]"
          ]
        },
        {
          "output_type": "stream",
          "name": "stdout",
          "text": [
            "[Epoch 20 | Batch 60/150] Loss: 1.9197 | CharAcc: 0.463 | Batch size: 8 | Seq len: 201\n",
            "  [Sample GT]:   KHÔNG ĐIỀU KHIỂN XE KHI CHƯA ĐỦ TUỔI HOẶC KHÔNG CÓ GPLX PHÒNG CSGT ĐƯỜNG DÂY NÓNG PHẢN ÁNH TRẬT TỰU ATTGT ĐT: 0703.833939 - 0931033113\n",
            "  [Sample Pred]: ĐHÁNG TI U THÍ N TE MHOỀTHOA CỦ TRẤI TOAC DHÔNG TÓ TIHA DHÒNG TÓẢT ĐƯỜNG TỪY CHC  NHÒ GT H THAN NU  BNIÉA ĐỊ: 0703.338339 0 -90.    1   CCCCC      C    CC CP C  C     CCCCCCCCC CC CCCCCC A CCC C CCCCCC\n"
          ]
        },
        {
          "output_type": "stream",
          "name": "stderr",
          "text": [
            " 54%|█████▍    | 81/150 [00:24<00:16,  4.21it/s]"
          ]
        },
        {
          "output_type": "stream",
          "name": "stdout",
          "text": [
            "[Epoch 20 | Batch 80/150] Loss: 1.9607 | CharAcc: 0.453 | Batch size: 8 | Seq len: 332\n",
            "  [Sample GT]:   ELANTRA Tăng tốc tới tương lai 279 SONATA SAN ELANT\n",
            "  [Sample Pred]: CXE TEANSRng thi chi thợng tà  m9  TAU LI BALGTXERDEN     ACAC OCC  CATP    ACCCAAACAAC CCCCACACACCC CCCCCCCC CCCCCCCCCCCCC  CCCAACCCCCCAACCC C       C  94O  C O CC  A C   C    C  C CC C ỞCỞ     C CC   CC O C C   C C COCC CCCC C   T  CCA C ỐCC C CCCO9 CCCCCC C C O C   CCC C       C  CC  C  C   C                   C     C CC  C  \n"
          ]
        },
        {
          "output_type": "stream",
          "name": "stderr",
          "text": [
            " 67%|██████▋   | 100/150 [00:31<00:11,  4.32it/s]"
          ]
        },
        {
          "output_type": "stream",
          "name": "stdout",
          "text": [
            "[Epoch 20 | Batch 100/150] Loss: 1.8220 | CharAcc: 0.490 | Batch size: 8 | Seq len: 137\n",
            "  [Sample GT]:   BẢO TÀNG DÂN TỘC HỌC VIỆT NAM VIETNAM MUSEUM OF ETHNOLOGY MUSÉE D'ETHNOGRAPHIE DU VIETNAM\n",
            "  [Sample Pred]: CáN TRNG TÂY HÍC HỌC TI N NAM TINTNAM VUATNN VFFRTENON N  SUAH  OIST NHN YTOIT OỤ AINTEAM  TCTCCTCAT COCACCCCCCCCCC CCCCC CC CCONCCCCCCCC\n"
          ]
        },
        {
          "output_type": "stream",
          "name": "stderr",
          "text": [
            " 80%|████████  | 120/150 [00:36<00:07,  4.07it/s]"
          ]
        },
        {
          "output_type": "stream",
          "name": "stdout",
          "text": [
            "[Epoch 20 | Batch 120/150] Loss: 1.9114 | CharAcc: 0.447 | Batch size: 8 | Seq len: 235\n",
            "  [Sample GT]:   INTERNATIONAL MEDIA CENTER DPRK -USA Hanoi Summit VIET NAM PHÒNG Y TẾ MEDICAL ROOM\n",
            "  [Sample Pred]: CỆH R   OON   CADIC CH NER TEHOIC S NCEnkpn-ốr  neTIỆTENAMECHÒNG C NHTGACECE EEONMA NNN  N   A  AAOCCC ACCCCCCC CCCC CC C CC   C  MCNCCCCCCCCC C      Ở OC O  C  ACC C   ACC CC C   A  C CC ƠỞACC ỞCCỞC C C   N  NCC    O ỐCCOCC Ố 0 CCC C \n"
          ]
        },
        {
          "output_type": "stream",
          "name": "stderr",
          "text": [
            " 93%|█████████▎| 140/150 [00:41<00:02,  4.47it/s]"
          ]
        },
        {
          "output_type": "stream",
          "name": "stdout",
          "text": [
            "[Epoch 20 | Batch 140/150] Loss: 1.7991 | CharAcc: 0.510 | Batch size: 8 | Seq len: 149\n",
            "  [Sample GT]:   Tạp Hoá TRÚC UYÊN Sunplay Sunday NHÀ THUỐC HẠNH ĐÀO NattoEnz Ảnh Màu Kỹ Thuật Số Quầy Lưu Niệm TÔ CHÂU ĐC: KHU DU LỊCH HÒN PHỤ TỬ - DĐ: 0123.3044499\n",
            "  [Sample Pred]: Tri Cot TRƯ  TYÊN Ttp p   Tupgit TaÂ NRỰỐC NẢNH ĐTO TOme   k NNg TIn Dh Thuán Tố HuốnệHưn Tgện Th ĐhUU DT: ShA TƯ HOCH ĐOAHTHỐ ĐR H HĐT 071  318 4443\n"
          ]
        },
        {
          "output_type": "stream",
          "name": "stderr",
          "text": [
            "100%|██████████| 150/150 [00:44<00:00,  3.37it/s]\n"
          ]
        },
        {
          "output_type": "stream",
          "name": "stdout",
          "text": [
            "\n",
            ">>> Epoch 20 completed. Avg Loss: 1.7545 | Avg CharAcc: 0.4991\n",
            "==> Saved new best model at epoch 20 (loss=1.7545)\n",
            "\n",
            "========== EPOCH 21 ==========\n"
          ]
        },
        {
          "output_type": "stream",
          "name": "stderr",
          "text": [
            "  1%|▏         | 2/150 [00:00<00:34,  4.34it/s]"
          ]
        },
        {
          "output_type": "stream",
          "name": "stdout",
          "text": [
            "[Epoch 21 | Batch 1/150] Loss: 1.5781 | CharAcc: 0.548 | Batch size: 8 | Seq len: 204\n",
            "  [Sample GT]:   LỄ KHÁNH THÀNH TRỤ SỞ LÀM VIỆC CÔNG AN TỈNH VĨNH LONG Vĩnh Long, ngà 06 tháng 01 năm 2017 Chúc Mừng TỈNH ỦY VĨNH LONG Chúc Mừng NGUYÊN THU Chúc Mừng THỊ Chúc Mừng KY Chúc Mừ UBND TỈNH VĨNH LONG Chúc Mừng\n",
            "  [Sample Pred]: TỄ KHAMH THÀNH THƯ NỞ KÝM CÀỆT NÁNG TN TRNH VĨNH LONG ĐInh Lonh, ngày1  1hung n12ngm 2010 2húc Nừng MHNH MY MÀNH TONG TỬúc Mừng TGHYỄN THU H úc Từng CHACChúc Mừng Cí THúchMừnMSNG MHNH MĨNG MONG MhíchMừngh\n"
          ]
        },
        {
          "output_type": "stream",
          "name": "stderr",
          "text": [
            " 14%|█▍        | 21/150 [00:04<00:25,  5.12it/s]"
          ]
        },
        {
          "output_type": "stream",
          "name": "stdout",
          "text": [
            "[Epoch 21 | Batch 20/150] Loss: 1.7443 | CharAcc: 0.492 | Batch size: 8 | Seq len: 624\n",
            "  [Sample GT]:   LÊ TRUNG CƯỜNG Dẫu không nhìn thấy Nắng NHÀ XUẤT BẢN VĂN HOÁ - VĂN NGHỆ\n",
            "  [Sample Pred]: CỐNTHƯNG TÔỜNG TÂu Đhúng nhìngThậy ngmg NgÂ NUẤT HẢN HĂN HOÁ H HĂN TGHI            C   C         A  à    CCCCCCC CCC CCCCCT  C C   C CCCC C C  Ở          4      C   C        C       CC   C  C C       C               C                  T  0a         CC  C   C  C    C  C  C  C         CC C         C      M           C                     ,C T                 C                              PC        Ố C  CC             C     C  C        CÔ C                     C    C                                  C          C            C CCC C CCCCCC C CC C  T  CỐ,       CC     C    C  CCC    C      C  C             ê   CC  Ố  \n"
          ]
        },
        {
          "output_type": "stream",
          "name": "stderr",
          "text": [
            " 27%|██▋       | 40/150 [00:09<00:21,  5.02it/s]"
          ]
        },
        {
          "output_type": "stream",
          "name": "stdout",
          "text": [
            "[Epoch 21 | Batch 40/150] Loss: 1.6478 | CharAcc: 0.520 | Batch size: 8 | Seq len: 327\n",
            "  [Sample GT]:   SURF BAR 1 Bãi biển Xuân Diệu SPECIAL DIỆN MẠO MỚI SPECIAL\n",
            "  [Sample Pred]: ThN FSU  S Lúo tiển puân Niệu kảECuNL CANT CAI TỪI TIAN AL N  II  TCTGP      CTP A      C C   PCCC  CACCCCCCP CCCCCCCCC C  CCCCACC CCCCCCàCCCCƠ  C Ở    0A  C CP  CTCC        a       C C  CC    C C Ở   CC C CC C  C   C C   CC C  C           TC C a C  C CCC  CCCC C       C CC   C    C CC       CCMC C  C    C        C  CCCỞ    C\n"
          ]
        },
        {
          "output_type": "stream",
          "name": "stderr",
          "text": [
            " 40%|████      | 60/150 [00:15<00:24,  3.62it/s]"
          ]
        },
        {
          "output_type": "stream",
          "name": "stdout",
          "text": [
            "[Epoch 21 | Batch 60/150] Loss: 2.0702 | CharAcc: 0.423 | Batch size: 8 | Seq len: 928\n",
            "  [Sample GT]:   Năng lực tư duy bậc cao Ngôn ngữ - - Sáng tạo APAX LEADER\n",
            "  [Sample Pred]: CHn  2àc tướcẫy cạn cũr sghn ngà t h Nan  Tại tn C DED     C IHTP    T    C C CC     CC C  CCa CAS CCCCCCC CCCCCCCƠCCCCCCCƠ C   M C CCCCCCCCCC         C ỞCPC  AƠ  C      CC C C UCCC  CCC  C CCCC CCC   CCC  C          CC C CCCCC  O   C     C C   CC  C C CCC   CC    MC C  CCC  CCC  C    CCC C C     C     C              C  C     CC    C     C   Ở C C   Ở CỞCC CC           Ở  C   C C        MCC MC       CCCC   Ở   Ở   C                 CC    C  C         C          C     CC    CCC          C  CC     C    C   Ô   C    CC              CCC CCC CC CC CC       C  C   CC CCCCCC   Ở  C CC  CC C    C   CC           CCCC CCCC C CCCC  C CCCCCCC  C    C  C   CCC    C              C       C                 C        C                    C           CC     C C CCCC C       C C CỞCCCkCCC CC  CC  C ỞCC C    0C     C    C    C CCCC CC C  0C   CC  CC 1C    CC C  C CCC  C  CCC C0CC C   C CC   CC)CC  C  CCCỐC  CC  C ƠC  C        C   C  \n"
          ]
        },
        {
          "output_type": "stream",
          "name": "stderr",
          "text": [
            " 53%|█████▎    | 80/150 [00:22<00:20,  3.44it/s]"
          ]
        },
        {
          "output_type": "stream",
          "name": "stdout",
          "text": [
            "[Epoch 21 | Batch 80/150] Loss: 1.7059 | CharAcc: 0.514 | Batch size: 8 | Seq len: 147\n",
            "  [Sample GT]:   PHẬT GIÁO HUYỆN YÊN THÀNH CHIA SẺ YÊU THƯƠNG TẠI CÒ PHẠT CON CUÔNG HUỔI PỐC KỲ SƠN 37C-255.91\n",
            "  [Sample Pred]: CHỐT HIÁO DÀY N TÊN THỐNH THIỀ TÁ LÊN THÁỢNG TII ĐÓ NHƯC CHM THÔNG TOẬI THC TI CỐN C 0 P0 39 n PC C TCCCCCC CCACCCCCCC CCCCC  CN CC CCC CCCCCCCCCC\n"
          ]
        },
        {
          "output_type": "stream",
          "name": "stderr",
          "text": [
            " 67%|██████▋   | 100/150 [00:27<00:12,  4.10it/s]"
          ]
        },
        {
          "output_type": "stream",
          "name": "stdout",
          "text": [
            "[Epoch 21 | Batch 100/150] Loss: 1.9210 | CharAcc: 0.456 | Batch size: 8 | Seq len: 170\n",
            "  [Sample GT]:   KHO NGOẠI QUAN CÔNG TY CỔ PHẦN - THƯƠNG PHAN DUY CORP.\n",
            "  [Sample Pred]: CHUAKGHẠI DUÁN THNG TY TỔ PHẦN T SHÔƠNG -HƯNHĐA ỆT  A  N    N C    P    C C     Pà C  C P C CC P  CCPPCCCCCPCCC CCCCCCPCƠ   CC  NCCCCCCCPC CCCP              PCC       CCP\n"
          ]
        },
        {
          "output_type": "stream",
          "name": "stderr",
          "text": [
            " 81%|████████  | 121/150 [00:35<00:11,  2.56it/s]"
          ]
        },
        {
          "output_type": "stream",
          "name": "stdout",
          "text": [
            "[Epoch 21 | Batch 120/150] Loss: 1.7510 | CharAcc: 0.514 | Batch size: 8 | Seq len: 72\n",
            "  [Sample GT]:   SUPER S NH TRO BÚN DỌC MÙNG 106 LƯƠNG YÊN BÚN MĂ HƯN HONDA 29 - 16 5122\n",
            "  [Sample Pred]: CỞN R SỮSHITÂÀNTUC BÂC NANG K008ĐƯƠNG NÊ  HÌN CIMHUNGLONGA C0 2 11 00   \n"
          ]
        },
        {
          "output_type": "stream",
          "name": "stderr",
          "text": [
            " 93%|█████████▎| 140/150 [00:40<00:02,  3.86it/s]"
          ]
        },
        {
          "output_type": "stream",
          "name": "stdout",
          "text": [
            "[Epoch 21 | Batch 140/150] Loss: 1.7149 | CharAcc: 0.509 | Batch size: 8 | Seq len: 117\n",
            "  [Sample GT]:   CLB TÌNH NGUYỆN HOPE Đêm Hội Trăng Rằm Dương Quỳ, ngày 29/9/2018 chăm sóc - yêu thương - chia HOPE Love Share Care\n",
            "  [Sample Pred]: CÔE TỔNHÂTGHYÊN TÀNE CTn Hài Trăng T mTương nuỳ  Thhy 19/ / 01. 0h m 0ùn C hên nhiơn  1 thựệ Top. Tone Đhore -hre  C\n"
          ]
        },
        {
          "output_type": "stream",
          "name": "stderr",
          "text": [
            "100%|██████████| 150/150 [00:44<00:00,  3.39it/s]\n"
          ]
        },
        {
          "output_type": "stream",
          "name": "stdout",
          "text": [
            "\n",
            ">>> Epoch 21 completed. Avg Loss: 1.7138 | Avg CharAcc: 0.5095\n",
            "==> Saved new best model at epoch 21 (loss=1.7138)\n",
            "\n",
            "========== EPOCH 22 ==========\n"
          ]
        },
        {
          "output_type": "stream",
          "name": "stderr",
          "text": [
            "  1%|          | 1/150 [00:00<00:56,  2.61it/s]"
          ]
        },
        {
          "output_type": "stream",
          "name": "stdout",
          "text": [
            "[Epoch 22 | Batch 1/150] Loss: 1.6028 | CharAcc: 0.548 | Batch size: 8 | Seq len: 193\n",
            "  [Sample GT]:   TRẦN VĂN HIỀN\n",
            "  [Sample Pred]: TRƯN TÀN POỆN  H        C C  0        C            C C     C                     C       C            Ở  C CC  ỞC CCCCC C           C         0         4                             C C       \n"
          ]
        },
        {
          "output_type": "stream",
          "name": "stderr",
          "text": [
            " 13%|█▎        | 20/150 [00:04<00:36,  3.59it/s]"
          ]
        },
        {
          "output_type": "stream",
          "name": "stdout",
          "text": [
            "[Epoch 22 | Batch 20/150] Loss: 1.5015 | CharAcc: 0.555 | Batch size: 8 | Seq len: 242\n",
            "  [Sample GT]:   VNSTEEL THANG LONG KIẾN TẠO GIÁ TRỊ CÔNG TRÌNH TÔN VNSTEEL THĂNG LONG Lô 14, Khu công nghiệp Quang Minh, Mê Linh, Hà Nội K P www. vnsteelthanglong.vn\n",
            "  [Sample Pred]: CIPT RR TRANH TONG TINN THI TIÁOT I EHNG THƯNH VHN VNGTRRR PHENG TANG TO N0  NMunc ng ngh ệp tuanh Tiếh, Tê Tiêh  Kà Nội QhN.Đww.nBnste lteangl ne cn .CC PT PC C MCCCCCC  P A CCCCC CCCCC OC     C CC CC C                 C C C   C           C \n"
          ]
        },
        {
          "output_type": "stream",
          "name": "stderr",
          "text": [
            " 27%|██▋       | 41/150 [00:11<00:29,  3.67it/s]"
          ]
        },
        {
          "output_type": "stream",
          "name": "stdout",
          "text": [
            "[Epoch 22 | Batch 40/150] Loss: 1.5127 | CharAcc: 0.565 | Batch size: 8 | Seq len: 182\n",
            "  [Sample GT]:   DẠY THÊM TOÁN Lớp 9, 10, 11 VÀ 12 Luyện thi tuyển sinh vào lớp 10 Luyện thi tốt nghiệp và đại học GV: Thầy Nguyễn Ngọc Ân Đc: 40 / 15A NGUYỄN HUỆ P2 ĐT: 0703.826326 BÁN NHÀ ĐẤT\n",
            "  [Sample Pred]: CIY TÍU  CẤÀN LẺp L9 9 0 10 1i Đ  1Ợyện thựntạyển tinh tàn tii đ2 mẨy n thiệtht ngààệp tà tếi t t m t Hruu NGiy n tgàc nn đc: 0, / đ91 ĐGUYỄN CÀỆ S. TỒ: 0909.85 6   0ẤN H  NĐỒT NNCCC\n"
          ]
        },
        {
          "output_type": "stream",
          "name": "stderr",
          "text": [
            " 40%|████      | 60/150 [00:15<00:24,  3.66it/s]"
          ]
        },
        {
          "output_type": "stream",
          "name": "stdout",
          "text": [
            "[Epoch 22 | Batch 60/150] Loss: 1.6163 | CharAcc: 0.530 | Batch size: 8 | Seq len: 241\n",
            "  [Sample GT]:   LÀNG ẨM THỰC LÀNG ẨM THỰC PH m\n",
            "  [Sample Pred]: CỄ G TM NHỰC CẨNG ĐM CHƯC LHẨC/  NCOCCCCTCCCC CCCCCT  O  CCCCOCCC C CC CCOC  C  CCC CC   CC  CCOC O CCCCCoCCCCCOCCCC CC   C OCCNMCO C CCOOO CC 0  O00   0      C    C  OCCO Ở  C C     C         C CCCCC CCCC   C   CCCCCCC CC C COCCCC  C  C    \n"
          ]
        },
        {
          "output_type": "stream",
          "name": "stderr",
          "text": [
            " 53%|█████▎    | 80/150 [00:21<00:26,  2.63it/s]"
          ]
        },
        {
          "output_type": "stream",
          "name": "stdout",
          "text": [
            "[Epoch 22 | Batch 80/150] Loss: 1.5279 | CharAcc: 0.559 | Batch size: 8 | Seq len: 332\n",
            "  [Sample GT]:   CƠM TẤM CHAY\n",
            "  [Sample Pred]: CẤM THM CHIY  A AC C    M MPC   UCCCỞ CCCO CCCO O C    CCC CC  CC CCP    CCC O C    CCC  C  C  CO    CCC C  CCCC C CM C  CC C  N C O CC C0CC  Ở  C C                  C        CC  CC  CC   C  C C CC          C   C   CCCC CC C C  Ở  0        C     CC   C C   CC   C M  C C  M       CCC   MC    Ở     C M            C   M           C \n"
          ]
        },
        {
          "output_type": "stream",
          "name": "stderr",
          "text": [
            " 67%|██████▋   | 100/150 [00:28<00:13,  3.67it/s]"
          ]
        },
        {
          "output_type": "stream",
          "name": "stdout",
          "text": [
            "[Epoch 22 | Batch 100/150] Loss: 1.9500 | CharAcc: 0.470 | Batch size: 8 | Seq len: 410\n",
            "  [Sample GT]:   TIỆM TRÀ CHANH TR PIC NHIỆT ĐỚI ĐC: SỐ 2-2 Trần Vĩ, Mai Dịch, Cầu Giấy, Hà Nội Hotline: 0968 525 569 Welcome\n",
            "  [Sample Pred]: CHỆM CRÀ CHANH TRACHỆHCHÀÊM CĨN TC: SỐ 1   H.un Hi, La  Tị h, Tôu Tiảy  Tà Nội Tàtline: 09 . 994 t3, -eb:ow       C CC A A  ,Co MT C  C CCACAA C  9   C AA0    P     T    C    C      C C A   C     AO CCC CC M  CC      CO0   CC    0C          O0   0  C   CC   C C  C        M             ,         C   C        M          0         C      P   C C           Ở                                C       C O    CC   Ở \n"
          ]
        },
        {
          "output_type": "stream",
          "name": "stderr",
          "text": [
            " 80%|████████  | 120/150 [00:34<00:08,  3.56it/s]"
          ]
        },
        {
          "output_type": "stream",
          "name": "stdout",
          "text": [
            "[Epoch 22 | Batch 120/150] Loss: 1.6032 | CharAcc: 0.532 | Batch size: 8 | Seq len: 176\n",
            "  [Sample GT]:   ĐẠI HỌC HOA SEN\n",
            "  [Sample Pred]: KẠI HỌC TOÁ HỬRTO  CU    C   UACC   CCCCOCO   CC C  OO  CCC C CCCCC0P  C 0UCPC0 C OCUCCCCC U 0 OCO OOCCCCCCCCCCC OOCCCOC CO    N MMC0O00CMCN C 0  0 O  0C OP0  000C  0    C C\n"
          ]
        },
        {
          "output_type": "stream",
          "name": "stderr",
          "text": [
            " 93%|█████████▎| 140/150 [00:40<00:03,  3.08it/s]"
          ]
        },
        {
          "output_type": "stream",
          "name": "stdout",
          "text": [
            "[Epoch 22 | Batch 140/150] Loss: 1.6481 | CharAcc: 0.538 | Batch size: 8 | Seq len: 179\n",
            "  [Sample GT]:   vinapho ne không ngừng vươn xa 3G POWER\n",
            "  [Sample Pred]: Tieamho Ne Shang đghng nuơngxa đ  1hNER    CC     C      C CCCCC C     CCU CC CC CCCCCC CCCC   CC   C CCCCCCC  C CCCCCC CC C     NCC  CC C0CC 0C          C                 Ở   C C\n"
          ]
        },
        {
          "output_type": "stream",
          "name": "stderr",
          "text": [
            "100%|██████████| 150/150 [00:43<00:00,  3.43it/s]\n"
          ]
        },
        {
          "output_type": "stream",
          "name": "stdout",
          "text": [
            "\n",
            ">>> Epoch 22 completed. Avg Loss: 1.6743 | Avg CharAcc: 0.5174\n",
            "==> Saved new best model at epoch 22 (loss=1.6743)\n",
            "\n",
            "========== EPOCH 23 ==========\n"
          ]
        },
        {
          "output_type": "stream",
          "name": "stderr",
          "text": [
            "  1%|          | 1/150 [00:00<01:03,  2.33it/s]"
          ]
        },
        {
          "output_type": "stream",
          "name": "stdout",
          "text": [
            "[Epoch 23 | Batch 1/150] Loss: 1.9966 | CharAcc: 0.448 | Batch size: 8 | Seq len: 1747\n",
            "  [Sample GT]:   CÔNG TY CỔ PHẦN CỒN RƯỢU HÀ NỘI CỬA HÀNG GIỚI THIỆU SẢN PHẨM 242 Hoàng Quốc Việt, Thị Cầu, Bắc Ninh 024.39763763 0915788448 info@haloco.com.vn VAI TRÒ VÀ CHỨC NĂNG 8 THÁP CHƯNG CẤT CỦA HALCO 01 Tháp Tách khí 02 Tháp Cất khô 03 Tháp tách Aldehyde 04 Tháp Tiền tinh 05 Tháp Trích ly 06 Tháp Tinh chế 07 Tháp Tách đầu Fusel 08 Tháp Tách methanol có tác dụng tách các khí dễ bay hơi và các khí không tan khỏi dung dịch giấm Tách bã lên men và nâng nồng độ rượu Hoạt động ở áp suất khí quyển loại bỏ toàn bộ các tạp andehyde Tách những tạp chất có độ bay hơi lớn những tạp chất có độ bay hơi lớn tập trung tại phần giữa của tháp được rút ra gọi là dầu Fusel Phân tách những thành phần tạo có độ bay hơi lơn cũng như thấp hơn những thành phần có hàm lượng rất nhỏ từ đỉnh tháp dựa theo nguyên lý chưng luyện trích ly những tạp có độ bay hơi cao hơn với hàm lượng rất nhỏ được rút ra từ những đầu phù hợp trên thân tháp gọi là đầu Fusel nặng và nhẹ được đưa vào 01 tank chứa trươc khi cất cào tháp Fusel Tách những thành phần tạp có độ bay hơi lớn từ thân tháp đầu Fusel những tạp có độ bay hơi thấp được rút ra khỏi đỉnh tháp Fusel được gọi là cồn kỹ thuật Với chức năng chủ yếu là để tách methanol và diacetyl từ cồn cao độ Cồn tinh được lấy ra từ đáy Tháp tách methanol Gia nhiệt Tháp tách khi Tháp cất khô Tháp tiến tinh Tháp trích ly Tháp tinh chế Tháp tách methanol Tháp tách TA Tháp tách đầu Fusel TA Thành phẩm CÔNG TY CỔ PHẦN CỒN RƯỢU HÀ NỘI HALICO 94 LÒ ĐỨC Chúc Mừng Khai Trương Phát Tài Phát Lộc CHẤT LƯỢNG VƯỢT TRỘI MỚI CHẤT LƯỢNG VƯỢT TRỘI 120 RƯƠUHÀNỘI RƯƠUHÀNỘI UỐNG CÓ TRÁCH NHIỆM NƯỚC TRONG VEO MÀ THỰC LÀ LỬA ĐẤY VODKA HANOI CHẤT LƯỢNG VƯỢT TRỘI 1898 VODKA HÀ NỘI 1898 94 LÒ HALICO 94 LÒ ĐỨC CÔNG TY TNHH QUẢNG CÁO VÀ THƯƠNG MẠI P&G 8\n",
            "  [Sample Pred]: CÔNG TY TỔ PHẦN TÔNGCỌỜU PỌNNỘI TÔU CÀNG TIAI NHIỆT TIN ĐHÒM T   T tng 1uầc Đặệt, KPatCần  Cảc ĐinhàT 0635. . .. T932  .9 5 Ctio@eab@@o.com vn BIN TRƯ TI CÓUC CHMG T THON CHÚƠG THTHCHA BÁ  H C  CRap Crph ChànT0 Chàp TaU ThínT0.Tríp TtpoậtMee ỉ e T1 Tríp Th   T   àT  Th p Thư hàTo Tg Th p Th g ThànT0 Tháp ThphàTầu To i  T0 Tháp ThpóaT   ấog  T  Tác Tụng Tác aTốc ThácTư Tay Tai Tà Tóp Thấ Tháig T igThậi Tự g Tị  áb  teThpháTạ T nhhe  TànTgn  T n  Tộ Tườp hU i hộ   T Tp luấm chi hu  u do i lạibạ n hi cócóThp b he á ự hhcóiTgậa  l p thátạTó cư Ta  bái Tiihlgán  l p Tóathlh đầ lay lai lưigđhp hạư h n i đ àugTi n hó  h ơp cầờnóbưtáhư l i đàidụuấcuấe àlHínhhừphàchàn  hhà hál àu dừi bó cộ lay hơi loihđhn  l àờlhàt bơi l ấngolhữn ih ầu h  đa ahiờc  tưthbgáilh lầnháláấc lựaolhầ  tgưy n lớ dóáờ  TuyệngdhưnháTyễđ ôn  đrp Tó Tộ Tạr đôi Tóo cơi léi hô  hiờcg đưthc ẩ đầờcóTưtưđưlđhnđ in  Tưu n ờ Các T ún náángTạát n i đà Tầu TuseliTgig Tà b á Tườc đượ mữ  T 2Tr ghđ à  bừườnhThơ TóthThnạTáơp Tuset chpháTgán  Táái áN au Thp Tó Bầ Tu  đài T i CừnTrán Tráp Tầu huse  Thia  Từi Th bầ Tal đái Thôp Tầợc Tê hTầrhhàe đầ  áhừáp Cusel lượchTọi Ti đángCh CháậthCưi đhácóbhnh TháaT pấhà đầ tạphiCerừáoh iTà Tư iáth ớTừ ThnhTh  TưiTHn Cừ  aTầơphT t TưyTh Tầp Th p TrpháCá iino  Ti  TháệnáTháp TápháShá Tháp TátáTháiTháp TáếtgTá háTháp Táích Ti Cháp Tá  áTháuTháp TápháTátáá gáựTháp ThcháAh Tháp TápóáTầu Tus   Th Thá háT ám TH G V  TH CHÀNGThNGVƯỢT CÁ TGI TÀ Ư h C70TÒ TÀCHVHá hTừ gọVhár TRương T.ápáTO  THáp TƯcóTHÁTRAƯỢPG TIỢTRTRƯI TaI VỘÀThCƯỢTG VÀƠTRTRƯI T001TỘỢN ÀIỘI TƯỢN UNGI V NG THCTRỘ hATHÀ M TGỢCHThO G CÀONTINTHÀ HTƯITƯA TCT VI    CÀ GR THÁTHSIƠTG CIỢU VHAI T5.  TIN H CÀNVHI C95  T0 TƯAAU Ò H T  TÒ C CHCHNG TH TrG  TU NG THN TÀNTHAƠNG T N THA T0\n"
          ]
        },
        {
          "output_type": "stream",
          "name": "stderr",
          "text": [
            " 13%|█▎        | 20/150 [00:07<00:41,  3.14it/s]"
          ]
        },
        {
          "output_type": "stream",
          "name": "stdout",
          "text": [
            "[Epoch 23 | Batch 20/150] Loss: 1.4676 | CharAcc: 0.569 | Batch size: 8 | Seq len: 201\n",
            "  [Sample GT]:   NISSAN LỄ KHAI TRƯƠNG ĐẠI LÝ NISSAN HẠ LONG\n",
            "  [Sample Pred]: CHNS N CE KHÀI TRƯƠNG NII LÝ THNSANHGÀNHONG n   CT        C   C       C   C  CCCCN  CCCCCC CCC C     CCCCCCCCC C   CCC C C CCC N    N0C0:C C  C   C  C   0C       C0           CC  CC CCCC O             \n"
          ]
        },
        {
          "output_type": "stream",
          "name": "stderr",
          "text": [
            " 27%|██▋       | 40/150 [00:12<00:29,  3.73it/s]"
          ]
        },
        {
          "output_type": "stream",
          "name": "stdout",
          "text": [
            "[Epoch 23 | Batch 40/150] Loss: 1.7370 | CharAcc: 0.513 | Batch size: 8 | Seq len: 308\n",
            "  [Sample GT]:   M MÊ LINH QUÁN MỞ CỬA TỪ 10H ĐẾN 24H YOEP\n",
            "  [Sample Pred]: TIT  TINH TUÁN TỞNTÁU HR Đ   ĐÃN H0  2Ê L n      N      CCC    CC   C     CC   C  C   C C  C C C COO  C OC àCCCCCCTCO   CC O C  C    0 CCCCCCC Ở  C C C     00          C      CCCCCCCC      ỞC     CP    CACC CC  ỞC      O C CC C   OO  OỞ  ỞCCC OCC  Ở   CCCC CC  C C   CC C C      C  C   O    TC CỞCC C CP  COỞ\n"
          ]
        },
        {
          "output_type": "stream",
          "name": "stderr",
          "text": [
            " 41%|████      | 61/150 [00:19<00:21,  4.23it/s]"
          ]
        },
        {
          "output_type": "stream",
          "name": "stdout",
          "text": [
            "[Epoch 23 | Batch 60/150] Loss: 1.5557 | CharAcc: 0.539 | Batch size: 8 | Seq len: 257\n",
            "  [Sample GT]:   THANH LÝ TRẢ CỬA HÀNG TOAN BO 50% ASHION\n",
            "  [Sample Pred]: CRỊNH TO KRƯ HHA HÀNG THÀN HẠNS % 11EE N N CCC   A  CC  CTCCCO CCC   C   CCCCC CCCCCCCCCCCCC   CCCC  C CCCCPCCCCCCCCCCCCCNCC  C  C CCCCCCCCCC O C CC   C C MA       C C ƠỞC CCC C  CCC  CC  C  C C  ỞCC  C  CC    C    CC CC C CC             OOCC CO O C C  CCC \n"
          ]
        },
        {
          "output_type": "stream",
          "name": "stderr",
          "text": [
            " 54%|█████▍    | 81/150 [00:24<00:20,  3.29it/s]"
          ]
        },
        {
          "output_type": "stream",
          "name": "stdout",
          "text": [
            "[Epoch 23 | Batch 80/150] Loss: 1.8580 | CharAcc: 0.491 | Batch size: 8 | Seq len: 155\n",
            "  [Sample GT]:   CẤM XE MÁY ĐỖ XUÂN HỢP\n",
            "  [Sample Pred]: TÔM HE CÔY LỖ XEYN MÀPnC  SSCCCPPCCCACCCCOCCCC CCACC  C CCCCPCO CCP PCC O   PPCPCCCP  C CCCCCOCC    CCCC C PCC  ỞCC CC  C C CC CP   CC CCC C C     C   0C \n"
          ]
        },
        {
          "output_type": "stream",
          "name": "stderr",
          "text": [
            " 67%|██████▋   | 100/150 [00:29<00:12,  3.88it/s]"
          ]
        },
        {
          "output_type": "stream",
          "name": "stdout",
          "text": [
            "[Epoch 23 | Batch 100/150] Loss: 1.6588 | CharAcc: 0.522 | Batch size: 8 | Seq len: 158\n",
            "  [Sample GT]:   VĂN HOÁ KHO KỸ XÂY DỰNG NÔNG THÔN MỚI LÀ CHO CHÍNH MÌNH VÀ THẾ HỆ MAI SAU\n",
            "  [Sample Pred]: CIN POÁ HHUÁTH ĐÃY VỰNG VHNG NHÔN MỚN,HA NH  ĐHU H NINH ĐI ĐHÁ HÀ SAN LAH n  TTTCNNCCC0PCCCPC  C C PCCCCíCC C CCCCCMCCTTCPCCCCONỞNCCCNCCCCCCNCC     CCCCỞ C CP\n"
          ]
        },
        {
          "output_type": "stream",
          "name": "stderr",
          "text": [
            " 80%|████████  | 120/150 [00:34<00:07,  4.19it/s]"
          ]
        },
        {
          "output_type": "stream",
          "name": "stdout",
          "text": [
            "[Epoch 23 | Batch 120/150] Loss: 1.5266 | CharAcc: 0.565 | Batch size: 8 | Seq len: 152\n",
            "  [Sample GT]:   NHÀ TRỌ BÌNH DÂN Trúc Giang 24/24 có wifi 79A,QL.57 ĐT: 0703.947879\n",
            "  [Sample Pred]: CHÀ THU TÁNH TÂN THúc Tia g T0h24 Tó cici T   4L.q  1T: 0909.271.339      CNỞPTT CCCCCCCNCCN CPSSC  CỞCCACCC MCỞCC CCC        CCM N C0NCCC NCƠỞỞCO C   Ở\n"
          ]
        },
        {
          "output_type": "stream",
          "name": "stderr",
          "text": [
            " 94%|█████████▍| 141/150 [00:41<00:02,  4.24it/s]"
          ]
        },
        {
          "output_type": "stream",
          "name": "stdout",
          "text": [
            "[Epoch 23 | Batch 140/150] Loss: 1.9886 | CharAcc: 0.434 | Batch size: 8 | Seq len: 697\n",
            "  [Sample GT]:   CẤM TỤ TẬP, DỪNG XE, MUA BÁN\n",
            "  [Sample Pred]: TÔM HỤ TẬ   ĐaNG XE  MÁA XÁN        T CC  C C C T      C  CCC CMC C  C  CCC  CM C PCCCM CCCC CCC  C CCCCCCCCC     C CC CC C      N   C MCN C              CC     C     C   CC      C C  C   PƠC CC C  C           CC  M  CCCCCCCCC CC    C C OC  C        C  C   C C             C   Ở C   C   C  C    C     CC     C       P                   CCNP     C         U C C C    C    ỞC         O          Ơ        NC MM          CM         C         C                 OC     P       NC   C  M    P        CC    C  C   C    C CPCC  CCC      P CC CM  CCCCCCMC   CCCPCC  C    Ở CCỞO CCNC  OC  CCC CCC C  C C  CCỞCCC   CỞỞC C CCCCCCCCC CCCCCCC  ỞC  PCCCC CCCCCCP CPPCO CỐC  CCC      CCCPC   C C CC C CCC     CC C\n"
          ]
        },
        {
          "output_type": "stream",
          "name": "stderr",
          "text": [
            "100%|██████████| 150/150 [00:44<00:00,  3.39it/s]\n"
          ]
        },
        {
          "output_type": "stream",
          "name": "stdout",
          "text": [
            "\n",
            ">>> Epoch 23 completed. Avg Loss: 1.6430 | Avg CharAcc: 0.5270\n",
            "==> Saved new best model at epoch 23 (loss=1.6430)\n",
            "\n",
            "========== EPOCH 24 ==========\n"
          ]
        },
        {
          "output_type": "stream",
          "name": "stderr",
          "text": [
            "  1%|          | 1/150 [00:00<01:06,  2.24it/s]"
          ]
        },
        {
          "output_type": "stream",
          "name": "stdout",
          "text": [
            "[Epoch 24 | Batch 1/150] Loss: 1.5330 | CharAcc: 0.577 | Batch size: 8 | Seq len: 157\n",
            "  [Sample GT]:   ĐIỂM BÁN BẢO HIỂM Ô TÔ XE - MÁY CON NGƯỜI\n",
            "  [Sample Pred]: CƯỂM TÁN BÁO HIỂM B TÔ XE K KÁY THN TGƯỜI  UC  O  CTT   C  CCTCO C   P  C  CCCCM  CPCCTCCC  ỤC  CM M CC OC C      C C CC  CCCỞ C   Ở CC    C C C           0 \n"
          ]
        },
        {
          "output_type": "stream",
          "name": "stderr",
          "text": [
            " 13%|█▎        | 20/150 [00:06<00:36,  3.55it/s]"
          ]
        },
        {
          "output_type": "stream",
          "name": "stdout",
          "text": [
            "[Epoch 24 | Batch 20/150] Loss: 1.4601 | CharAcc: 0.580 | Batch size: 8 | Seq len: 302\n",
            "  [Sample GT]:   Lan Anh Shop Giày dép- Túi xách- Phụ kiện Fb: Lan Anh Nguyễn Thị Hotline: 0973.494.878 LYN EST.2001\n",
            "  [Sample Pred]: CỐngTnh Khop GIày Kép  Lưi dách  Tha Niện Gb:0Tan Tnh Tguyễn ThúcCotline: 090.99.99999 0iN ĐST.708         PCCCCCCCACCPCCCCP CNC  C0CC CAC PC  P C  PCC P CCC      P  C P   TCC C  CC  P           CCC    C     C C       CCC C   CC     T  C   C CC    C           C    C  C     C  S   Ở         CC    \n"
          ]
        },
        {
          "output_type": "stream",
          "name": "stderr",
          "text": [
            " 27%|██▋       | 40/150 [00:11<00:37,  2.90it/s]"
          ]
        },
        {
          "output_type": "stream",
          "name": "stdout",
          "text": [
            "[Epoch 24 | Batch 40/150] Loss: 1.4568 | CharAcc: 0.570 | Batch size: 8 | Seq len: 210\n",
            "  [Sample GT]:   ANH HÙNG DÂN TỘC LÊ LỢI 1385 1433\n",
            "  [Sample Pred]: TN  TANG NÂN DRC TÊ TỢI Đ 0 T  nCCC T CCCCCC   T CT   CCCC  T CCC  CC TC CCC T   C  CCC CCCCC TTCCC CCCCCC CC    CC O C  T  C C C  CCCCCCỞCC     CCCC CTC       T CCC       C   C CCCC   CC  C CCC   T  C  C   \n"
          ]
        },
        {
          "output_type": "stream",
          "name": "stderr",
          "text": [
            " 40%|████      | 60/150 [00:17<00:16,  5.52it/s]"
          ]
        },
        {
          "output_type": "stream",
          "name": "stdout",
          "text": [
            "[Epoch 24 | Batch 60/150] Loss: 1.5415 | CharAcc: 0.540 | Batch size: 8 | Seq len: 257\n",
            "  [Sample GT]:   SEKO NIX VINA LỄ KHÁNH THÀNH NHÀ MÁY SEKONIX VINA\n",
            "  [Sample Pred]: CỞ OOSGNINÀEA L1 KHANH TRÀNH NHÀ NÁY MAKHNGNINIEA tAC C   ACCCCCA9OO CCCCCC CCCCCCPCCCCC CC CCCPCCCC CCCCCCCCCCCCC CCCCCCCC CCNCACCCCCOCCCCCCCCỞUCC 4 C CC  ố PCOC CC C CCCCC   C    C  CCC  Ố  C  CCCCC C CCCC  CC C CCC  CCC CC:   C CC   C C CCC@   C C  CCCCC\n"
          ]
        },
        {
          "output_type": "stream",
          "name": "stderr",
          "text": [
            " 53%|█████▎    | 80/150 [00:24<00:26,  2.66it/s]"
          ]
        },
        {
          "output_type": "stream",
          "name": "stdout",
          "text": [
            "[Epoch 24 | Batch 80/150] Loss: 1.5797 | CharAcc: 0.544 | Batch size: 8 | Seq len: 152\n",
            "  [Sample GT]:   E5 XE ĐANG SỬ DỤNG XĂNG E5 SẠCH ĐỘNG CƠ - XANH CUỘC SỐNG RON 92 Cẩn thận bậc thang\n",
            "  [Sample Pred]: TL LP TANG CA DỤNG CEN  LN CẠCH ĐỘ G CỘ C LANG ĐHAC HỐ   LONTS  1Ht thàn tật 1hốnh     CCC   CPACA    CCCCAAACCCCCCCCCACACC  C N  CCCCCC CCCCC      C   \n"
          ]
        },
        {
          "output_type": "stream",
          "name": "stderr",
          "text": [
            " 66%|██████▌   | 99/150 [00:28<00:11,  4.34it/s]"
          ]
        },
        {
          "output_type": "stream",
          "name": "stdout",
          "text": [
            "[Epoch 24 | Batch 100/150] Loss: 1.6151 | CharAcc: 0.527 | Batch size: 8 | Seq len: 203\n",
            "  [Sample GT]:   KH . CẮT BÊ TÔNG 0989.156.128\n",
            "  [Sample Pred]: CHUD CÔT TÊ KHN  B988.7...13..        P CCÚ   CC C       C  C  PCC        ỐCT  PC  CCCC  CCCC  U    OCCCC    COCC C CC   CCCOCC  C  C CC C CC C CCC       M         CC C              C  CC O  C      C    \n"
          ]
        },
        {
          "output_type": "stream",
          "name": "stderr",
          "text": [
            " 81%|████████▏ | 122/150 [00:35<00:05,  4.79it/s]"
          ]
        },
        {
          "output_type": "stream",
          "name": "stdout",
          "text": [
            "[Epoch 24 | Batch 120/150] Loss: 1.8180 | CharAcc: 0.504 | Batch size: 8 | Seq len: 326\n",
            "  [Sample GT]:   Save the Children IKEA Công trình: LỚP MẪU GIÁO THÔN XYRAMAN TRƯỜNG MẦM NON XY do Tổ chức Cứu trợ trẻ em / Mỹ và Cộng đồng thực hiện Hoàn thành tháng 4/2009 Xyraman Preschool class Constructed by Save the Children US and Local Community\n",
            "  [Sample Pred]: Chme NieeNoàceu ntC  A BÔng thình  0ẻM TẦU TIẢO ThẾN TE Ồ   HTRUỜNG TẶM TgN TE Ho TH Nhic Hầu MhưnNrẻ cr c Mỹ Mà Hầig Hờn  Mhia cinn toà  pháy  0háng M/2410 myram y Tra  hao  Bhanihsh ti  c  r my tốne t e nhineu   sSốTsd hoc n tonm cine   T   H T C     T        T          T    TTTT            C             CC TTCC    TCT C \n"
          ]
        },
        {
          "output_type": "stream",
          "name": "stderr",
          "text": [
            " 94%|█████████▍| 141/150 [00:40<00:02,  3.08it/s]"
          ]
        },
        {
          "output_type": "stream",
          "name": "stdout",
          "text": [
            "[Epoch 24 | Batch 140/150] Loss: 1.8273 | CharAcc: 0.478 | Batch size: 8 | Seq len: 367\n",
            "  [Sample GT]:   CUNG ĐÌNH KOOL Kiểu Hong Kong Hương vị Bò Xốt Tương Đên Phở ăn liền: 80g (2.82 oz) Phở Trộn 12.200 8.000 MÌ TRỘN KHÔ NSX: (Xem trên bao bì) HSD: (Xem trên bao bì) CHÂU Á Bắc Ninh Hình ảnh chỉ có tính chất minh hoạ cho sản phẩm\n",
            "  [Sample Pred]: THNG TINH THAA TEểUEong tinh Aàơng tị tòntốt TCợng Đưn Như Sngtinn  000 T0 2 7ta) phụ tPan Đ032  B.30. 8a PhiN THANT Y  XXUb trên lúm pìa UÚ : TXcc từeu Hại ba) CHUU HCCÌc P êh Tanh Tnh phí pủ thch mủ t c nh tááitho :ản phẩm n     T P PP  T                  C                     T  C 5             P      P  CP   PCPCTC    TP  C      TC                            \n"
          ]
        },
        {
          "output_type": "stream",
          "name": "stderr",
          "text": [
            "100%|██████████| 150/150 [00:44<00:00,  3.39it/s]\n"
          ]
        },
        {
          "output_type": "stream",
          "name": "stdout",
          "text": [
            "\n",
            ">>> Epoch 24 completed. Avg Loss: 1.6114 | Avg CharAcc: 0.5331\n",
            "==> Saved new best model at epoch 24 (loss=1.6114)\n",
            "\n",
            "========== EPOCH 25 ==========\n"
          ]
        },
        {
          "output_type": "stream",
          "name": "stderr",
          "text": [
            "  1%|          | 1/150 [00:00<00:56,  2.65it/s]"
          ]
        },
        {
          "output_type": "stream",
          "name": "stdout",
          "text": [
            "[Epoch 25 | Batch 1/150] Loss: 1.6996 | CharAcc: 0.504 | Batch size: 8 | Seq len: 379\n",
            "  [Sample GT]:   HẠ SỐT VÀ GIẢM ĐIỂM DỪNG UÝT TRẠM DỪNG XE 26234444 QUẬN LÊ HỒNG PHONG GOLD SÔNG XANH, ĐẤT VÀNG 3\n",
            "  [Sample Pred]: TỘTHỐ  HÀ ĐIÁ  TIỆM BỪNG TA  TIÁC BING XE T040 444 XU N TI TÀNG KHƯNG K NK KỐNG TE    ĐẾT XĨ G Đ0  P  P CCCPPCC  PỞ T C   CCC    C  CCCCCCCC ỞA    PC  C C  C  P  T0CC T   CC CC    CCCC C CU CCC CCPCCC  CC CCC  CC   C CC CCCC CC       C C CC0   C  C  C CCC     CCC C  C   C CC     CCCCCCCC  C CCCCCC  C   P C  PC       C           C C      CC        CO  CC  O   CC   C      CCC   \n"
          ]
        },
        {
          "output_type": "stream",
          "name": "stderr",
          "text": [
            " 13%|█▎        | 20/150 [00:06<00:31,  4.11it/s]"
          ]
        },
        {
          "output_type": "stream",
          "name": "stdout",
          "text": [
            "[Epoch 25 | Batch 20/150] Loss: 1.4043 | CharAcc: 0.582 | Batch size: 8 | Seq len: 250\n",
            "  [Sample GT]:   XĂNG DẦU GAS DẦU NHỜN BẢO HIỂM NGÂN HÀNG DỊCH VỤ\n",
            "  [Sample Pred]: CENG TẦU CIN DẦU CHÂN TÌO HÀỂM SHON TOMG VÂCH VỤ   A      CCA C  C         CC  C OƠ   C   C C       CCCCC        C C CCC     C      C  CC CCC   C    C 0 C C    Ơ           CCCC   CC C  C     C CCC         C  C    C  C C    C C             CC       \n"
          ]
        },
        {
          "output_type": "stream",
          "name": "stderr",
          "text": [
            " 27%|██▋       | 40/150 [00:13<00:30,  3.55it/s]"
          ]
        },
        {
          "output_type": "stream",
          "name": "stdout",
          "text": [
            "[Epoch 25 | Batch 40/150] Loss: 1.7390 | CharAcc: 0.514 | Batch size: 8 | Seq len: 94\n",
            "  [Sample GT]:   QUÝ KHÁCH VUI LÒNG KHÔNG SỬ DỤNG QUÁ 1 0 P XIN CẢM ƠN !\n",
            "  [Sample Pred]: HUÁ THÁNH KẬI CẨNG KHÁNG KỬAXỤCG KUỐNB K LHKEN KHN B  C    CA      A A   A CCCM  M1A ACA   A A\n"
          ]
        },
        {
          "output_type": "stream",
          "name": "stderr",
          "text": [
            " 40%|████      | 60/150 [00:18<00:28,  3.14it/s]"
          ]
        },
        {
          "output_type": "stream",
          "name": "stdout",
          "text": [
            "[Epoch 25 | Batch 60/150] Loss: 1.6252 | CharAcc: 0.533 | Batch size: 8 | Seq len: 80\n",
            "  [Sample GT]:   THE JJ SHOP SAO ĐẠI HÀN\n",
            "  [Sample Pred]: CHÔOT oSOAN SO RTẠI ĐÀ Gn   PTOCCACCC CCCCC CC C C   ACC CCT CC COCC C C     CCT\n"
          ]
        },
        {
          "output_type": "stream",
          "name": "stderr",
          "text": [
            " 53%|█████▎    | 80/150 [00:24<00:14,  4.77it/s]"
          ]
        },
        {
          "output_type": "stream",
          "name": "stdout",
          "text": [
            "[Epoch 25 | Batch 80/150] Loss: 1.5329 | CharAcc: 0.566 | Batch size: 8 | Seq len: 182\n",
            "  [Sample GT]:   ĐƯỜNG NGUYỄN TRẢI ĐẠI LỘ BÌNH DƯƠNG\n",
            "  [Sample Pred]: TỊỜNG NGUYỄN TRƯI PẠI HỘ TÌNH NƯƠNG NIC    C C  C     C   C CC C 0  C0 C CC  C CC CCCCC CCCCCCCCCC C CCC0CCCCCCCCƠ CCCƠ CCCC         C   C C       00C   0C 0MC  0  0 0  CC   C C CC C\n"
          ]
        },
        {
          "output_type": "stream",
          "name": "stderr",
          "text": [
            " 67%|██████▋   | 100/150 [00:30<00:15,  3.30it/s]"
          ]
        },
        {
          "output_type": "stream",
          "name": "stdout",
          "text": [
            "[Epoch 25 | Batch 100/150] Loss: 1.5446 | CharAcc: 0.535 | Batch size: 8 | Seq len: 254\n",
            "  [Sample GT]:   CÔNG TY KBC ĐỜI ĐỜI NHỚ ƠN CÁC ANH HÙNG LIỆT SỸ\n",
            "  [Sample Pred]: CÔNG TR THY TỜN NỜI NHỚTNN NÔC ĐN  TỢNG TIÊT HỸ    C ACC CCCCAAAC  C C CCC  CCCC   C CCCC CCCCCCCA CCCCC CCCCCCCC CCCCCCC C C C       C C CCC 0 CC C0C  00Ơ  C0  I C  C C CCCC C C     CCC     C C CC   CC C   C     C  C CCC  CC C C    CC CCC  ƠCC C0 C    C\n"
          ]
        },
        {
          "output_type": "stream",
          "name": "stderr",
          "text": [
            " 80%|████████  | 120/150 [00:36<00:09,  3.01it/s]"
          ]
        },
        {
          "output_type": "stream",
          "name": "stdout",
          "text": [
            "[Epoch 25 | Batch 120/150] Loss: 1.4564 | CharAcc: 0.569 | Batch size: 8 | Seq len: 211\n",
            "  [Sample GT]:   KHÓM HƯNG ĐẠO VƯƠNG TOÀN DÂN HẺM 60 ĐOÀN KẾT QUYẾT TÂM XÂY DỰNG ĐỜI SỐNG VĂN HÓA ĐƯỜNG NGUYỄN THỊ MINH KHAI ĐC\n",
            "  [Sample Pred]: THUM TƯNG TẠO TƯ NG TRÀN VÂN PỌM V59LÊÀN TIT GUẢẾT VÂM XÂY DỰNG KỘI VỐNG VÀN ĐON ĐIỜNG SHUYỄN VRỊ TẶNH HHÔI ĐCH CCCGCTCTCCOCCCM CA NCCCCCCCCCCAC MỞCỞ8C  0OAM MO AO0ACAA  0CAUA CCA 0CCCCA0  AC    CCA  CCA CCUC C \n"
          ]
        },
        {
          "output_type": "stream",
          "name": "stderr",
          "text": [
            " 93%|█████████▎| 140/150 [00:41<00:01,  5.47it/s]"
          ]
        },
        {
          "output_type": "stream",
          "name": "stdout",
          "text": [
            "[Epoch 25 | Batch 140/150] Loss: 1.6809 | CharAcc: 0.534 | Batch size: 8 | Seq len: 120\n",
            "  [Sample GT]:   HOẠT HUYẾT TRALY\n",
            "  [Sample Pred]: CAAI HỌY T TỪANE  CCNC TCCC TC CS   CC0CC    CC TC  Ơ 0 CCCCCCCOCCCC ỞCCCOUUCTTCCCCCCCC C C CCC  CCCCCCCCCCCC CCTƠCCCCCO\n"
          ]
        },
        {
          "output_type": "stream",
          "name": "stderr",
          "text": [
            "100%|██████████| 150/150 [00:43<00:00,  3.44it/s]\n"
          ]
        },
        {
          "output_type": "stream",
          "name": "stdout",
          "text": [
            "\n",
            ">>> Epoch 25 completed. Avg Loss: 1.5943 | Avg CharAcc: 0.5352\n",
            "==> Saved new best model at epoch 25 (loss=1.5943)\n",
            "\n",
            "========== EPOCH 26 ==========\n"
          ]
        },
        {
          "output_type": "stream",
          "name": "stderr",
          "text": [
            "  1%|          | 1/150 [00:00<00:36,  4.09it/s]"
          ]
        },
        {
          "output_type": "stream",
          "name": "stdout",
          "text": [
            "[Epoch 26 | Batch 1/150] Loss: 1.4148 | CharAcc: 0.588 | Batch size: 8 | Seq len: 232\n",
            "  [Sample GT]:   BÚN CHẢ HÀNG MÀNH ĐẮC KIM SINCE 1966 HOTLINE : 0904047557 42 Nguyễn\n",
            "  [Sample Pred]: TỘN CHẢ HÀNG NẠNH CƯC NIM NỨNHONC    WOTEING E 090 .7..  76128Guyễn   iNNi0CC TTCC0 PPP0 PPC PCCC CCCPCCCCCCCCCCCCCCCCCCCCCC CCPNS  CCC C0CPCN  N CC4  C000 00CCN000C C0CCCCC  CC CC CCCCCPP  CO  CCC0ACCCCCC  C CCCC 0CC CCC  0CCCCCCTC\n"
          ]
        },
        {
          "output_type": "stream",
          "name": "stderr",
          "text": [
            " 13%|█▎        | 20/150 [00:06<00:52,  2.46it/s]"
          ]
        },
        {
          "output_type": "stream",
          "name": "stdout",
          "text": [
            "[Epoch 26 | Batch 20/150] Loss: 1.3485 | CharAcc: 0.616 | Batch size: 8 | Seq len: 163\n",
            "  [Sample GT]:   ĐẨY MẠNH VIỆC \"HỌC TẬP VÀ LÀM THEO TẤM GƯƠNG ĐẠO ĐỨC HỒ CHÍ MINH\" NguyenKim\n",
            "  [Sample Pred]: TẠY CỸNH MIỆN LHỌC THP ĐÀ ĐÀ  VRÀS CHM ĐƯƠNG TẠI HẠC HỒ CHÍ MINH\" THuyenacn  NTTTNN-GTTTTTTTPCPC COTCC CCCCCCCCCCCMCCCCCCCCC C C    CC CCCCCCC00  CCC0   CCC 0 ỞC  \n"
          ]
        },
        {
          "output_type": "stream",
          "name": "stderr",
          "text": [
            " 27%|██▋       | 40/150 [00:13<00:37,  2.93it/s]"
          ]
        },
        {
          "output_type": "stream",
          "name": "stdout",
          "text": [
            "[Epoch 26 | Batch 40/150] Loss: 1.6214 | CharAcc: 0.529 | Batch size: 8 | Seq len: 132\n",
            "  [Sample GT]:   CAO HỌC KHOÁ 18 CAO HỌC KHOÁ 6, 7, 8 & 11 (LIÊN KẾT ULIS & SNHU) CAO HỌC KHOÁ 2 (DỰ ÁN PHÁT TRIỂN GIÁO VIÊN THPT & TCCN) Kính tặng!\n",
            "  [Sample Pred]: CÔF TÙC THOÁ C001HO 1ỌC KHÁÁCT0 1, 8 K 1  CNaNN THT PNIS V 2PGO  VOOKTỌC THIÁ X VDỰ VN XHƯT MHIỂN VIỮO D ỆN MHIT Đ CHNNG ĐHnh,tặng!\n"
          ]
        },
        {
          "output_type": "stream",
          "name": "stderr",
          "text": [
            " 41%|████      | 61/150 [00:19<00:17,  4.98it/s]"
          ]
        },
        {
          "output_type": "stream",
          "name": "stdout",
          "text": [
            "[Epoch 26 | Batch 60/150] Loss: 1.4366 | CharAcc: 0.566 | Batch size: 8 | Seq len: 367\n",
            "  [Sample GT]:   DNTN VÀNG BẠC THƯƠNG MẠI DỊCH VỤ T.H TUẤN ANH huyên Mua Bán, Gia Công, Trao Đổi Vàng 18k - 24k ĐẢM BẢO - UY TÍN - CHẤT LƯỢNG 2 Quang Trung - P.8 Tel: 08.39969383 Mobile: 0986602\n",
            "  [Sample Pred]: CAH  TÀNG TACHĐHÀƠN  TẠI NÂCH VỤ THHẠCVYN CNH Tuyên ĐuniVán, Cia Tong  Tran CTi Tu   10  n N00 2TN -ẢO T UB TRN - THẤT LƯỢNG T0TUống Crung Đ -.  Vel: 09.8894 98 80obsfe: (9777  NDNT000P07700 PV PPPCCPPPCHA PCP    PCCCC  CCCCC CC  C0 0 S 0 TT o0 0  C CC C CC   C   T-   CCC P    C CCPP   C     C         T  C CP 000C CCPMCP     CCCC     C C  C  C    CC   U  C C CP  C\n"
          ]
        },
        {
          "output_type": "stream",
          "name": "stderr",
          "text": [
            " 53%|█████▎    | 80/150 [00:25<00:16,  4.37it/s]"
          ]
        },
        {
          "output_type": "stream",
          "name": "stdout",
          "text": [
            "[Epoch 26 | Batch 80/150] Loss: 1.8512 | CharAcc: 0.480 | Batch size: 8 | Seq len: 525\n",
            "  [Sample GT]:   CỬA HÀNG VẬT LIỆU XÂY DỰNG & TRANG TRÍ NỘI THẤT HUY PHÁT CHUYÊN BÁN SỈ & LẺ GẠCH MEN CAO CẤP VÁN CỐT PHA GỖ XÂY DỰNG SẮT HÌNH CÁC LOẠI ĐC 68/16A PHÓ CƠ ĐIỀU PHƯỜNG 3 TXVL ĐT 070.822754\n",
            "  [Sample Pred]: TÔA HÀNG TẬT LIỆU GÃY DỰNG N LRƯNG TRU NGI CHẤT BAYỆTHỤT NẢUYÊN TAN CỈ & LẺ HIIHỨNAL NAO ĐẦP LÀN ĐH  ĐHA ĐỖILÂY DỰNG CẮP OONH NHNHGOẠI ĐI:A6 19A GHÓ CƠ ĐIỀU PHAỜNG T THÃL ĐT 0.0.7555   ---C - C-0C00     0 0 0      - C C0CC0 0    0      0 T0  000M 6 CC  CCC 6C8 C -- MC MC-P8   0 C 5 C CC5       0   555      PPM   C5P 0PP T           C PCPM   C-0MC CP   C  M CC     C              C C C       CC CC CN C MC C  ƠM MC      C      CC          C C      M     C                M    M                C        M       P     C   P\n"
          ]
        },
        {
          "output_type": "stream",
          "name": "stderr",
          "text": [
            " 67%|██████▋   | 101/150 [00:31<00:09,  5.28it/s]"
          ]
        },
        {
          "output_type": "stream",
          "name": "stdout",
          "text": [
            "[Epoch 26 | Batch 100/150] Loss: 1.6776 | CharAcc: 0.531 | Batch size: 8 | Seq len: 274\n",
            "  [Sample GT]:   HỘI ĐỒNG NHÂN DÂN UỶ BAN NHÂN DÂN HUYỆN BA VÌ Địa Chỉ: Thị Trấn Tây Đồng Huyện BaVi TP. Hà Nội\n",
            "  [Sample Pred]: ĐÃI ĐỒNG TGÂN DÂN XỶ BAN NHÂN ĐÂN TUY   TÀ NÌ ĐẠa nầu  1ha -ỉầngThy Tạng Hàyện TininNP. Hà Nội  N C-0iiiiNNNN   C C CC Ciiii    PC   CC C4 Ở--  C  C4  0    MM         C   C             C           C      C                    C                           -  8              C  \n"
          ]
        },
        {
          "output_type": "stream",
          "name": "stderr",
          "text": [
            " 81%|████████  | 121/150 [00:35<00:06,  4.66it/s]"
          ]
        },
        {
          "output_type": "stream",
          "name": "stdout",
          "text": [
            "[Epoch 26 | Batch 120/150] Loss: 1.5949 | CharAcc: 0.543 | Batch size: 8 | Seq len: 174\n",
            "  [Sample GT]:   CLB TAEKWONDO TRƯỜNG TIỂU HỌC LÝ THƯỜNG KIỆT TUYỂN SINH HANOI TAEKWONDO Các buổi: Thứ 2-4-6 Thứ 3-5-7 Từ 18h đến 19h30 Huấn huyện viên : Hoàng Anh Dũng Mobile : 090.550.8784\n",
            "  [Sample Pred]: CÔY TẾN WON   CÍOỜNG ĐRỂU TỌC TỢ KHƯỜNG THỆN ĐHRỆN TINH POIHI SHIL    O LOc Máyi  0hi M0  2 Thứ N/  7 TÂ Đ0hu-ện P0h 0 2uyn tuyện tiên H 0oàng 0n  Mũng Từbili:0 (9  0.632277\n"
          ]
        },
        {
          "output_type": "stream",
          "name": "stderr",
          "text": [
            " 94%|█████████▍| 141/150 [00:42<00:01,  4.68it/s]"
          ]
        },
        {
          "output_type": "stream",
          "name": "stdout",
          "text": [
            "[Epoch 26 | Batch 140/150] Loss: 1.6398 | CharAcc: 0.549 | Batch size: 8 | Seq len: 196\n",
            "  [Sample GT]:   BÚN CHẢ CÁ NHA TRANG 25.000 / TÔ\n",
            "  [Sample Pred]: CẢN THẢ TH LHA LHING C  000 M 2Ôn   CT   O AC   T      C CACA CC0    AC  CC CÚ CC O P CACCICC C OCCCCCCCCCC  C  C OC CCCCC C    CM  CCCCCCCC CU  CCCỞ  C    P  O    C    CCCCCCC  CCCCC  C  C  C  \n"
          ]
        },
        {
          "output_type": "stream",
          "name": "stderr",
          "text": [
            "100%|██████████| 150/150 [00:44<00:00,  3.38it/s]\n"
          ]
        },
        {
          "output_type": "stream",
          "name": "stdout",
          "text": [
            "\n",
            ">>> Epoch 26 completed. Avg Loss: 1.5557 | Avg CharAcc: 0.5487\n",
            "==> Saved new best model at epoch 26 (loss=1.5557)\n",
            "\n",
            "========== EPOCH 27 ==========\n"
          ]
        },
        {
          "output_type": "stream",
          "name": "stderr",
          "text": [
            "  1%|          | 1/150 [00:00<00:55,  2.69it/s]"
          ]
        },
        {
          "output_type": "stream",
          "name": "stdout",
          "text": [
            "[Epoch 27 | Batch 1/150] Loss: 1.3887 | CharAcc: 0.601 | Batch size: 8 | Seq len: 107\n",
            "  [Sample GT]:   NHÀ THUỐC GIA HƯNG VN 1 0 3 4 8 9 U\n",
            "  [Sample Pred]: CHÀ THUỐC TIA BỢƠG TĂGN 131 0 4 6 1    AAA     A       A   CAA  C                 P C Ở A    0     C0 C C \n"
          ]
        },
        {
          "output_type": "stream",
          "name": "stderr",
          "text": [
            " 14%|█▍        | 21/150 [00:05<00:23,  5.40it/s]"
          ]
        },
        {
          "output_type": "stream",
          "name": "stdout",
          "text": [
            "[Epoch 27 | Batch 20/150] Loss: 1.3655 | CharAcc: 0.591 | Batch size: 8 | Seq len: 99\n",
            "  [Sample GT]:   QL9 A 16 Km 5 0 KHE SANH\n",
            "  [Sample Pred]: CU  TnL1 0m L 1 1HA SAN                 A        0 0 0 à C CC0C CC0 Ú    0Ởà C CM 0    C0C         \n"
          ]
        },
        {
          "output_type": "stream",
          "name": "stderr",
          "text": [
            " 27%|██▋       | 40/150 [00:09<00:24,  4.54it/s]"
          ]
        },
        {
          "output_type": "stream",
          "name": "stdout",
          "text": [
            "[Epoch 27 | Batch 40/150] Loss: 1.6419 | CharAcc: 0.510 | Batch size: 8 | Seq len: 624\n",
            "  [Sample GT]:   SCB NGÂN HÀNG SÀI GÒN Chương Trình Dự Thưởng Khai Xuân Như Ý Phú Quý Cả Năm BANK 24 GIẢI 36 GIẢI 1,6 TỶ ĐỒNG 01 XE MERCEDES C200 2017 12 GIẢI QLED TV VÀ HƠN 666,666 GIẢI THƯỞNG KHÁC C-Class 7\n",
            "  [Sample Pred]: CưO NGÂN TÀNG TÀYGBIN ĐÔúơng tRưnh tưcCPượng Chưi Tãân Dhi L LhịcNuý ChiNăm NắND T -2IẢN P  KIẢI G03 PI ĐỒNG X17PE CÁSF N S CA000C007 F50SIẢI SUAD TR TI PÀ  T677 :  TIỂI THÁƠNG LHÔCHCHCHls sCcC ATCCAAC  G PP PA  a Po C        A  TC   T OTTATooea Ni CPCiA C C C  C  3  CCT CP  C CPCCPCMC    CC CCC CC  CPCC  P  PP CCC CPkP      CCCCC   NT CCC C    C Ở     CCCCC CCCCCCC   C      A C   CC C CCC CCCCCCCCCCC ƠN        C C CC C C     CCI C   CC  C      C CC CCC C  C CC8C  C    CCMC C   C C  CC CC C   CCC               P CC C       C      C CCCCCCC  CCCCPC  P CCC   C PCCC   C CCCC             CC CCC CCC    CCCCCCCCCCCCC CCCC\n"
          ]
        },
        {
          "output_type": "stream",
          "name": "stderr",
          "text": [
            " 41%|████      | 61/150 [00:15<00:19,  4.68it/s]"
          ]
        },
        {
          "output_type": "stream",
          "name": "stdout",
          "text": [
            "[Epoch 27 | Batch 60/150] Loss: 1.5809 | CharAcc: 0.520 | Batch size: 8 | Seq len: 178\n",
            "  [Sample GT]:   KH . CẮT BÊ TÔNG 0989.156.128\n",
            "  [Sample Pred]: CHUC CÔM KÊ THN  B988.8.6.46       O    CC C       C  i  ý  CCCMCÚêPK OC T  CCẦ C C CCC  a  Cý   PC   C C CCCCCCCíCCCCCCCCC  0 C C CCC  C C ỞPUC    O   0C C4 C C  C   OC  CC   C\n"
          ]
        },
        {
          "output_type": "stream",
          "name": "stderr",
          "text": [
            " 53%|█████▎    | 80/150 [00:23<00:30,  2.29it/s]"
          ]
        },
        {
          "output_type": "stream",
          "name": "stdout",
          "text": [
            "[Epoch 27 | Batch 80/150] Loss: 1.5789 | CharAcc: 0.552 | Batch size: 8 | Seq len: 345\n",
            "  [Sample GT]:   CÔNG TRƯỜNG ĐANG THI CÔNG KHÔNG NHIỆM VỤ MIỄN VÀO\n",
            "  [Sample Pred]: TÔNG TRƯỜNG ĐANG THI TÔNG THÔNG TGÂỆU TỤ TI N TÀ  NAA  A  CCCCATP CO  CP OT COCC OCOPC  CCCCCP C PCCPCCC CCOCCOCCCCCCCC CCCCOC A M C CCCCCCCACC     CCCC CCC P  CC   COC C CC C Ở0CCCC CCCCCỞ CC CCỞCCACCCCCCCCC COC  CC C CC C C COCCCCO   C  C  CC         CCC CCCCC   O   CC CC   CCC CCCC OC   O C CC    CM    CC  C    P C  M  CCC  C C    CC C   \n"
          ]
        },
        {
          "output_type": "stream",
          "name": "stderr",
          "text": [
            " 67%|██████▋   | 100/150 [00:28<00:15,  3.32it/s]"
          ]
        },
        {
          "output_type": "stream",
          "name": "stdout",
          "text": [
            "[Epoch 27 | Batch 100/150] Loss: 1.6856 | CharAcc: 0.529 | Batch size: 8 | Seq len: 202\n",
            "  [Sample GT]:   NHÀ MÁY BIA VINAKEI 32/21 ẤP TIÊN LÂM BÀ MÔN, TP HCM TEL. 08.54254520 - FAX 4254519\n",
            "  [Sample Pred]: CHÀ TẠY TAN BIỆA E OA2121 NM THÊN LIM TẢIMÁNG TR.ĐCM ĐRL  Đ90870027   M FAX:N.  2. . NNCCCPCCC PCACPCCCCCCCCCCCC C CCCCCCCCC CCAM C04 CC4C444C4CC CCC4 4C  444 0CC4 0   à C  CCCCCCCCC  C4C CCCCCCCCCC   C\n"
          ]
        },
        {
          "output_type": "stream",
          "name": "stderr",
          "text": [
            " 80%|████████  | 120/150 [00:35<00:08,  3.36it/s]"
          ]
        },
        {
          "output_type": "stream",
          "name": "stdout",
          "text": [
            "[Epoch 27 | Batch 120/150] Loss: 1.7029 | CharAcc: 0.490 | Batch size: 8 | Seq len: 275\n",
            "  [Sample GT]:   LINH PHỤ KIỆN CHÍNH HÃNG HÒA PHÁT 099 456 9779\n",
            "  [Sample Pred]: CỐÊH CHẬ KINN MHÍNH CÀYG COA CHÒY T97 15  869  n          CC   0 C CC   C 0 ỐU   C    CC CC CPPC   CC CC CC C C   CCCC  C C4         k   C C ỞCỞ Ở    7  4           C         CC   C     a   4 CC  C C   C    CC      CC  O C 4  4     bC    C  4  9C   C    C   C     C C  \n"
          ]
        },
        {
          "output_type": "stream",
          "name": "stderr",
          "text": [
            " 94%|█████████▍| 141/150 [00:40<00:02,  3.12it/s]"
          ]
        },
        {
          "output_type": "stream",
          "name": "stdout",
          "text": [
            "[Epoch 27 | Batch 140/150] Loss: 1.4405 | CharAcc: 0.556 | Batch size: 8 | Seq len: 208\n",
            "  [Sample GT]:   KHÁCH SẠN HÀ NỘI SAHUL HANOI SAHUL HOTEL TỔNG CỤC DU LỊCH VIỆT NAM VIETNAM NATIONAL ADMINSTRATION OF TOURISM\n",
            "  [Sample Pred]: CHU H LẠN ĐÀ NGI ĐƠNEOLCUNGI TA UÔNTOTER THNG TÔ  TIYLỊC  VI T NAM CINRNAMALAMOONAL AOEEVATRANMONAAN TORMIE A  C C CC C I     ACCAAAC0CACACACCC CCOO   0CACPA4NCAA  AAAA  -C    C    C ACCCAố   Ở A AƠỞ)  ƠA CAC\n"
          ]
        },
        {
          "output_type": "stream",
          "name": "stderr",
          "text": [
            "100%|██████████| 150/150 [00:44<00:00,  3.39it/s]\n"
          ]
        },
        {
          "output_type": "stream",
          "name": "stdout",
          "text": [
            "\n",
            ">>> Epoch 27 completed. Avg Loss: 1.5160 | Avg CharAcc: 0.5537\n",
            "==> Saved new best model at epoch 27 (loss=1.5160)\n",
            "\n",
            "========== EPOCH 28 ==========\n"
          ]
        },
        {
          "output_type": "stream",
          "name": "stderr",
          "text": [
            "\r  0%|          | 0/150 [00:00<?, ?it/s]"
          ]
        },
        {
          "output_type": "stream",
          "name": "stdout",
          "text": [
            "[Epoch 28 | Batch 1/150] Loss: 1.3726 | CharAcc: 0.575 | Batch size: 8 | Seq len: 130\n",
            "  [Sample GT]:   Chuyên Bán CHẬU KIỂNG - CÂY CẢNH - PHÂN BÓN - HOA MÀU CÁC LOẠI HẢI Nhận Thiết Kế - Thi Công Sân Vườn ĐT: 01227755375 - 0907585786\n",
            "  [Sample Pred]: TÔúymn Tán HhÁU LiỂM  B VỔY PẢN  Đ ĐHẨN ĐÓN - TỒA TIN -HC -ẠẠI TÀI MƯận Thiệp T+pĐ Thứ Cô g -ỉn Văờn Tì: 0223 555    0 F9095 6 5  \n"
          ]
        },
        {
          "output_type": "stream",
          "name": "stderr",
          "text": [
            " 13%|█▎        | 20/150 [00:06<00:44,  2.89it/s]"
          ]
        },
        {
          "output_type": "stream",
          "name": "stdout",
          "text": [
            "[Epoch 28 | Batch 20/150] Loss: 1.3804 | CharAcc: 0.610 | Batch size: 8 | Seq len: 274\n",
            "  [Sample GT]:   TRUNG TÂM ĐIỆN MÁY MINH HOÀNG ĐT: 070.3852586 853243 FPT\n",
            "  [Sample Pred]: ĐRƯNG TÂM TIỆN MÔY MINH ĐOÀN  ĐA: 070.3 5.220 0 307  8PEn  CC   C  CCP    P CT    CCCCCC  CCCC  C CCiCCCCCCCCCC iCCCCCCCOCii CCCS  CCCCACCCCCỞC   CÚC  00A  C 6P CCCCCCà  CCiCC  C CC CC   ồ     C C )  CC  CC   C    CC C CC9CC6C    C      C1T6CC5 CỞCC  CC C9 C C C  C   C  CC\n"
          ]
        },
        {
          "output_type": "stream",
          "name": "stderr",
          "text": [
            " 27%|██▋       | 40/150 [00:12<00:28,  3.91it/s]"
          ]
        },
        {
          "output_type": "stream",
          "name": "stdout",
          "text": [
            "[Epoch 28 | Batch 40/150] Loss: 1.3834 | CharAcc: 0.605 | Batch size: 8 | Seq len: 185\n",
            "  [Sample GT]:   LG CHO THUÊ NHÀ LIÊN HỆ 0342.910.500 70\n",
            "  [Sample Pred]: CỐ CHO THUÊ THÃ NIÊN KỆ N3 4 3.53599Đ0 TCCC6  TCUP    CC  TC4A0C0  C0C  T TCTC0C5T  C U  CaPSiSiàC CC   PCC   CCiCC  C 0   C4iC C 0CC95CAC O 45Ci 050404ộ 54 0C40CCC  C5C4k6  40o4 CP\n"
          ]
        },
        {
          "output_type": "stream",
          "name": "stderr",
          "text": [
            " 40%|████      | 60/150 [00:17<00:23,  3.75it/s]"
          ]
        },
        {
          "output_type": "stream",
          "name": "stdout",
          "text": [
            "[Epoch 28 | Batch 60/150] Loss: 1.6528 | CharAcc: 0.510 | Batch size: 8 | Seq len: 327\n",
            "  [Sample GT]:   CẤM VIẾT VẼ LÊN DI TÍCH NO GRAFFITI\n",
            "  [Sample Pred]: CÔM HÁỆT NẼ GÊN TO THCH NA TRAO OTINNTTCTTT TCCCTC-      C PCCC CCPTCG0  C  C  C PDC   CP   CỞC CC   CCOCC CCCC CCC CCPCCCC0 oC0T i CCCCCCC C9C 5  CCO0 CC4454CNC  CC    P CCC C  Ở  OCCCbC     Cộ  eCC êC   C  C     CC CC00CCCCCC C C t e T C5C ộCG CC 0 5CiCCCC C9C    C  CC 5T5 5 4 9 CCCOCCCC0 6CNkM5C C T     0 CCC5   MC   C 51\n"
          ]
        },
        {
          "output_type": "stream",
          "name": "stderr",
          "text": [
            " 54%|█████▍    | 81/150 [00:24<00:16,  4.23it/s]"
          ]
        },
        {
          "output_type": "stream",
          "name": "stdout",
          "text": [
            "[Epoch 28 | Batch 80/150] Loss: 1.2820 | CharAcc: 0.637 | Batch size: 8 | Seq len: 211\n",
            "  [Sample GT]:   LỐI VÀO TRUNG TÂM THƯƠNG MẠI SHOPPING CENTER\n",
            "  [Sample Pred]: TỄI VÀO HRÀNG LÂM NHÀNNG BII SHOP ING TENTER  AC CTO  TT CTCC0OOC90 CCCC  P  CCMTT0P,CC   C  pPO 0 CC CC CPCCCCC CCCC CCC C CCC8C  09078 45CC       ,4 00 44406 -0C 0C0    PCCC5    0  0 P 1  Ơ CPC1P1 Ce C     ỞC\n"
          ]
        },
        {
          "output_type": "stream",
          "name": "stderr",
          "text": [
            " 67%|██████▋   | 100/150 [00:29<00:11,  4.40it/s]"
          ]
        },
        {
          "output_type": "stream",
          "name": "stdout",
          "text": [
            "[Epoch 28 | Batch 100/150] Loss: 1.6605 | CharAcc: 0.545 | Batch size: 8 | Seq len: 436\n",
            "  [Sample GT]:   SYM ĐẠI LÝ VINAVICO ĐC: SỐ 1 SỞ DẦU - CẦU BÌNH - HỒNG BÀNG - HẢI PHÒNG D0T: 031.6252868 * FAX: 031.6252866\n",
            "  [Sample Pred]: CpOATOO HÊ TIỆHMU O DƯ: SỐ 1 Số LẦU S THU HÌNH H TUNG BÌN  T HỒI PHÒNG -Đ : 09..32.25 9 0 FAX: 0930605256  CCD0 CCCSTCOO CC O i  C CPCS0CCCTOCCOO C 40POCIACC PSA00TC  PCCTCCCCỐCCCC PPUPỞỞ    CC  PCA A  CC  O    O  CC CC040  TG T 4 4   O     C C C CCC  CU CC C  CC4 44 C eC4  P CC   C4 M -    CPC      PMO C  C    CC   CC  4 4   4C. O C  CC  OC5CC C  XC C C     4O XCO  XO6O4  CCO 4    ƠC      C  4   OCCC\n"
          ]
        },
        {
          "output_type": "stream",
          "name": "stderr",
          "text": [
            " 80%|████████  | 120/150 [00:36<00:11,  2.55it/s]"
          ]
        },
        {
          "output_type": "stream",
          "name": "stdout",
          "text": [
            "[Epoch 28 | Batch 120/150] Loss: 1.5742 | CharAcc: 0.540 | Batch size: 8 | Seq len: 235\n",
            "  [Sample GT]:   CTY CỔ PHẦN NĂNG LƯỢNG ĐÔNG Á CẦN TUYỂN 5 THỢ PHỤ ( LAO ĐỘNG PHỔ THÔNG ) 2 ĐIỀU PHÔI BÁN HÀNG CÓ NGHIỆP VỤ KẾ TOÁN 2 TÀI XẾ XE TẢI Lương Thỏa Thuận LH: 070 650 5555 0989 375 100 0902 677 698 CẦN 20 NHÂN VI ưU TIÊN KINH Lương Liên Hệ A\n",
            "  [Sample Pred]: THY Th THẦN THNG LOUNG ĐẠNG VCTẦN TRYỂ  T CRÁ CHỤ H TẦO TỘNG THÓ THẦNG T N3PẠỂU THÒN CÁN ĐÀN  ĐÓ ĐH I P TI TI KHP  TiT N CẢTPÂ B I GIơng Thưi CRưận CÊ: M90 02  0    09   8   T 9 F26  64  C 0 SRN T  S ÀN TNNĐU Cr N TI   TÝơng TOên Sệ BX\n"
          ]
        },
        {
          "output_type": "stream",
          "name": "stderr",
          "text": [
            " 93%|█████████▎| 140/150 [00:41<00:01,  5.28it/s]"
          ]
        },
        {
          "output_type": "stream",
          "name": "stdout",
          "text": [
            "[Epoch 28 | Batch 140/150] Loss: 1.7198 | CharAcc: 0.519 | Batch size: 8 | Seq len: 410\n",
            "  [Sample GT]:   HAIHA KOTOBUKI Vị ngọt cuộc sống Origato ĐC: CT4A2 KĐT Bắc Linh Đàm Hoàng Mai Hà Nội ĐT: 0243.5400.856 Origato TƯNG BỪNG KHAI TRƯƠNG Cửa hàng Origato CT4A2 KĐT Bắc Linh Đàm Hoàng Mai Hà Nội ĂN THỬ TẶNG 01 PHÁT MIỄN PHÍ MUA 3 TẶNG 1\n",
            "  [Sample Pred]: CONO NTOTOÁNTI TƯatgọt nuyc tốngữtrigim  để: 4oYu2 TĐT:Pắc -ưếh TC  Tàa g 1a  tà Nội TT: 07.3722. 336.20nighto ToNG cắNG ĐHÔI ĐRƯƠNG Đửa tàn  1pi:amo ThHA4 SĐT Tắc Bi h Nứ  Mààng Tai Tà Nộn HNGCHÀUTrNG T1 THÁC DIỆN THO TCY T TRNG Đ0n NNN -N     NNN NNNN   CN  NN  N        C    C CCCN CCCC     NC         N     C0NN NNNGNkNN      CCC CNC C NNCN N NNNNNN    CNNNNƠN N    NƠ ƠNC   N NNCN  C  NNNNNNN CCNNNNNNCNN\n"
          ]
        },
        {
          "output_type": "stream",
          "name": "stderr",
          "text": [
            "100%|██████████| 150/150 [00:43<00:00,  3.44it/s]\n"
          ]
        },
        {
          "output_type": "stream",
          "name": "stdout",
          "text": [
            "\n",
            ">>> Epoch 28 completed. Avg Loss: 1.4814 | Avg CharAcc: 0.5626\n",
            "==> Saved new best model at epoch 28 (loss=1.4814)\n",
            "\n",
            "========== EPOCH 29 ==========\n"
          ]
        },
        {
          "output_type": "stream",
          "name": "stderr",
          "text": [
            "  1%|          | 1/150 [00:00<00:45,  3.31it/s]"
          ]
        },
        {
          "output_type": "stream",
          "name": "stdout",
          "text": [
            "[Epoch 29 | Batch 1/150] Loss: 1.5384 | CharAcc: 0.539 | Batch size: 8 | Seq len: 246\n",
            "  [Sample GT]:   LÊN KHU ĐẬU XE PARKING AREA P VÀO GA ĐÓN KHÁCH DOMESTIC TERMINAL LÊN KHU ĐẬU XE PARKING AREA P\n",
            "  [Sample Pred]: CỄN HHÁẬTÔT TE ĐHRKING LRE  PHP4O KARTÓN GHÁTH ĐOAA  IC LERANGL AAN THU DÔU CE PHRKING CRMA AA NTTSTTTT T PTTPTTT TTTTT  T  CCPS OP TỞ 41PS 04  4440 5  004S4P     0 1 k 0  11CCCC  C       11  11      9     CCC CC C C9C11CC 00 0  5T00  C 1 10C4 \n"
          ]
        },
        {
          "output_type": "stream",
          "name": "stderr",
          "text": [
            " 13%|█▎        | 20/150 [00:06<00:38,  3.36it/s]"
          ]
        },
        {
          "output_type": "stream",
          "name": "stdout",
          "text": [
            "[Epoch 29 | Batch 20/150] Loss: 1.3913 | CharAcc: 0.606 | Batch size: 8 | Seq len: 224\n",
            "  [Sample GT]:   ÁO DÀI SUMO alo n 0935 01 Út Tịch, Q Tân Bình, tP HCM 217 Hải Phòng, Q Thanh Khê, Đà Nẵng 086.586.7279 aodaisumo.com Áo dài may sẵn chỉ từ 400K K sale up to 20% TƯNG BỪNG KHAI TRƯƠNG ÁO DÀI SUMO Từ 15/12/2019 đến 18/12/2019\n",
            "  [Sample Pred]: CO HAI ĐUNO Cll C S93  0911t Tịch, C CrnưBinh, Tr TCM H09 Pai Thòng, H.Thunh,Thi, Hà Nẵng,122.8 688809 timix ukoncom Ho Ti Ton Oẵn Táỉ th 4G00 0EPảle,up Hr S001YỠG BỪNG BHAI CRƯNNG BO BAI SUMOKTR 39/12/2/19 Gến L2/1 /2/19\n"
          ]
        },
        {
          "output_type": "stream",
          "name": "stderr",
          "text": [
            " 27%|██▋       | 40/150 [00:12<00:25,  4.34it/s]"
          ]
        },
        {
          "output_type": "stream",
          "name": "stdout",
          "text": [
            "[Epoch 29 | Batch 40/150] Loss: 1.4532 | CharAcc: 0.575 | Batch size: 8 | Seq len: 157\n",
            "  [Sample GT]:   TỔNG CỤC THUẾ CỤC THUẾ TỈNH N NH BÌNH ĐỊA CHỈ: 215 ĐƯỜNG ĐINH TIÊN HOÀNG TEL: 0303898889 FAX NINH BÌNH PHO\n",
            "  [Sample Pred]: CR G HỤC THUẾ CỤC THUẾ TỈNH V VOÀPÁNH VƯN THỈ: N35 LƯỜNG TẠNH PIỆN TOÀ G TH : 07.3. 388233AX SHSHĐÌNH T.OT CCC   CC0  C00CC  0S 000000000bACC4C4400C 6000 00\n"
          ]
        },
        {
          "output_type": "stream",
          "name": "stderr",
          "text": [
            " 40%|████      | 60/150 [00:17<00:22,  4.01it/s]"
          ]
        },
        {
          "output_type": "stream",
          "name": "stdout",
          "text": [
            "[Epoch 29 | Batch 60/150] Loss: 1.4551 | CharAcc: 0.584 | Batch size: 8 | Seq len: 211\n",
            "  [Sample GT]:   Studio Tóc & Áo Cưới Thảo Mi NHÀ TẠO MẪU TÓC & MAKE UP CHUYÊN NGHIỆP DỊCH VỤ CƯỚI TRỌN GÓI QUAY CAMERA - ABUM CƯỚI - ẢNH NGHỆ THUẬT NHẬN ĐÀO TẠO HỌC VIÊN HÙNG VƯƠNG ĐT: SALON Thảo Mi CHỤP ẢNH THẺ GẤP NỐI TÓC Ch\n",
            "  [Sample Pred]: CỞacao Shc B Co Coới Thưo NI THÀ NUN MIU BEN T KIMEMU  HẢÂYÊN THHẾỆP NƯCH VỤ CHỚC COƯN COI CUẢ  CAOẶ ATC CNU  -UỜI - FNH TGHẬ TRAẬT ĐAAN -CO TAI HỌC TIỆN TọNG ĐIỜNG TC: 0ẢLON Hrào Li 0hpP ĐNH-CHẺ LIPHCAC CHC Đ â\n"
          ]
        },
        {
          "output_type": "stream",
          "name": "stderr",
          "text": [
            " 53%|█████▎    | 80/150 [00:23<00:20,  3.40it/s]"
          ]
        },
        {
          "output_type": "stream",
          "name": "stdout",
          "text": [
            "[Epoch 29 | Batch 80/150] Loss: 1.5603 | CharAcc: 0.554 | Batch size: 8 | Seq len: 253\n",
            "  [Sample GT]:   NHÀ HÀNG Nét Huế 3\n",
            "  [Sample Pred]: CHÀ TÀNG CGt Guy Đ. 0     0S 0    CÚCCCC0CCCAÚC 0 ACàAÚC  ỞCC4C01C0 C040CCCCC0C00CC40CỐC1CCCC CCCC0C CCCCCCC CCCCCCCCCCCCCCCCC4CC0 0CCbm0C6C1 C144460 44C4C 0 C0C1TC11C  6T6CCC CCCCCCCC     Ơ    CƠCCCC1C8CCCC1CC CCCC C1 C4CCC444C1101 4CCC6C 1 1C CC  C\n"
          ]
        },
        {
          "output_type": "stream",
          "name": "stderr",
          "text": [
            " 68%|██████▊   | 102/150 [00:30<00:09,  5.03it/s]"
          ]
        },
        {
          "output_type": "stream",
          "name": "stdout",
          "text": [
            "[Epoch 29 | Batch 100/150] Loss: 1.4399 | CharAcc: 0.581 | Batch size: 8 | Seq len: 178\n",
            "  [Sample GT]:   BẾP GAS BẾP TỪ HÚT MÙI BẾP GIANG ANH MÁY LỌC NƯỚC LÒ VI SÓNG\n",
            "  [Sample Pred]: CIN TAT PẠN CỤ GẾT TÙI ĐỆP N A   TNH TIY TỌC NGỚC TẨNVIỆĐỬNG T     C          CTP PO 0TP   A P CP  CCPÚeCCCCCCC     CCCC C   Ci C CCCCC0C CC  C  4    C 0  4        1 0   CC  C0 C\n"
          ]
        },
        {
          "output_type": "stream",
          "name": "stderr",
          "text": [
            " 81%|████████  | 121/150 [00:35<00:08,  3.41it/s]"
          ]
        },
        {
          "output_type": "stream",
          "name": "stdout",
          "text": [
            "[Epoch 29 | Batch 120/150] Loss: 1.5706 | CharAcc: 0.543 | Batch size: 8 | Seq len: 247\n",
            "  [Sample GT]:   ĐẠI HỌC THÁI NGUYÊN TRƯỜNG ĐẠI HỌC KHOA HỌC TNUS TRƯỜNG ĐẠI THÁI NGUYÊN\n",
            "  [Sample Pred]: TƯI BỌC NHƯI TGOYÊN THƯỜNG HẠI HỌC NHUA HỌC NHUY HHƯỜNG TẠI TRỜI HHUYÊN n CCCCCTCNTPCP0CC  CCCP PCTCỞCCCCCCCPC   CTPCCPCCCCPCCP P O  CC6CC0P P CC  C ) C0ƠC OPCCC  4HCP  W C4 CCCỞCCCC C PCP ƠP    CPCCCCCC  7CCCCC C  CC CCCCCCC CC CC CC4C  0C44OO e \n"
          ]
        },
        {
          "output_type": "stream",
          "name": "stderr",
          "text": [
            " 93%|█████████▎| 140/150 [00:41<00:02,  3.86it/s]"
          ]
        },
        {
          "output_type": "stream",
          "name": "stdout",
          "text": [
            "[Epoch 29 | Batch 140/150] Loss: 1.5932 | CharAcc: 0.520 | Batch size: 8 | Seq len: 298\n",
            "  [Sample GT]:   THANH TÙNG ĐIỆN Ô SỬA ĐỀ - ĐY MÔ Chuyên: CÁC LOẠI Ô TÔ VÀ XE CƠ GIỚI 24/24 ĐT: 0932.924.261 - FU TÔ\n",
            "  [Sample Pred]: THÀNH TRNG ĐOỂN N TƠA HƯNT ĐƯ MÁICHuyện  SáT ĐOẠI T CR HÀ ĐU CẨ TIAI S0G24 ĐƯ: 07097144431150 0U TÔ C CO C  P  PT0 TM  PTPPCo PMSCMMCB0T4PP0CP4M4C4T0PO04 04 0 000000TC0P0PT CCCC)Cb4CC0b0CCCC CA4CTCCCCTHCC0CC CCCCC    O40CCCCCC0C T0 CP0C0C0CC40C0 CC0TC CCCCCCC CCC  C6 CC   0CP CCC CCCCMCOCCCCC CPP1\n"
          ]
        },
        {
          "output_type": "stream",
          "name": "stderr",
          "text": [
            "100%|██████████| 150/150 [00:44<00:00,  3.39it/s]\n"
          ]
        },
        {
          "output_type": "stream",
          "name": "stdout",
          "text": [
            "\n",
            ">>> Epoch 29 completed. Avg Loss: 1.4476 | Avg CharAcc: 0.5712\n",
            "==> Saved new best model at epoch 29 (loss=1.4476)\n",
            "\n",
            "========== EPOCH 30 ==========\n"
          ]
        },
        {
          "output_type": "stream",
          "name": "stderr",
          "text": [
            "  1%|▏         | 2/150 [00:00<00:32,  4.57it/s]"
          ]
        },
        {
          "output_type": "stream",
          "name": "stdout",
          "text": [
            "[Epoch 30 | Batch 1/150] Loss: 1.3545 | CharAcc: 0.606 | Batch size: 8 | Seq len: 196\n",
            "  [Sample GT]:   Thế Giới Giầy 23 LƯƠNG VĂN CÙ ĐT: 0975.260126\n",
            "  [Sample Pred]: ĐHẩ Liới Niớy H0 NƯƠNG ĐĂN Đh ĐỊ: 097..36 15    0P A0 0TTHCCTT00 0TC 0TCC0 TCC0CC0C40PCC0C CU0C0 0T CUCC0TCCC9 C C4TCCPC0C040C0 CCV0CC6507 04C40)C0U94400T0C0C 0000C  0C00CCC0 CCCC CC4 4CC00C \n"
          ]
        },
        {
          "output_type": "stream",
          "name": "stderr",
          "text": [
            " 13%|█▎        | 20/150 [00:06<00:34,  3.82it/s]"
          ]
        },
        {
          "output_type": "stream",
          "name": "stdout",
          "text": [
            "[Epoch 30 | Batch 20/150] Loss: 1.2262 | CharAcc: 0.623 | Batch size: 8 | Seq len: 177\n",
            "  [Sample GT]:   HC CÔNG TY CỔ PHẦN HỢP CÔNG ĐC: KHU PHỐ 2 PHƯỜNG TP THỦ DẦU MỘT TỈNH BÌNH DƯƠNG\n",
            "  [Sample Pred]: CỘ CHNG TN TỔ PHẦN TÀP TÔNG TT: 6HU PHÚ K PHỐỜNG TR.VHU VƯU TIT THNH BÌNH VÙƠNG    k C    P          i CiCCA       C    0C4CC   000CC 0 007 00           0000Pk0 000P0T00  0  C0 \n"
          ]
        },
        {
          "output_type": "stream",
          "name": "stderr",
          "text": [
            " 27%|██▋       | 40/150 [00:12<00:37,  2.95it/s]"
          ]
        },
        {
          "output_type": "stream",
          "name": "stdout",
          "text": [
            "[Epoch 30 | Batch 40/150] Loss: 1.1917 | CharAcc: 0.648 | Batch size: 8 | Seq len: 203\n",
            "  [Sample GT]:   QUÁN ĂN NGON\n",
            "  [Sample Pred]: CUÁN CN TGON    T  T T0     0T       C0  0TC   0C   4 4 C 0  4C0C04 C004C0T :004CC4000CC0   0 006 C00C0CCC e CC0C 41 CC C 00W 1C0404C70CDDC0400 00C44C 0 60004C0b 5144C405 00b4k4O0C4CC41a110C\n"
          ]
        },
        {
          "output_type": "stream",
          "name": "stderr",
          "text": [
            " 40%|████      | 60/150 [00:18<00:23,  3.77it/s]"
          ]
        },
        {
          "output_type": "stream",
          "name": "stdout",
          "text": [
            "[Epoch 30 | Batch 60/150] Loss: 1.3593 | CharAcc: 0.604 | Batch size: 8 | Seq len: 298\n",
            "  [Sample GT]:   ĐƠN VỊ THI CÔNG PHÒNG NET CAO CẤP ORBIT ORBIT GAMING NHẬT QUÂN TƯNG BỪNG KHAI TRƯƠNG NET GAME KM TRONG 3 NGÀY Khuyến Mãi Nạp Thẻ Tặng 100% KHUYẾN MÃI ÁP DỤNG DÀNH RIÊNG CHO HỌ TỪ / ĐẾN / CÁT LỆ CÁT LỆ 77-H1 056.08 BẮC NAM BẮC NAM ĐẠI LÝ INTERNET VÀ ĐIỂM CUNG CẤP DỊCH VỤ TRÒ CHƠI ĐIỆN TỬ CÔNG CỘNG\n",
            "  [Sample Pred]: TỊN CỊ CHIÊĐÔNG SHÁNG BGM CẢM CHP IREÍT IR IT NOIENG BEÀT NUÁN TH G CỪNK THUI THƯƠNG NGM ĐAN  NM KUÁND K MGƯY NHuyến Nỹi Tgm Tàủ Tặng N0   ĐHUYẾN 1ÃI T  TỤCG TÀYG HA NG CHO HỌ NR L MẾNGC CÁT LO LÁ  LÝ L//HÁ C .-   1ẮC CAM CÁC ĐAM XẠI NY ĐNGO NGTHVÀ VẠ M NH G CHP CỊCH TÀ Đ Ò ĐHÀI ĐÀNNGV  C  G CỘCG \n"
          ]
        },
        {
          "output_type": "stream",
          "name": "stderr",
          "text": [
            " 53%|█████▎    | 80/150 [00:24<00:22,  3.11it/s]"
          ]
        },
        {
          "output_type": "stream",
          "name": "stdout",
          "text": [
            "[Epoch 30 | Batch 80/150] Loss: 1.1874 | CharAcc: 0.652 | Batch size: 8 | Seq len: 165\n",
            "  [Sample GT]:   Cafe Song Anh\n",
            "  [Sample Pred]: CÔfe Tong Snh  AATT AA AA APSAAA S OC ACAAAU T  TA PỞưAA C HTTTTT0T PPDP 0 U MppPPP P PHP6C0pPSP0X P 0i60   PCCCC   P  C   0PS0PC00PCCX0Ở 14004  0C4X454 01\n"
          ]
        },
        {
          "output_type": "stream",
          "name": "stderr",
          "text": [
            " 66%|██████▌   | 99/150 [00:28<00:15,  3.39it/s]"
          ]
        },
        {
          "output_type": "stream",
          "name": "stdout",
          "text": [
            "[Epoch 30 | Batch 100/150] Loss: 1.2588 | CharAcc: 0.613 | Batch size: 8 | Seq len: 255\n",
            "  [Sample GT]:   ĐƯỜNG HÙNG VƯƠNG Ộ\n",
            "  [Sample Pred]: CẠỜNG TONG ĐƯƠNG Tn T    HCC       CC  TC  C  C  U       CC PC         CC  T  C      4C C C C HP     C   C       CC     C CCCC    C C   C4    P 4 C C   4   54             C  C     CC  P U P            C C               0 C4C   4    P P              TC  C\n"
          ]
        },
        {
          "output_type": "stream",
          "name": "stderr",
          "text": [
            " 81%|████████  | 121/150 [00:35<00:06,  4.76it/s]"
          ]
        },
        {
          "output_type": "stream",
          "name": "stdout",
          "text": [
            "[Epoch 30 | Batch 120/150] Loss: 1.5426 | CharAcc: 0.543 | Batch size: 8 | Seq len: 266\n",
            "  [Sample GT]:   BCD PHƯỜNG AN LẠC CẢNH GIÁC GIẾT NGƯỜI CƯỚP TÀI SẢN\n",
            "  [Sample Pred]: TẢBVNHƯNNG TN TƯC ĐÓNG CIÁO TOÁT THƯỜI ĐÔỚP THI BAN n  C  CaC     a   TPCC   kTCCPkp pC  P  CPCCT  C0CCCCCCC        C  Ck C  C  CC  C  0CƠ7CA   C  C    p4            C   T p      CCC  C         p kC    CC    C C    C CC 1  CC C  1      4   C    4   C        PC     \n"
          ]
        },
        {
          "output_type": "stream",
          "name": "stderr",
          "text": [
            " 93%|█████████▎| 140/150 [00:40<00:02,  3.61it/s]"
          ]
        },
        {
          "output_type": "stream",
          "name": "stdout",
          "text": [
            "[Epoch 30 | Batch 140/150] Loss: 1.4336 | CharAcc: 0.569 | Batch size: 8 | Seq len: 265\n",
            "  [Sample GT]:   BẾP GAS BẾP TỪ HÚT MÙI BẾP GIANG ANH MÁY LỌC NƯỚC LÒ VI SÓNG\n",
            "  [Sample Pred]: CỘN TI  TẾP  H SÚC TÙA ĐaP NIÁ   T H PÁY TẺC TGỚC TI VIỆSICG           T       T   PCA P   CCP  PAACC 0TC C C      CC  C  CCC   C00 C   0CCP5CCCƠ5    44 41    4      0 1 1PPC4C6 4CCCPCX  P      1 C P 1 1k CC      C   C1 447C4C44  1     144010 5 C 4C14     1 C  4 0\n"
          ]
        },
        {
          "output_type": "stream",
          "name": "stderr",
          "text": [
            "100%|██████████| 150/150 [00:43<00:00,  3.42it/s]\n"
          ]
        },
        {
          "output_type": "stream",
          "name": "stdout",
          "text": [
            "\n",
            ">>> Epoch 30 completed. Avg Loss: 1.4089 | Avg CharAcc: 0.5820\n",
            "==> Saved new best model at epoch 30 (loss=1.4089)\n",
            "\n",
            "========== EPOCH 31 ==========\n"
          ]
        },
        {
          "output_type": "stream",
          "name": "stderr",
          "text": [
            "  1%|          | 1/150 [00:00<01:07,  2.20it/s]"
          ]
        },
        {
          "output_type": "stream",
          "name": "stdout",
          "text": [
            "[Epoch 31 | Batch 1/150] Loss: 1.2683 | CharAcc: 0.631 | Batch size: 8 | Seq len: 201\n",
            "  [Sample GT]:   QUAVIET QUÀ VIỆT SÁNH BƯỚC VINH QUANG CÚP- BẢNG VINH DANH- QUÀ TẶNG TÔN VINH CTY NAM SƠN ai Trương NAM\n",
            "  [Sample Pred]: CUÁVIARNLUÀ TIỆT SINH CƯỚC TINH TUANG TÚP  TẢOG NINH TANH  NUÁ TẶT  TÔN TIỆH TTY TAM SƠN TooSrương TAMC  OO CToT  NTTTOCOAC  0 T  4KTCCAAANA0AA 4 4   541447 TC4  14AO  O  CACCC  kCTCC  aAA 1Ơ0ầT41 1A1\n"
          ]
        },
        {
          "output_type": "stream",
          "name": "stderr",
          "text": [
            " 13%|█▎        | 20/150 [00:05<00:37,  3.47it/s]"
          ]
        },
        {
          "output_type": "stream",
          "name": "stdout",
          "text": [
            "[Epoch 31 | Batch 20/150] Loss: 1.2413 | CharAcc: 0.646 | Batch size: 8 | Seq len: 348\n",
            "  [Sample GT]:   NỘI QUY SỬ DỤNG NHÀ VỆ SINH (ĐỂ GIỮ GÌN VỆ SINH CHUNG QUÝ KHÁCH XIN LƯU Ý:) 1. KHÔNG VỨT GIẤY, RÁC VÀO BỒN CẦU. 2. KHÔNG ĐỂ CHÂN LÊN BỒN CẦU. 3. KHÔNG ĐI VỆ SINH XUỐNG NỀN NHÀ. 4. KHI ĐI VỆ SINH XONG NHỚ XẢ  NƯỚC. 5. VỨT GIẤY, RÁC VÀO THÙNG RÁC. 6. KHÔNG HÚT THUỐC TRONG NHÀ VỆ SINH. XIN CẢM ƠN QUÝ KHÁCH ! THỜI GIAN MỞ CỬA: 6 H ĐẾN 22 H HÀNG NGÀY\n",
            "  [Sample Pred]: ĐHI ĐUỐ KỬ DỪNG ĐHỚ QĨ SINH Đ1Ể TIÁ VỘN CỆ TINH VHUN  ĐUY KHÁCH GU  HẠU D:) 3. KIÁNG LỨT MIẢY  GÁC VÀO CIN ĐHU. Đ  KHING ĐẾ CÁỈN HÊ  ĐIN ĐHU. K  ĐHÁNH ĐI NỆ MINH VEÂN  NIN T À. V. VHI ĐI TỆ LINH CUNG KHÀIĐÁ LVHỚN. Đ. VT CINY  ĐÁC VÀO HHÁNH HÁC. V. HHÀNG ĐÁT CHUỐN TRON  T À ĐỆ LINH. CEN T M TN QUY KH.CH Đ THAIỀTIN  CỞ TŨA  L T TẾT T  T TÁYG TG Y \n"
          ]
        },
        {
          "output_type": "stream",
          "name": "stderr",
          "text": [
            " 27%|██▋       | 41/150 [00:10<00:21,  5.12it/s]"
          ]
        },
        {
          "output_type": "stream",
          "name": "stdout",
          "text": [
            "[Epoch 31 | Batch 40/150] Loss: 1.3517 | CharAcc: 0.578 | Batch size: 8 | Seq len: 215\n",
            "  [Sample GT]:   CAFÉ ĐIỂM TÂM YẾN LINH ĐẶC BIỆT: BÒ NÉ BÒ BÍT TẾT BÒ XÀO (BÒ TRỨNG) + ỐP LA (CÁ MÒI PATÉ) ÉP NƯỚC KEM SINH TỐ Kính Mời 102333 0907 39.84.00 TIEU DUNG\n",
            "  [Sample Pred]: CỬPE CIỂM BRM LẾN HAN  CẶC BIỆT  NI.NÉ CI CÍN BẾT BƯ XẢO TBÒ KRỨNG  Đ CP LẠNĐCÁ XÒI XASE) LP LƯỚC MEN NINH PA Mính 1ời C58/83.0989.19.88 8001INUYTUTGNPC HT0TN H0HTT00TO OHMT04ôCC C0CCCC AC00UHC  CHC40 AC CC4  7 CC \n"
          ]
        },
        {
          "output_type": "stream",
          "name": "stderr",
          "text": [
            " 40%|████      | 60/150 [00:16<00:24,  3.73it/s]"
          ]
        },
        {
          "output_type": "stream",
          "name": "stdout",
          "text": [
            "[Epoch 31 | Batch 60/150] Loss: 1.3291 | CharAcc: 0.622 | Batch size: 8 | Seq len: 241\n",
            "  [Sample GT]:   ĐƯỜNG CỐNG LỠ ĐƯỜNG PHAN HUY ÍCH 0\n",
            "  [Sample Pred]: TƯỜNG TANG TÊ LƯỜNG NHANHTUYỆT H Đ  CC  CC    C   0   D  CC      C 4        T  kDC   C  CCC C6T   4C CC0CC     CCT  CC 4  D   k0CCCCWC06A  4C4CC    4 4   4  4   k H  56     4  W    C          C CH     C      C Ố0CCC9 4        e  T \n"
          ]
        },
        {
          "output_type": "stream",
          "name": "stderr",
          "text": [
            " 53%|█████▎    | 80/150 [00:23<00:23,  2.98it/s]"
          ]
        },
        {
          "output_type": "stream",
          "name": "stdout",
          "text": [
            "[Epoch 31 | Batch 80/150] Loss: 1.5340 | CharAcc: 0.553 | Batch size: 8 | Seq len: 298\n",
            "  [Sample GT]:   ĂN CƠM CHÁY 99\n",
            "  [Sample Pred]: CN ĐHM CẤÁY M99     T              C  CC  C   T    À     C C T    T T 4TT C  TC T C  CC  T CCC   C CCCCCCCCCCC C CCCCCCCC CC CC T CTCC C CCC5C CC4C4CC D 0 4T      CTCCC   CCCCCC C  CC    CC4C CCCDT C    HC     CC    C C4C CC  CC  C CCCCC44  CC  C C C C  C     CCC  S   S C4  C4CC C  T C     C\n"
          ]
        },
        {
          "output_type": "stream",
          "name": "stderr",
          "text": [
            " 67%|██████▋   | 101/150 [00:29<00:11,  4.09it/s]"
          ]
        },
        {
          "output_type": "stream",
          "name": "stdout",
          "text": [
            "[Epoch 31 | Batch 100/150] Loss: 1.4232 | CharAcc: 0.555 | Batch size: 8 | Seq len: 239\n",
            "  [Sample GT]:   TÌNH BẠN MÃI MÃI LARUE Sữa GIÁ BÌNH DÂN\n",
            "  [Sample Pred]: CHNH CÁN MÃI LÃI LARUE BỮa GIÁ GÚN  MON  CDTON C  T T 4T   CCCCU 0  4T TU  s0TTTk kT CV  D CCCCCC UT kCC  TCCCCC C C  UCCCC CCT    CC0 C0CCC 0  CCCC   D0C40  C C045    C0tCVCC CCC CC0CCCC  C0C PCC C   TC1C CCC   Ct   C D0 T4TC CC14 T0T0T4\n"
          ]
        },
        {
          "output_type": "stream",
          "name": "stderr",
          "text": [
            " 81%|████████  | 121/150 [00:35<00:06,  4.28it/s]"
          ]
        },
        {
          "output_type": "stream",
          "name": "stdout",
          "text": [
            "[Epoch 31 | Batch 120/150] Loss: 1.4748 | CharAcc: 0.541 | Batch size: 8 | Seq len: 250\n",
            "  [Sample GT]:   VI VU MUA SẮM, VUI VẺ BẤT NGỜ VIVO GAME CENTER VIVO Canon COOP\n",
            "  [Sample Pred]: CIỆVNIDUA VTT  TUI?TE nẢT CHƯ DỆỆO GA E CENTERNCIEE VOndltCOOOMcTCDT TCTTO TTT0CCCCDTCCCCC    CCT  TTTCCC CC CCC ƠCCCCCCCCC CC,C PDCCCTDCCCCVCCDCôC CDCỞC44C44CCCDôCTCT    PCCCCDCCỐCDCCô Ơ ầA1CD D CC CtỚôC  C CeCCCD  D  4 1CCCD CD6C 1Dk: DDDDCC04Det 4\n"
          ]
        },
        {
          "output_type": "stream",
          "name": "stderr",
          "text": [
            " 94%|█████████▍| 141/150 [00:41<00:02,  4.13it/s]"
          ]
        },
        {
          "output_type": "stream",
          "name": "stdout",
          "text": [
            "[Epoch 31 | Batch 140/150] Loss: 1.3124 | CharAcc: 0.600 | Batch size: 8 | Seq len: 251\n",
            "  [Sample GT]:   HANOI CÔNG TY ĐIỆN LỰC HAI BÀ TRƯNG TRẠM BIẾN ÁP LƯƠNG YÊN CC Khi có sự cố xin gọi điện: 0242225225\n",
            "  [Sample Pred]: TỘNHI THNG TY TỘỆN TÝC HỢN CA TRẺƠG TRUI BIẾT GN DƯƠNG YÊN T ÁThú Gó kố cU henhcọc ciệm  02424275, TTTTTTT TAC CCCiCCCAC C   C N CTC SCA CC0T4C CCCC   C4ACAPC C 0    C  CCCC1C  CC  CA CCC C   CCDCCHCC  CC PTCCC  CCCCC CCCCC 4C    4 CTVC 4  DCCCCCC \n"
          ]
        },
        {
          "output_type": "stream",
          "name": "stderr",
          "text": [
            "100%|██████████| 150/150 [00:44<00:00,  3.41it/s]\n"
          ]
        },
        {
          "output_type": "stream",
          "name": "stdout",
          "text": [
            "\n",
            ">>> Epoch 31 completed. Avg Loss: 1.3800 | Avg CharAcc: 0.5866\n",
            "==> Saved new best model at epoch 31 (loss=1.3800)\n",
            "\n",
            "========== EPOCH 32 ==========\n"
          ]
        },
        {
          "output_type": "stream",
          "name": "stderr",
          "text": [
            "  1%|          | 1/150 [00:00<01:25,  1.74it/s]"
          ]
        },
        {
          "output_type": "stream",
          "name": "stdout",
          "text": [
            "[Epoch 32 | Batch 1/150] Loss: 1.4408 | CharAcc: 0.573 | Batch size: 8 | Seq len: 410\n",
            "  [Sample GT]:   ĐẠI HỌC NGOẠI THƯƠNG DAI HỌC NGOẠI THUONG 2010 ANH LAO ĐỘNG\n",
            "  [Sample Pred]: CẠI HỘC HGOẠI NHƯƠNG TAI HOC NGIẠI NHUONG H 19/1NH ĐOO TỘN  TNCTH  - CT0 Â    ÂACƠCCỨ CC  CCC C C  OCCCCCCCCCAC CCC CCDCCCCCC C   CCCCCCC4CCC444D44CC 044 44444C 4 4 C  C 4C4C1C5CCCC CC4C  9 C  CCCC4 C4C C4CCC  44 CC C4 C44C4C44 4C 144C 4448eCC44 4C 8 C8CCCCCCC C  M CC 4CCCCC4  C4 CC4D4   CC  4    C4444  44 4 4 CC 48CCMC    C  CCC  C 4CCC CC 44C44 CD4ƠƠC4 4C 4444CDC  84  S   4 44D 4 CC1144C  4CCC )4 CCCCC44\n"
          ]
        },
        {
          "output_type": "stream",
          "name": "stderr",
          "text": [
            " 14%|█▍        | 21/150 [00:05<00:27,  4.68it/s]"
          ]
        },
        {
          "output_type": "stream",
          "name": "stdout",
          "text": [
            "[Epoch 32 | Batch 20/150] Loss: 1.3412 | CharAcc: 0.587 | Batch size: 8 | Seq len: 240\n",
            "  [Sample GT]:   E B EDUCATION BUILDER Công ty TNHH EB Dục Giáo Nẵng Đà Vụ Dịch Danang Builder Education [EB] Company 113 Xuân Diệu, P. Thuận Phước, Q. Hải Châu, TP. Đà Nẵng ĐT: 0511.1234567 Fax: 0511.31234567 Email: info@ebstem.edu.vn http://ebstem.edu.vn\n",
            "  [Sample Pred]: ĐXT SDLL NRON CUSFLER BIng xh KhHH PDIDục tIát Tẵng tCnVụ Kưch Dangng Du lden cSutationtnEm] TÔmpano 08  PuângKoện  P. Thumn Thước  T. Tải Châu, ĐP. Dà Nẵng ĐT: 0918989352 7 0ax: 08052306057065Wmail: 8gho@exstem.vmu.vn Ctth://hbsứem.vdu.vn \n"
          ]
        },
        {
          "output_type": "stream",
          "name": "stderr",
          "text": [
            " 27%|██▋       | 41/150 [00:11<00:40,  2.72it/s]"
          ]
        },
        {
          "output_type": "stream",
          "name": "stdout",
          "text": [
            "[Epoch 32 | Batch 40/150] Loss: 1.3820 | CharAcc: 0.599 | Batch size: 8 | Seq len: 194\n",
            "  [Sample GT]:   Trà chanh Số KHU TM TT GHẼ TÂN TRƯỜNG CẨM GIÀNG HD 0388 192 567 SHIP HA Trà chanh Số\n",
            "  [Sample Pred]: Crà Chanh Cố EPU H  BTTTHồ TÂN DÂAỜNG THM TIÁ   ĐOOĐ3   00  -7 0ÀO  SONTHà Chang Đở n i   TCCƠD CTT0iỞiC TOCCADCAACCCƠ44C AO D 6CCC CCAtD788D44CCC4 C48O44444688 Ơ0DOO   CƠTDC4 C4CD CC4DCDCA  ƠC\n"
          ]
        },
        {
          "output_type": "stream",
          "name": "stderr",
          "text": [
            " 40%|████      | 60/150 [00:17<00:21,  4.13it/s]"
          ]
        },
        {
          "output_type": "stream",
          "name": "stdout",
          "text": [
            "[Epoch 32 | Batch 60/150] Loss: 1.2765 | CharAcc: 0.634 | Batch size: 8 | Seq len: 205\n",
            "  [Sample GT]:   ĐĂNG KÝ KHÁM GIÁO SƯ - PHÓ GIÁO SƯ KHÁM GIÁO SƯ TRONG GIỜ 350.000Đ / LƯỢT NGOÀI GIỜ 500.000Đ / LƯỢT HẾT S P GIẤY O KHAY KHÁM PHÓ GIÁO SƯ TRONG GIỜ 250.000Đ / LƯỢT NGOÀI GIỜ 300. / LƯỢT THU TIỀN XÉT NGHIỆM\n",
            "  [Sample Pred]: CƯNG CÝ KHÁM SIÁO DƯ P CHỤ GIÁO SƯ LHÁM SIỆO SƯ XRON  ĐIÁ Đ0 %000  / LƯỢT XGONI XIẢIC0. m00  / MƯỢT TIT 2 L LIÁYT RHII THAN THÓ GIÁO TƯỜTRONG GIÁ 2 0. 00  / 2ƯỢC NG ÀI NIỜ M0.. / LƯỢT THU GHỆU /ETH2GIIỆMÁ\n"
          ]
        },
        {
          "output_type": "stream",
          "name": "stderr",
          "text": [
            " 53%|█████▎    | 80/150 [00:23<00:21,  3.21it/s]"
          ]
        },
        {
          "output_type": "stream",
          "name": "stdout",
          "text": [
            "[Epoch 32 | Batch 80/150] Loss: 1.4125 | CharAcc: 0.595 | Batch size: 8 | Seq len: 314\n",
            "  [Sample GT]:   13 t CẦU Ồ Ồ LÝ TRÌNH DÀI RỘNG Km 10 + 082 TL2 23 M 6 M\n",
            "  [Sample Pred]: Đ0 N BẦU CNL TÝ TRÌNH KiI CỘNG Đm 70.K 00  CR 9K9 B C C             B              MC P                         s C CC C          b  CCC   C Ở O    D      04M   4-   Ố 0ô C1CD0 CC C   4   C  eCE  C             e e     CCCCCCs 4  D e C 1sse  ee e CsC C CCCC    C4   CC         C4CC T DCD  C4 eC s e 1 CCC   4   C\n"
          ]
        },
        {
          "output_type": "stream",
          "name": "stderr",
          "text": [
            " 67%|██████▋   | 100/150 [00:30<00:21,  2.34it/s]"
          ]
        },
        {
          "output_type": "stream",
          "name": "stdout",
          "text": [
            "[Epoch 32 | Batch 100/150] Loss: 1.3957 | CharAcc: 0.599 | Batch size: 8 | Seq len: 198\n",
            "  [Sample GT]:   KHU VỰC CÁCH LY ĐẶC BIỆT BUỒNG BỆNH 402 EXIT BUỒNG BỆNH 406 g P d t S r s d H\n",
            "  [Sample Pred]: CHU VỰC CÁCHỮLY CẶC BIỆT CUỒNG BÁNH T0  EMIT LU NG BỆNH S6 Q PHP N TIs s s d       AST       P       A  CTT  eCT CC   eCOT  O  A  C m CMkCAA9  O Ơ   O 4à44T47ACt     T    C C4   eCCA4  C s ế  skC \n"
          ]
        },
        {
          "output_type": "stream",
          "name": "stderr",
          "text": [
            " 80%|████████  | 120/150 [00:36<00:08,  3.50it/s]"
          ]
        },
        {
          "output_type": "stream",
          "name": "stdout",
          "text": [
            "[Epoch 32 | Batch 120/150] Loss: 1.4135 | CharAcc: 0.566 | Batch size: 8 | Seq len: 158\n",
            "  [Sample GT]:   BẢO TÀNG DÂN TỘC HỌC VIỆT NAM VIETNAM MUSEUM OF ETHNOLOGY MUSÉE D'ETHNOGRAPHIE DU VIETNAM\n",
            "  [Sample Pred]: TỘO HII  HÂN CAC HỌC HIỆT NAM VINTEAM MUSATM AF CTENONO E REAE  L'NTHNG  ETOEESTUPLEETNAMtHCCCHCTooeoCTCTCCoTCTTCTCACTTAAoAToCSSAOCCCCCCAAôCACoooìCCOAOHk T4o\n"
          ]
        },
        {
          "output_type": "stream",
          "name": "stderr",
          "text": [
            " 93%|█████████▎| 140/150 [00:41<00:02,  4.14it/s]"
          ]
        },
        {
          "output_type": "stream",
          "name": "stdout",
          "text": [
            "[Epoch 32 | Batch 140/150] Loss: 1.4279 | CharAcc: 0.585 | Batch size: 8 | Seq len: 348\n",
            "  [Sample GT]:   QUÁN ỐC XẤU QUẮC\n",
            "  [Sample Pred]: CuÁN CC HẢU CUẢC  C TKSTOTTS TP     iO  UOOỞTC T   A   STSCCCASCT  T  P    K  TT TT ICIC      PPTATưSTCTTC  C   t CCCCTC TCC  C6 TOC CCDCCC)C 4C CCC  4K4  4  C    T  ầC  C     C CC4  D Ú C  CC  O  ƠCC14    CC   C OC C CCCCD  CT  ợTeCI 6 à CCCCCCDC    T CC4C C  CC1,C4 S  S4dC   C   C     ƠCC tC CK4  H14   C6  K4  1O4 4      H4   CHD    \n"
          ]
        },
        {
          "output_type": "stream",
          "name": "stderr",
          "text": [
            "100%|██████████| 150/150 [00:44<00:00,  3.37it/s]\n"
          ]
        },
        {
          "output_type": "stream",
          "name": "stdout",
          "text": [
            "\n",
            ">>> Epoch 32 completed. Avg Loss: 1.3509 | Avg CharAcc: 0.5948\n",
            "==> Saved new best model at epoch 32 (loss=1.3509)\n",
            "\n",
            "========== EPOCH 33 ==========\n"
          ]
        },
        {
          "output_type": "stream",
          "name": "stderr",
          "text": [
            "  1%|          | 1/150 [00:00<00:15,  9.53it/s]"
          ]
        },
        {
          "output_type": "stream",
          "name": "stdout",
          "text": [
            "[Epoch 33 | Batch 1/150] Loss: 1.2783 | CharAcc: 0.623 | Batch size: 8 | Seq len: 350\n",
            "  [Sample GT]:   CHO THUÊ BÀN GHẾ PHÔNG BẠT BÁT ĐĨA ẤM CHÉN (TQ) TRANH\n",
            "  [Sample Pred]: CẤỢ MHUÊ TIN GIẾ HHỤNG TÁT BIT BTA ĐM ĐHỖN TTC) TRƯ G NNNP ôƠO THT 4PCTC66 TATC aTAaAC - CPầPP POCoUPAOHCCCôoàCtCC CC HO Ce o,6GP  CeCốTCDD.CƠOCCC ACỞC 4OT CTCCHCT6T O   ỨCCCCe ràA CCAAOôO 4  OeCk CốốỞƠk 0C  CCẾeee C   HCCCCC e KTTô4e1D1W,OCe ee.t  C1ồ  CC ,O H CCt   4CDP e1D    C414DDýKCC 6 4C   4D444 ,1  D ộDC44PHC4 C kC C C4CCCC4 De,,1,\n"
          ]
        },
        {
          "output_type": "stream",
          "name": "stderr",
          "text": [
            " 13%|█▎        | 20/150 [00:05<00:44,  2.95it/s]"
          ]
        },
        {
          "output_type": "stream",
          "name": "stdout",
          "text": [
            "[Epoch 33 | Batch 20/150] Loss: 1.2323 | CharAcc: 0.648 | Batch size: 8 | Seq len: 241\n",
            "  [Sample GT]:   VINSCHOOL School C Nơi ươm mầm tinh hoa TRƯỜNG MẦM NON VINSCHOOL I VINSCHOOL VINSCHOOL VINSCHOOL GIỜ LÀM VIỆC MẦM NON VINSCHOOL VINSCHOOL An IPC School IPC International Preschool IPC An IPC School\n",
            "  [Sample Pred]: CIỆACOAOL Mchool CoNou Tơm Đần tunh Mợá Tr ỜN  CẦM NON NIÊSCOOOOESNSIESCOOLL MIỆSCHEOO ĐINSCHOLN VrN VÀM SIỆC M M NON VIỆSCHEON VIN CHOLN SIaHPCEVchool IP. IPtel ameonamcCresckooo IPC ID IPr Sciool  TTC TTATCTCTTTa CTTCTCATT T 0 CTTTTTTTeTeT\n"
          ]
        },
        {
          "output_type": "stream",
          "name": "stderr",
          "text": [
            " 27%|██▋       | 40/150 [00:12<00:30,  3.62it/s]"
          ]
        },
        {
          "output_type": "stream",
          "name": "stdout",
          "text": [
            "[Epoch 33 | Batch 40/150] Loss: 1.2083 | CharAcc: 0.642 | Batch size: 8 | Seq len: 239\n",
            "  [Sample GT]:   KHU TẬP BỘ GIÁO DỤC VÀ ĐÀO TẠO THỂ 23 LÊ THÁNH TÔNG 23A 23 MERRY SALE 50% THANH LÝ TOÀN BỘ CỬA HÀNG GIẢM GIÁ 50%-70% Fashion & more I TW N DC: 23 LÊ THÁNH TÔNG ĐT: KÍNH CHÀO QUÝ KHÁCH DC: BỘ GIÁO DỤC VÀ ĐÀO TẠO KHÁCH SẠN 23 LÊ THÁNH HOTEL\n",
            "  [Sample Pred]: CHO DHP NẢ HIÁ  DỤC TÀ ĐÀO TẠO THÀ T4 LÊ TRÁNH ĐẠNG Đ3  T0 LER  ỀEEN  S0% CRANG ĐO NRẠNGGỘCCỬA CÀ H CIẢI CIÁYT.% 0 % Tavheon A Gore G Ih V VƯ: C  CÊ TRÁNH THN  TT: KÍNH CHÁ  QUÁ THÁCH T : TẮ TIAY TỤC VA ĐÀO DẠO THÁCH DẢI L0.DÝNRHÁNG HƯAEL \n"
          ]
        },
        {
          "output_type": "stream",
          "name": "stderr",
          "text": [
            " 40%|████      | 60/150 [00:17<00:15,  5.64it/s]"
          ]
        },
        {
          "output_type": "stream",
          "name": "stdout",
          "text": [
            "[Epoch 33 | Batch 60/150] Loss: 1.3152 | CharAcc: 0.600 | Batch size: 8 | Seq len: 278\n",
            "  [Sample GT]:   QUẢN LÝ XUẤT NHẬP CẢNH IMMIGRATION PHÒNG QUẢN LÝ XUẤT NHẬP CẢNH IMMIGRATION OFFICE CÔNG AN TỈNH HÀ GIANG Địa chỉ: Số 415a, đường Trần Phú, Phường Trần Phú, TPHG, tỉnh Hà Giang Điện thoại: 02193.875.210 Fax: 02193.875.210\n",
            "  [Sample Pred]: CUÀNGCỘ TảẤT MHƯPHKẢNH HMIINRARION THÒNG HUẢNGHA KUÂTBAÂP CẢNG TAIINRATINN TFRF E MANG ĐN TỈNH MÀNGIANG Địa chà: số Đ2,., sường trin Phốc Phụờng Prần P.ư, Đp.n  Tỉng Đà Piấne Tiệnhthoại: 055.5.87. 85.08ax: 0218..859.20.N       1tTTT      3eeee et P66C3tCt53C  i3  t     355Vt\n"
          ]
        },
        {
          "output_type": "stream",
          "name": "stderr",
          "text": [
            " 54%|█████▍    | 81/150 [00:24<00:17,  3.93it/s]"
          ]
        },
        {
          "output_type": "stream",
          "name": "stdout",
          "text": [
            "[Epoch 33 | Batch 80/150] Loss: 1.3567 | CharAcc: 0.614 | Batch size: 8 | Seq len: 168\n",
            "  [Sample GT]:   Công ty TNHH Tuấn Khang thuê xe từ 4 chỗ , 7 chỗ, 16 chỗ, 29 chỗ giá rẻ đời mới SĐT: 0984.85.86.87 H Cho\n",
            "  [Sample Pred]: CỬng ny NNH  Tuấn Thốnh nừuê Ra từ đ chỗ c c chỗ, i6 Nhỗ, N  /hỗ giá 1ẻ xời m i SốC: 0989 859897899H Phà  NCoC  ít P  kCS i    àM ÚiCCtCốàỞàAO   oố  D  C4à àà ôiA A \n"
          ]
        },
        {
          "output_type": "stream",
          "name": "stderr",
          "text": [
            " 67%|██████▋   | 100/150 [00:28<00:10,  4.89it/s]"
          ]
        },
        {
          "output_type": "stream",
          "name": "stdout",
          "text": [
            "[Epoch 33 | Batch 100/150] Loss: 1.3302 | CharAcc: 0.616 | Batch size: 8 | Seq len: 185\n",
            "  [Sample GT]:   Ọ C THANH PHỐ HỒ CHÍ MINH LỄ KHAI GIẢNG NĂM HỌC 2019 2020\n",
            "  [Sample Pred]: C T THÀNH THỐ CỒ HHÍ MINH LỌ KHÁN T4ẢN  TĂN HỌC T0 9 V00    T CT0 T TT     ỞT    O0T         PAO CT à     C    Oư       C            0 07  T   O    O    6    6  à    0 à-Ố     C     \n"
          ]
        },
        {
          "output_type": "stream",
          "name": "stderr",
          "text": [
            " 80%|████████  | 120/150 [00:34<00:08,  3.51it/s]"
          ]
        },
        {
          "output_type": "stream",
          "name": "stdout",
          "text": [
            "[Epoch 33 | Batch 120/150] Loss: 1.7250 | CharAcc: 0.508 | Batch size: 8 | Seq len: 410\n",
            "  [Sample GT]:   NGUYỄN TRÃI (1380 1442)\n",
            "  [Sample Pred]: TỘ YỄN TRII (1288 T282) V 0V 0 0   Ơ6  6Ce   4      4G6 T0H6  0 4    64     6 66D K 4    5 OCC COC  C CC  C      5CCe C C K  C5564C5 -C4K66O46O  6  4445  0 46o6-56e4D  ỐC CC1 5K 44 e6 e 4 144 4T55    6   C    D1444 4 e V1    C11511e49   5e   C4 4C 444    C646 4  4 4s5 54    44    44 4 4     4s4444K64    444 .C 4  4D9  444 4464     4  )4SS4444   s  C541 19  64C 41C ) 444944   \n"
          ]
        },
        {
          "output_type": "stream",
          "name": "stderr",
          "text": [
            " 94%|█████████▍| 141/150 [00:41<00:02,  4.34it/s]"
          ]
        },
        {
          "output_type": "stream",
          "name": "stdout",
          "text": [
            "[Epoch 33 | Batch 140/150] Loss: 1.3562 | CharAcc: 0.595 | Batch size: 8 | Seq len: 175\n",
            "  [Sample GT]:   KHU DU LỊCH SINH THÁI THIÊN ĐÀNG ĐC: THÔN TRUNG AN, XÃ BÌNH THẠNH, HUYỆN BÌNH SƠN, TỈNH QUẢNG NGÃI *ĐT: 0553. 50 50 75 HÂN HẠNH PHỤC VỤ QUÝ KHÁCH 24/24 XIN LIÊN HỆ 0553505074\n",
            "  [Sample Pred]: ĐHU CU LỊCH LIN  LHÁI THAÊN TCOG VA: SHỂN THƯNG AN, TÃ HÌNH TIÁNH  TUẬỆN TÌNH TƠN  TỈNH NUẢNG NGAI - :: N8 5. 5 3R0 V  DÒN VẠC  LHỤN HỤ TUỐ KHÁCH D4424 -I  HÀ N WÓ L9535 705  \n"
          ]
        },
        {
          "output_type": "stream",
          "name": "stderr",
          "text": [
            "100%|██████████| 150/150 [00:43<00:00,  3.42it/s]\n"
          ]
        },
        {
          "output_type": "stream",
          "name": "stdout",
          "text": [
            "\n",
            ">>> Epoch 33 completed. Avg Loss: 1.3262 | Avg CharAcc: 0.6011\n",
            "==> Saved new best model at epoch 33 (loss=1.3262)\n",
            "\n",
            "========== EPOCH 34 ==========\n"
          ]
        },
        {
          "output_type": "stream",
          "name": "stderr",
          "text": [
            "  1%|          | 1/150 [00:00<01:54,  1.30it/s]"
          ]
        },
        {
          "output_type": "stream",
          "name": "stdout",
          "text": [
            "[Epoch 34 | Batch 1/150] Loss: 1.5047 | CharAcc: 0.598 | Batch size: 8 | Seq len: 520\n",
            "  [Sample GT]:   HỌC VIỆN BÁO CHÍ VÀ TUYÊN TRUYỀN CHÀO MỪNG 82 NĂM THÀNH LẬP ĐẢNG CỘNG SẢN VIỆT NAM GẶP MẶT ĐẦU XUÂN NHÂM THÌN 3-2-2012\n",
            "  [Sample Pred]: CỘC TIỆN NÁO ChÍ VÀ ĐUYÊN THUYỀN THÀO MỪNG T2 KĂM THONG VẬP TẢNG CỘNG KẢN ĐÀỆT NAM CIP ĐẶT ĐỘU XUÂN ĐHÂM XHAN T-202-28   0 0   ONMMAM  SCCAỞATTƠỞP CCOOM OCTOPP0AMMACOMO A-Ở CC  A  CCKC44OBAC   CPC4AT AC4CaCPCCảCT C    AC CCC4C4-4M4eCX C CTSC-4P) CC CCCCCC4 C CCCC  9   4C   - Ở 4C)TỞCC C M 4C  4C C C CC  )44 PCC CCK4P       C  CC  -4 44 CCCC 1 CCCC) CƠ CC CCC C COC  C  CCC4 7CC Ơ   4Ở CC4 C * C44M4    4 4  4OO444 C     Ơ   OCC    CCC  C 4      4     C4CCCCCC44 CC    C    M 4      C C 44CC4CC4C C C C CCC C  C4  4CC \n"
          ]
        },
        {
          "output_type": "stream",
          "name": "stderr",
          "text": [
            " 13%|█▎        | 20/150 [00:07<00:45,  2.87it/s]"
          ]
        },
        {
          "output_type": "stream",
          "name": "stdout",
          "text": [
            "[Epoch 34 | Batch 20/150] Loss: 1.1964 | CharAcc: 0.630 | Batch size: 8 | Seq len: 150\n",
            "  [Sample GT]:   FDC FDC Kico Số 02 HITACHI TÈO RỬA XE THAY NHỚT MÁI HIÊN DI ĐỘNG N TÀI 6138 C\n",
            "  [Sample Pred]: C C CDC BeconSố 02 KÀT CEI CÂ  CEA XE THAY MHỚT ĐÁI TE N TI TỖNG GGCHI Q068 K NNNNCTT6   Qo  PCPP P e CCC CCCACT ƠCAC CCCC   OC N ỞC 44CCAAAAOOƠC  C \n"
          ]
        },
        {
          "output_type": "stream",
          "name": "stderr",
          "text": [
            " 27%|██▋       | 40/150 [00:12<00:27,  4.00it/s]"
          ]
        },
        {
          "output_type": "stream",
          "name": "stdout",
          "text": [
            "[Epoch 34 | Batch 40/150] Loss: 1.2567 | CharAcc: 0.629 | Batch size: 8 | Seq len: 162\n",
            "  [Sample GT]:   XE TƯỚI CÂY XANH 51D 111.39 XA LỘ HÀ NỘI ĐƯỜNG LÊ VĂN VIỆT ĐƯỜNG NGUYỄN DUY TRINH\n",
            "  [Sample Pred]: TỔ MHỚ  TAY CANH T52 X11150 TÃMĐỘ HỒ XGI ĐƯỜNG VỐ ĐĂN HIỆT LỨỜNG VGHYỄN ĐUB TRƯG  ƠHTCCT CAPCPPHAPPToCCCTTTCAA  0CCTTC CUC CoCS4 eCCC4C4CAC A 4 4 44C 4T4444 4  C\n"
          ]
        },
        {
          "output_type": "stream",
          "name": "stderr",
          "text": [
            " 40%|████      | 60/150 [00:18<00:24,  3.66it/s]"
          ]
        },
        {
          "output_type": "stream",
          "name": "stdout",
          "text": [
            "[Epoch 34 | Batch 60/150] Loss: 1.3482 | CharAcc: 0.610 | Batch size: 8 | Seq len: 226\n",
            "  [Sample GT]:   227 227 THỜI TRANG TRANG THAO SHOP 222\n",
            "  [Sample Pred]: C90 209 2HÀI TRA G TIƯNG THAN TAOP T2 ATT     A    A       6T   TH        C TTC CH AC C  o CCS  UC U CCC  Ce ôC CC CDCCC       HeUSCCD0H6AAT C C  4 6 4 4  S CM C1    64Ởô Hô ô      e e   e  C  44   C    H C44Ce\n"
          ]
        },
        {
          "output_type": "stream",
          "name": "stderr",
          "text": [
            " 53%|█████▎    | 80/150 [00:24<00:19,  3.59it/s]"
          ]
        },
        {
          "output_type": "stream",
          "name": "stdout",
          "text": [
            "[Epoch 34 | Batch 80/150] Loss: 1.3256 | CharAcc: 0.616 | Batch size: 8 | Seq len: 247\n",
            "  [Sample GT]:   Tâm Sáng Bún Cá Bún Mộc Bánh Cuốn Bánh Đa Cua TAT TA TATA 019 LÔ. C Gọi Coca Cola món ngon càng ngon THỰC ĐƠN ca C Bà Thứ Bún, Bán CÁ, TÔM, B ỐC, CHẢ, C HẢI PHÒN 54 - S2 7555 AFE 12K SODA ITALY E ĐA AY AFE 12K ODA ITALY FE ĐÁ XAY SINH EP C Coffee\n",
            "  [Sample Pred]: THm Sân  Bún Đh Bún Mộc Táng TÁốngBán  MC Tôa TrT TA TM A D1  Go  T Cọi Thfa Ao a Pn ngo  cống Dăon T ÁC ĐƠN Ta C FỊ TrucTìn  Gán CÁ, HỤM, A AN  BHỈI TÁHẢI PHƯNGB  - TT03 A  AFE L20 F DA B  LY E AA CF CFA F2  FRA A ALY FE SA FEL SA H N  C CAfef \n"
          ]
        },
        {
          "output_type": "stream",
          "name": "stderr",
          "text": [
            " 67%|██████▋   | 100/150 [00:30<00:19,  2.51it/s]"
          ]
        },
        {
          "output_type": "stream",
          "name": "stdout",
          "text": [
            "[Epoch 34 | Batch 100/150] Loss: 1.4043 | CharAcc: 0.593 | Batch size: 8 | Seq len: 323\n",
            "  [Sample GT]:   UBND PHƯỜNG NGHĨA TÂN TUYẾN PHỐ AN TOÀN THỰC PHẨM CÓ KIỂM SOÁT SỰ THÔ H\n",
            "  [Sample Pred]: CLND LHƯỜNG TIOĨA TRN TUYẾT PHỐ VN TOÀN SHỰC PHỤY CẤ TIỂU SỰÁN S  CHINSO  C  NN HNNNCC I C CCC PCTCTCCCCCCC CACACC CCC CTCC    CC CCCCCCC CC  TC  C   CC4    4C      T C4  Ứ6CCC CCCC CCCDCO  C   CCỞC  TC CCCCC C4C 4   4 C 4C   C C4TBDCCTC CDK-D C4DC 4CCCC C4  C   SCC    D  5 D4  4C      B C4  C4C  C 4 4  47  CC4  )4 4  \n"
          ]
        },
        {
          "output_type": "stream",
          "name": "stderr",
          "text": [
            " 81%|████████  | 121/150 [00:36<00:06,  4.40it/s]"
          ]
        },
        {
          "output_type": "stream",
          "name": "stdout",
          "text": [
            "[Epoch 34 | Batch 120/150] Loss: 1.4714 | CharAcc: 0.573 | Batch size: 8 | Seq len: 375\n",
            "  [Sample GT]:   NỘI THẤT MAI TRANG 68/3B PHẠM THÁI BƯỜNG - F4 - TXVL ĐT: 070852592 - FAX: 070.853523\n",
            "  [Sample Pred]: C I BHẤT MII TRANG B /38 BHẠM THÀN TAỜNG Đ TA N TP.L2ĐT: 07095282 2- 0AX: 070.662927 T N  CCP PPTPT SICCC CTPo CC TC  CCC  ưT  N P CCCCSC U    DC 0yả  ôC   6 B 3 C    O DôDC6  CCCTCA T  C  H T  -   THC  -HC   C     DCC CCTC9-TC- C6-sCD0CG6CCCCC-C  CC6 94 C T6 D-   4 4 SCT  C C4C,QCHCCCCCPB4 4  K C4B   DS  N4   C TCCCC CCCCCC CCC 4K4 T K CH-CC44 D  CC C   C  \n"
          ]
        },
        {
          "output_type": "stream",
          "name": "stderr",
          "text": [
            " 93%|█████████▎| 140/150 [00:41<00:01,  5.29it/s]"
          ]
        },
        {
          "output_type": "stream",
          "name": "stdout",
          "text": [
            "[Epoch 34 | Batch 140/150] Loss: 1.2020 | CharAcc: 0.644 | Batch size: 8 | Seq len: 262\n",
            "  [Sample GT]:   CÔNG TY CỔ PHẦN VẬN TẢI Ô TÔ VĨNH LONG 51A NGUYỄN TRUNG TRỰC, PHƯỜNG 8, THÀNH PHỐ VĨNH LONG, TỈNH VĨNH LONG ĐIỆN THOẠI: 070.3822\n",
            "  [Sample Pred]: CÔNG TY TP PHẦN ĐẬT PẢI PITR VĨAH LONG Đ 0 CGUY N TRƯNG TÂẦC  P.ỔƠNG T% TPUNH LHỐ LĨNH LONG, ĐỈNH LĨNH LONG LIỆN THƯẠI  090338..n0CDP 0TCACCTTTTT0CCCACC4T0TO4ưôH T0Tà 4C4TCCC  CCôCC0CCACôCC  Ơ4eTCCTTTTCCC4CC4CCC-CP  TC- CCCCT  0CC4-TTC 444C4DCe440Ck0C CC-C0C TC\n"
          ]
        },
        {
          "output_type": "stream",
          "name": "stderr",
          "text": [
            "100%|██████████| 150/150 [00:44<00:00,  3.39it/s]\n"
          ]
        },
        {
          "output_type": "stream",
          "name": "stdout",
          "text": [
            "\n",
            ">>> Epoch 34 completed. Avg Loss: 1.3000 | Avg CharAcc: 0.6101\n",
            "==> Saved new best model at epoch 34 (loss=1.3000)\n",
            "\n",
            "========== EPOCH 35 ==========\n"
          ]
        },
        {
          "output_type": "stream",
          "name": "stderr",
          "text": [
            "  1%|          | 1/150 [00:00<00:34,  4.34it/s]"
          ]
        },
        {
          "output_type": "stream",
          "name": "stdout",
          "text": [
            "[Epoch 35 | Batch 1/150] Loss: 1.2382 | CharAcc: 0.627 | Batch size: 8 | Seq len: 343\n",
            "  [Sample GT]:   Mục đích cho trẻ hiểu nhưng không buộc trẻ phải ghi nhớ, khơi dậy kích thích trí tưởng tượng, thúc đẩy tiềm năng sẵn có của trẻ. With the aim to help children understand but not force them to memorize, stimulate their imagination and promote their available potential ntessori Tiếng anh English\n",
            "  [Sample Pred]: CẠc đích thọ thẻ tiou nhưng thông tạộc trẻ thii ghậáthài khơi déy mhch mhí h tốư thởng 1ượng, thẩc nạy thền nhn  sẵn s  sha nhờ  m tháthemnin th Đelc thiảyueraun ed tnma cutemor forignnyem meroerorimed ttimurdtidaherd imisiganelndmn ulrimire rtailirlenlensl urmodtotl ateshhrislonngllnh ln o lha l           P   P      ToTTtTt t  PoPPPPtCooobt\n"
          ]
        },
        {
          "output_type": "stream",
          "name": "stderr",
          "text": [
            " 14%|█▍        | 21/150 [00:07<00:34,  3.71it/s]"
          ]
        },
        {
          "output_type": "stream",
          "name": "stdout",
          "text": [
            "[Epoch 35 | Batch 20/150] Loss: 1.1321 | CharAcc: 0.667 | Batch size: 8 | Seq len: 264\n",
            "  [Sample GT]:   ĐỒNG BẢNG 3 km CẦU VĂN LANG 6.5 km QL. 32 2,5 km\n",
            "  [Sample Pred]: CƯNG BẢNG N km CẦU VĂN LANG 1 5 kmLL  Q2 2,5 - nV-       C D V4  K   -    CCC    CC       C        C     C  CCCC 4    KCỞt4  CCC D CC45D)-C  44Ơ  4444 44  D4  45  k  4- DKC CỞ  C4K  4   kD4D 4CDkC4 C4D-Ở444  44  46 444C4 44 144404 4D4-44   C4C 44CC-D4kD  4  \n"
          ]
        },
        {
          "output_type": "stream",
          "name": "stderr",
          "text": [
            " 27%|██▋       | 40/150 [00:12<00:33,  3.33it/s]"
          ]
        },
        {
          "output_type": "stream",
          "name": "stdout",
          "text": [
            "[Epoch 35 | Batch 40/150] Loss: 1.6615 | CharAcc: 0.516 | Batch size: 8 | Seq len: 928\n",
            "  [Sample GT]:   Phượng PHỐ HÀNG ĐỒNG HÀ NỘI THÔNG BỂ PHỐT g Đồng Tel: 8282893\n",
            "  [Sample Pred]: THoờng PHỐ HÀ G PỒNG PÀ NỘI ĐHCN  TÁNPHÒ  T Đồng Tel: 4242832  30   - Be  o ỞPTTo0o7ACCACPoiCC  oTàPAP CT 5 CCoetH44CC4CC4CCiƠCPiS8Ce4CDC576C4ƠCƠ44t554444444746   46KP4 6ô6CCCe eỞA44D o5ô4ƠỞDỞT PSC446ô-C47C44eCtD64CC4444C444 444 544 444K644eDDe4C4C65494440N84C4744 4 445S4 4444444e 44454k444 C44 C44444444484k44484P54444C 4444D4446KSC44444444444PCs4D414DC4K64444C ?X6S489H44444Ở66C4444CD4444DƠ44747 4448-4-44DC   C444  4C4 CC444   8,44 4444C4 4e4SC4C444C447444C4 44444C44 44-PCC C4C4CC4CD4 C4N4C444444D4eS4HCSC574 6 5C46C64C4CCCO  4C CCC4T4CC  4  PC4 kD 4 CCCHC4CCC4C4ỞD4444 4S4 CS1   44D44C CCCx4CCCCC OCCCCCCCTC441ỞCCẼC4CC4CCkeC4CCC 4 -ồCC S44 d4Cb4CCx41CƠ4e4S4CCSCSX4SC444SS 14  6CC 4CS 4C4HSC 444CKC44 KCCU44C4C4DDD440CCCCD4C4DCC4C4C4CC kCCCCCAC4CCCCC4CCC44CCC44C44CCC44C1C444ee 444ne4C4D4CE444D44A444441444444C4CD444444CCCC444D54 444CSS6C C4xEe5P44eP4 44444O1S444 DS4CS445444S444448  444 \n"
          ]
        },
        {
          "output_type": "stream",
          "name": "stderr",
          "text": [
            " 40%|████      | 60/150 [00:18<00:31,  2.88it/s]"
          ]
        },
        {
          "output_type": "stream",
          "name": "stdout",
          "text": [
            "[Epoch 35 | Batch 60/150] Loss: 1.2814 | CharAcc: 0.627 | Batch size: 8 | Seq len: 159\n",
            "  [Sample GT]:   BƠM VÁ XE MÁY C P T Shop co ettel pay ASUS Máy tính Apple P 1.999.0 Y AIR BLADE HONDA LEAD\n",
            "  [Sample Pred]: CuM VI XE MÁYRHGHSHPÔop qá Đt ul 4a  ASUS HÁo thnh tntl  tLa.99 .005 5IZ CAA E EOUEARHEA   UCPPS  ACCACCoCCCAC0it40C0 CCk   NPCCaCCCTSSCC0440ƠCCC44 55C04444M\n"
          ]
        },
        {
          "output_type": "stream",
          "name": "stderr",
          "text": [
            " 53%|█████▎    | 80/150 [00:25<00:17,  3.98it/s]"
          ]
        },
        {
          "output_type": "stream",
          "name": "stdout",
          "text": [
            "[Epoch 35 | Batch 80/150] Loss: 1.3592 | CharAcc: 0.582 | Batch size: 8 | Seq len: 196\n",
            "  [Sample GT]:   MẶC CẢ THUÊ Tuyển dụng cộng tác viên\n",
            "  [Sample Pred]: CỜC BẢ HHIÊ Nuyển tụng tộig nập viện I AOAƠAƠ  CATAAƠA50 ACHHƠGC0ƠHG000CCO00Ở44Oẩ56PSHTC C5PkA0P5ư C00CC1COH00OC58CCC 81Ct   CSPCC8CC0CC566CƠƠ4Ơ55 4046 064C645 0 5681Ứ11155CCC1C15CCCC44514444 1C\n"
          ]
        },
        {
          "output_type": "stream",
          "name": "stderr",
          "text": [
            " 67%|██████▋   | 101/150 [00:30<00:12,  4.04it/s]"
          ]
        },
        {
          "output_type": "stream",
          "name": "stdout",
          "text": [
            "[Epoch 35 | Batch 100/150] Loss: 1.3521 | CharAcc: 0.588 | Batch size: 8 | Seq len: 299\n",
            "  [Sample GT]:   RẠP CÔNG NHÂN\n",
            "  [Sample Pred]: T P TONG THIN  TTH T0U T THTT1C 0 TCC0 O TO CT C T    1C1 C  TCC K4C 0CC 64CC6CCMDSCCCCTC6 C CCTC CCỨ61C0 CCC56CCCC61C  C6606CC6C C C6  T6CCC44C4 C 441 446 CC5 4C  C C1U6CC  CHC 1CCỞ454TCM4 6s4C1CCCC 4CP1044TC4641461100 6 S449 C 4144CD0C 99C6 4  4t 44 4S44114DC1188 4 CX101414444\n"
          ]
        },
        {
          "output_type": "stream",
          "name": "stderr",
          "text": [
            " 81%|████████  | 121/150 [00:36<00:09,  3.12it/s]"
          ]
        },
        {
          "output_type": "stream",
          "name": "stdout",
          "text": [
            "[Epoch 35 | Batch 120/150] Loss: 1.2977 | CharAcc: 0.614 | Batch size: 8 | Seq len: 124\n",
            "  [Sample GT]:   MITSUBISHI ELECTRIC ĐIỀ A KHÔNG KHÍ TỦ LẠNH QUAT ĐIỆN CẤM TỤ TẬP TẮM SÔNG\n",
            "  [Sample Pred]: CATSUBIS I ELILTRIF ĐIỀUD KHING THO TH LÀNH TUẬ  TỘỆN TẤM SỤ CẬP TỤM KẢNG   CTTKTTTKTCT CACC PPAKKT OOACCCMCMCCM  TOCC    Ci\n"
          ]
        },
        {
          "output_type": "stream",
          "name": "stderr",
          "text": [
            " 93%|█████████▎| 140/150 [00:42<00:03,  2.98it/s]"
          ]
        },
        {
          "output_type": "stream",
          "name": "stdout",
          "text": [
            "[Epoch 35 | Batch 140/150] Loss: 1.3579 | CharAcc: 0.603 | Batch size: 8 | Seq len: 323\n",
            "  [Sample GT]:   Gói tín dụng 15 , 000 tỷ đồng Vay sản xuất kinh doanh BIDV ĐỒNG HÀNH PHÁT TRIỂN Chỉ từ 7 0 . % Lãi suất ưu đãi Từ ngày 09 / 02 / 2017 đến hết ngày 30 / 06 / 2017 (Hoặc đến hết quy mô gói) 19009247 bidv.com.vn NGÂN HÀNG TMCP ĐẦU TƯ VÀ PHÁT TRIỂN VIỆT NAM BIDV\n",
            "  [Sample Pred]: CAi Khngtưn  t  2 g90.tỷ lồng tIy tản ttất Chng toa   TẢDVĂTỒNG CỘNH ĐHỞN NHIỂN THỉ:ch c 9 / K Kãi tuýt nu nãi nừ ngày 09 t 02 / n017 /ếnghin Khày t08/ 01 / 2017 01oặc đến hết vuẩ qộ tói  t 0005. ni vucom.vn lGÂN TÀNH CR H GẦU TƯ VI PHÁT TRIỆN NIỆT NAM CIỆVI  i       V   T            TTCTC TTC             C  CC  T CCCT T\n"
          ]
        },
        {
          "output_type": "stream",
          "name": "stderr",
          "text": [
            "100%|██████████| 150/150 [00:44<00:00,  3.38it/s]\n"
          ]
        },
        {
          "output_type": "stream",
          "name": "stdout",
          "text": [
            "\n",
            ">>> Epoch 35 completed. Avg Loss: 1.2765 | Avg CharAcc: 0.6140\n",
            "==> Saved new best model at epoch 35 (loss=1.2765)\n",
            "\n",
            "========== EPOCH 36 ==========\n"
          ]
        },
        {
          "output_type": "stream",
          "name": "stderr",
          "text": [
            "  1%|          | 1/150 [00:00<00:38,  3.91it/s]"
          ]
        },
        {
          "output_type": "stream",
          "name": "stdout",
          "text": [
            "[Epoch 36 | Batch 1/150] Loss: 1.1878 | CharAcc: 0.637 | Batch size: 8 | Seq len: 240\n",
            "  [Sample GT]:   E B EDUCATION BUILDER Công ty TNHH EB Dục Giáo Nẵng Đà Vụ Dịch Danang Builder Education [EB] Company 113 Xuân Diệu, P. Thuận Phước, Q. Hải Châu, TP. Đà Nẵng ĐT: 0511.1234567 Fax: 0511.31234567 Email: info@ebstem.edu.vn http://ebstem.edu.vn\n",
            "  [Sample Pred]: CXB BDEC  ION CURC ES Công tyêtRHH HB Dục tòác sẵng Tà Vụ Pịch tangng 1uilder esucasitn DAB] TPmpany 003 Xuân Ti u, T. Vhúận Thàớc  T. Hải Châu, ĐP. Đà Nẵng ĐT: 0911111..5 77WAx: 057..6.154..7 Email: 0n i@ebsiem.edu.vn htte:/e/dsiem.edu.vn \n"
          ]
        },
        {
          "output_type": "stream",
          "name": "stderr",
          "text": [
            " 13%|█▎        | 20/150 [00:05<00:42,  3.07it/s]"
          ]
        },
        {
          "output_type": "stream",
          "name": "stdout",
          "text": [
            "[Epoch 36 | Batch 20/150] Loss: 1.2512 | CharAcc: 0.622 | Batch size: 8 | Seq len: 165\n",
            "  [Sample GT]:   KHOA XÉT NGHIỆM BÀN HƯỚNG DẪN TRẢ KẾT QUẢ XÉT NGHIỆM 204\n",
            "  [Sample Pred]: CHU  TÉT NGHIỆM NƯN GƯỚNG ĐÂN THÁ DẾT NUỐ HÉT NGHIỆM T 14nV HH6 H000C00B6 0 00 CD K664 CC 1 60       6ƯC 0   eCC0HO8Ứ kCọA    0 KốSỞ CAC84X066544kô4600 4464OD 69  0Ứ\n"
          ]
        },
        {
          "output_type": "stream",
          "name": "stderr",
          "text": [
            " 27%|██▋       | 40/150 [00:11<00:26,  4.09it/s]"
          ]
        },
        {
          "output_type": "stream",
          "name": "stdout",
          "text": [
            "[Epoch 36 | Batch 40/150] Loss: 1.2026 | CharAcc: 0.617 | Batch size: 8 | Seq len: 127\n",
            "  [Sample GT]:   NHÀ HÀNG CON VỊT Duck Café 59 NGUYỄN PHÚC CHU TEL: 05103919229\n",
            "  [Sample Pred]: CHÀ TÀNG CUMGCỊT Lulk Café N9 NGUYỄN THƯC CHUỐTRL  07005.73192 N 3VCGCTPPCP0 PCCo0AHàCCPPPCCCPC PCPPPCàC CTCCoC  CACCCCC0C4C  0\n"
          ]
        },
        {
          "output_type": "stream",
          "name": "stderr",
          "text": [
            " 41%|████      | 61/150 [00:16<00:20,  4.32it/s]"
          ]
        },
        {
          "output_type": "stream",
          "name": "stdout",
          "text": [
            "[Epoch 36 | Batch 60/150] Loss: 1.2194 | CharAcc: 0.638 | Batch size: 8 | Seq len: 264\n",
            "  [Sample GT]:   LÀ SÁNG 5h30 7h30 CHIỀU 16H30 TÔI ĐÃ \"CƯỚP DÂN BIÊN HÒA THẤY XẤU HỔ VÀI LON BIA\" CÁC XE LOẠI ĐI TRONG VÒNG XUYẾN PHẢI NHƯỜNG LÀ THAY Ở NGƯỜI CHO ĐÂY VIỆT NHỮNG TRƯA NAM AI NGÀY 4/12 M2 37 7864\n",
            "  [Sample Pred]: TỐNHẠN  C030075 00ĐHIỀU L0 ệ0TÔ QÃ TĐHỚP TĐY TẠ N LOA T ÔT BUU CO LÀN TON BIẾ  BÁC SA BOẠI TI NRONG 2ÀN  NÂYÊT IHÁI HGÀỜNG TỘ NRẬY N NĂƯỜI PHO TÂY TÀỆT 2HÂNG THUỜ VGM NI NGÀY T 27 M  T5 2   8THHHHHHTH-HHTH HHCCTHHHH0 CH-HH04---K-H0-TT-(BH-HTHHH-----T ---T-HH   \n"
          ]
        },
        {
          "output_type": "stream",
          "name": "stderr",
          "text": [
            " 54%|█████▍    | 81/150 [00:23<00:19,  3.46it/s]"
          ]
        },
        {
          "output_type": "stream",
          "name": "stdout",
          "text": [
            "[Epoch 36 | Batch 80/150] Loss: 1.2841 | CharAcc: 0.643 | Batch size: 8 | Seq len: 99\n",
            "  [Sample GT]:   UBND XÃ BÌNH CHÂU 2 KM CẢNG SA KỲ 500 M DẦU ỚT RON RON DIE L Dầu Nhớt KÍNH CHÀO KHÁCH QUARTZ F SEF\n",
            "  [Sample Pred]: CBND CÃ HÌNH NHÂU T +m BHNG TÁ KH B 0 KẶSẦU VT TON VON TIE TOKu Nhớt KHNH CHỮO KHÁCH GUÝ IZ K M   \n"
          ]
        },
        {
          "output_type": "stream",
          "name": "stderr",
          "text": [
            " 67%|██████▋   | 100/150 [00:28<00:14,  3.50it/s]"
          ]
        },
        {
          "output_type": "stream",
          "name": "stdout",
          "text": [
            "[Epoch 36 | Batch 100/150] Loss: 1.3829 | CharAcc: 0.567 | Batch size: 8 | Seq len: 295\n",
            "  [Sample GT]:   HÃY CHUNG TAY GÓP SỨC XÂY DỰNG THÀNH PHỐ VĨNH LONG \" SÁNG XANH SẠCH ĐẸP H N A P\n",
            "  [Sample Pred]: CỘY HHỮYG TAY ĐIA TỨC XOY DỰNG AHỂNH ĐHỐ VĨNH LONG TGVÁNH CU H VẠCH ĐẸ  TOLGT A TT TCCPT   C P   POỨAT CATAA4CATTA0 C C PC  C4 NPC KCC0CCTCAT4 C4444CCC0A045744044-4 A44 i C CC   4C4 P  AC4C4  AC  e4 44 1C CCT4   PD414444494  9 4 9449491 C4D  CC - 4 C 4 C4 D C6-944  444 44 k   9  k \n"
          ]
        },
        {
          "output_type": "stream",
          "name": "stderr",
          "text": [
            " 80%|████████  | 120/150 [00:35<00:08,  3.56it/s]"
          ]
        },
        {
          "output_type": "stream",
          "name": "stdout",
          "text": [
            "[Epoch 36 | Batch 120/150] Loss: 1.0847 | CharAcc: 0.677 | Batch size: 8 | Seq len: 204\n",
            "  [Sample GT]:   QUÁN ĂN HÀN QUỐC SƯỜN NƯỚNG HÀN QUỐC 4/4 Nguyễn Binh Khiêm P.Đakao, Q.1 ĐT: 39.106253 www.suonnuong quoc.com KOR 4/4 R\n",
            "  [Sample Pred]: CUÁN ĂN HINGGUỐC BĨỜN ĐGỚCG VÀN NUỐC T64 Nguyễn Xinh Phiên P.VƯka , T.22PT: 0..4222.wwwwcmonggong Huýtocom Pha T c L e P PPTo0CPTCCCCkTP0T04G4 PkC0Ck0M 4 TO0BPTP0Te eOk0PTkeboA eCO4PoPAee0CeC PCePkTT C4\n"
          ]
        },
        {
          "output_type": "stream",
          "name": "stderr",
          "text": [
            " 93%|█████████▎| 140/150 [00:41<00:01,  5.28it/s]"
          ]
        },
        {
          "output_type": "stream",
          "name": "stdout",
          "text": [
            "[Epoch 36 | Batch 140/150] Loss: 1.3017 | CharAcc: 0.611 | Batch size: 8 | Seq len: 343\n",
            "  [Sample GT]:   TIỆM VÀNG : THÁI HUYNH CÔNG MUA BÁN NỮ TRANG VÀNG 17K 24K 16K 23K NHẬN CẦM ĐỒ 1, ẤP THẠNH PHÚ, HÒA PHÚ, LONG HỒ, VĨNH LONG ĐT: 0909.10 11 17 H UA BÁN NU IRANG VÀNG 16K 17K 23K 24K DỊCH VỤ CẦ I\n",
            "  [Sample Pred]: ĐrỆM TÀOG T 0HÀI TUYỆH VÔNG TUA BÁN MG GRÊNG TÀNG T0  K9- C6K M55 1HẬN 6HU ĐƯ T7 KP TỈẠI  ĐHÚ, ĐAA THO, TON  XỒN TINH LONG ĐT: 0909.11617 31 3U3A BÁN VU X A G ĐNNG S77 17  137 T0. D CH VỤ CẦNI. VOVVV-TTP13 1P3T3  VPPAO0C1CCO O 03AT0TT0TO10TTOVVHOI V6T6TTCV 3 3C0C 63 3CP PC V   3 3CCC C TPC1C CC4CCPCPP COP PP0   PPPCO8P1 CM  4PT  P33C4PP8CC\n"
          ]
        },
        {
          "output_type": "stream",
          "name": "stderr",
          "text": [
            "100%|██████████| 150/150 [00:43<00:00,  3.43it/s]\n"
          ]
        },
        {
          "output_type": "stream",
          "name": "stdout",
          "text": [
            "\n",
            ">>> Epoch 36 completed. Avg Loss: 1.2578 | Avg CharAcc: 0.6202\n",
            "==> Saved new best model at epoch 36 (loss=1.2578)\n",
            "\n",
            "========== EPOCH 37 ==========\n"
          ]
        },
        {
          "output_type": "stream",
          "name": "stderr",
          "text": [
            "  1%|          | 1/150 [00:00<00:56,  2.66it/s]"
          ]
        },
        {
          "output_type": "stream",
          "name": "stdout",
          "text": [
            "[Epoch 37 | Batch 1/150] Loss: 1.2605 | CharAcc: 0.636 | Batch size: 8 | Seq len: 410\n",
            "  [Sample GT]:   ĐƯỜNG NGUYỄN HUY CHƯƠNG ĐƯỜNG HOÀNG SA\n",
            "  [Sample Pred]: TƯỜNG NGUYỄN TUYÊHHUƠNG ĐƯỜNG VÙẠ   LƠ  TOCTC   T03   DC  CC63UU OC4TT4       T  DCI40    AC  K    CIiCC CC C   iCCA         Ơ 6W 0C C6CCN 4  ) I 4Ở 64446ốC64sCC    -D DC40U     P 4 ÁƠƠƠ   PC   94Ơ  C           4444CC   C I1Ở  D4 CO44 et   CDC6 - 884 C     444 9  449  C 4  48  4C sC   P84 4 C  44    4 4 C  8    1  44444 C C   4   44 4 844        D 4 4 41Ở PP4 4 -4444444441M4  \n"
          ]
        },
        {
          "output_type": "stream",
          "name": "stderr",
          "text": [
            " 15%|█▍        | 22/150 [00:06<00:25,  5.03it/s]"
          ]
        },
        {
          "output_type": "stream",
          "name": "stdout",
          "text": [
            "[Epoch 37 | Batch 20/150] Loss: 1.1225 | CharAcc: 0.674 | Batch size: 8 | Seq len: 143\n",
            "  [Sample GT]:   SỞ GIÁO DỤC ĐÀO TẠO LÂM DỒNG TRƯỜNG TRUNG HỌC PHỔ THÔNG GIA VIỄN\n",
            "  [Sample Pred]: TỞ GIÁO DỤC VÀO TẠO TIM DỒNG VRƯỜNG ĐRUNG HỌC THỔ THÔNG ĐIAOTNNN  00TT0-T0 0 -T-TT -CT           T0ỨK  CTCCCC        C    C  4  ỞC-Ở4-----C-- \n"
          ]
        },
        {
          "output_type": "stream",
          "name": "stderr",
          "text": [
            " 27%|██▋       | 40/150 [00:11<00:25,  4.30it/s]"
          ]
        },
        {
          "output_type": "stream",
          "name": "stdout",
          "text": [
            "[Epoch 37 | Batch 40/150] Loss: 1.4710 | CharAcc: 0.560 | Batch size: 8 | Seq len: 697\n",
            "  [Sample GT]:   ## QUOC KHÁNH Chân Võng ừng SÚC ÁNG TEA TEA+ TEA CAFÉ BA P TEA U TEA+ CAFÉ BA MẬP ĐC: ẤP 5, XÃ TAM HIỆP, H, CHÂU THÁNH, TG\n",
            "  [Sample Pred]: C###UAChCHÁNH Thuu Đõ g Hng CÚC CNH CEA TEAD C.A CADÉ HA CETEA CSTIA+ CAOE TA TẬP ĐT: 5P Đ, XÃ -AM Đ ỆM  TÒ PHẤU DHÁNH TH    NAN CC CCTCPTC0TOPCC 4O   C4M CAM-C-   ả  P PAAOCPCAPC  C44k Ở  C  MC  ) -4    C  4  )C    0KC 4C 4   -KMP 0 ô C --V494eC   -CC   K4 -    C           e   Cs0k    k4  :  CC kC  4    4  C54  00 4     s CC  (44  C4  C   K     4C44 C         )   5    k  4C CC C C  4 4 C-1  4      D 1 - 4K Mk        C  CCC       C  O  C4    4     C CC0  P   )CC CC M  1      C C  C  1 CC      C C C)  C     1           CCCC     CC CCCC 4CC  C       CkC  C  C4 C     C   CC    C   CC   14CC 4   CCCC CCCCCCC C1CCC  CCCCCCCCCCCCCC  C    1CC CC     CCCCCOC  CC CCCCCCC C  4C C    C    CC\n"
          ]
        },
        {
          "output_type": "stream",
          "name": "stderr",
          "text": [
            " 40%|████      | 60/150 [00:17<00:33,  2.66it/s]"
          ]
        },
        {
          "output_type": "stream",
          "name": "stdout",
          "text": [
            "[Epoch 37 | Batch 60/150] Loss: 1.1809 | CharAcc: 0.641 | Batch size: 8 | Seq len: 174\n",
            "  [Sample GT]:   HAPHACO CÔNG TY CỔ PHẦN HÀ ANH PHÁT VPGD: Số 19 / 34 Âu Cơ Tây Hồ Hà Nội ĐT: 04.6.257.1800 / Fax: 04.6.257.1810 Email: haanhphatsteel@gmail.com / Website: http://haphaco.com\n",
            "  [Sample Pred]: CỘNHANH LHNG TY CỔ THẦN ĐỒ NN  VHÁT TIHA: Tố 79 - 381Tu Bi -âyế-i Hà Đội ĐT: 09.41112.210m / 0ax: 0933.337.311900Moile 0aaxhphỉtrtoll@gmailacom 0 Websith. wtwe: / ap:aoo.com\n"
          ]
        },
        {
          "output_type": "stream",
          "name": "stderr",
          "text": [
            " 53%|█████▎    | 80/150 [00:22<00:11,  6.16it/s]"
          ]
        },
        {
          "output_type": "stream",
          "name": "stdout",
          "text": [
            "[Epoch 37 | Batch 80/150] Loss: 1.1151 | CharAcc: 0.646 | Batch size: 8 | Seq len: 159\n",
            "  [Sample GT]:   Nghĩ mới, làm mới G mobile\n",
            "  [Sample Pred]: CHhĩ mới  lam mới G mobil   P T     CH  TTTCtO CCO Ơ H H CCCCTC 4CC TCCCC  TCT MCt CCCCCCCCC CC CCCTCCCCCCCTOCCCCC CCC  CCCCC CCCC CCCCCC 5  M\n"
          ]
        },
        {
          "output_type": "stream",
          "name": "stderr",
          "text": [
            " 67%|██████▋   | 101/150 [00:29<00:12,  3.80it/s]"
          ]
        },
        {
          "output_type": "stream",
          "name": "stdout",
          "text": [
            "[Epoch 37 | Batch 100/150] Loss: 1.2676 | CharAcc: 0.624 | Batch size: 8 | Seq len: 332\n",
            "  [Sample GT]:   NHIỆT LIỆT CHÀO MỪNG KỶ NIỆM 60 NĂM NGÀY THÀNH LẬP ĐẢNG CỘNG SẢN VIỆT NAM (03/02/1930 03/02/2010) Mừng Xuân Canh Dần 2010 TRƯỜNG ĐẠI HỌC HẢI PHÒNG TRƯỜNG HẢI PHÒNG H\n",
            "  [Sample Pred]: TỘẬỆT LIỆT THÀO MỪNG NH NIỆM T06CĂM NGÀY THẤNH PAP QẢNG VỘIG TẢN CÀỆT NAM T06.13/160. /3/0211/17) Mừng Muân Hár  Tần C016 GRƯNNG TÔI HỌC TẢI PHÒNG ĐEƯỜNG TỮI HHÒN  ĐÒ TTT TTTHAƯIỨIHHHICPTCACT  Ơ TPTPSTPTPTT OT H- HTPH H H  TCCOTT TTTTTT TT HKTSe HHTTPTTTTCT TTC-CTPTTHTT----- T  TTCT ACT-CTCC  MCtCCCPPTCC8CT  C C C0-PT  P-T )C  K-\n"
          ]
        },
        {
          "output_type": "stream",
          "name": "stderr",
          "text": [
            " 80%|████████  | 120/150 [00:35<00:06,  4.90it/s]"
          ]
        },
        {
          "output_type": "stream",
          "name": "stdout",
          "text": [
            "[Epoch 37 | Batch 120/150] Loss: 1.2644 | CharAcc: 0.603 | Batch size: 8 | Seq len: 299\n",
            "  [Sample GT]:   CỔNG CỬ CHÙA 2010 XUÂN NHO NHÂN VẠN ĐẠI BẢO TOÀN ĐẠO CỬA CHÙA ĐỊA LINH THIÊN NIÊN LƯU TÍCH LÒNG NHÂN NGHĨA ĐI MAY TỐT VỀ TÀI LỘC CỦA\n",
            "  [Sample Pred]: CHNG TẦ QHIA Q000 GUÂN MHẬ THÂN VẠI TẠI PIONTOÀN TẠO HOA HÁUN LỨA CI H THIÊN NHÊN HÊƠ TÍCH NÒNG THÂN DGHĨA ĐI TAY NRT ĐÀ HRI ĐỘCHVHA CCC----CT-PCC-Cô4CP  O OôPô ôC --iôPPTôP  CC  TC -4OCUCPC         O  0         C CP OeCCCC4C    ô 3  bPe--ô --   Hô   0C -   C C   B C   - P  --C  C-  C- D---D-4  C\n"
          ]
        },
        {
          "output_type": "stream",
          "name": "stderr",
          "text": [
            " 93%|█████████▎| 140/150 [00:41<00:02,  3.95it/s]"
          ]
        },
        {
          "output_type": "stream",
          "name": "stdout",
          "text": [
            "[Epoch 37 | Batch 140/150] Loss: 1.2875 | CharAcc: 0.611 | Batch size: 8 | Seq len: 157\n",
            "  [Sample GT]:   KHOA XÉT NGHIỆM BÀN HƯỚNG DẪN TRẢ KẾT QUẢ XÉT NGHIỆM 204\n",
            "  [Sample Pred]: CHU  TET NHHIỂM TUN TƯỚCG ĐẪN THẢIKẾT BUY HAT NGHI M T 4      6O04 KC D6600CTCP4D  CCC  C CCP CPCA6 CC  C     D CCD C CC  D CôH D CC CCCDCCCC   sD   4  \n"
          ]
        },
        {
          "output_type": "stream",
          "name": "stderr",
          "text": [
            "100%|██████████| 150/150 [00:44<00:00,  3.37it/s]\n"
          ]
        },
        {
          "output_type": "stream",
          "name": "stdout",
          "text": [
            "\n",
            ">>> Epoch 37 completed. Avg Loss: 1.2381 | Avg CharAcc: 0.6252\n",
            "==> Saved new best model at epoch 37 (loss=1.2381)\n",
            "\n",
            "========== EPOCH 38 ==========\n"
          ]
        },
        {
          "output_type": "stream",
          "name": "stderr",
          "text": [
            "  1%|▏         | 2/150 [00:00<00:29,  5.09it/s]"
          ]
        },
        {
          "output_type": "stream",
          "name": "stdout",
          "text": [
            "[Epoch 38 | Batch 1/150] Loss: 1.1712 | CharAcc: 0.653 | Batch size: 8 | Seq len: 247\n",
            "  [Sample GT]:   NĂM 2018 TRÊN TUYẾN ĐƯỜNG ĐÃ CÓ 8 NGƯỜI CHẾT DO TAI NẠN GIAO THÔNG CHÚ Ý QUAN SÁT ĐOẠN ĐƯỜNG HAY XẢY RA TAI NẠN 59-B1 150 BRO KÊNH 1 7174 51C 147.40 CRO\n",
            "  [Sample Pred]: CHM 2012 1RÊN TUYẾN GƯỜNG TẠ CÁ C BGƯỜICHẾT TOATAI NONHPHAO SHÔNG NHỦND TUẤNHTUO DOẠNHƯỜNG TAN TEY PÁ ĐHI ĐAN Đ9 11 T,0 1RONDÊN  Đ21128 11C 12   0 ĐREM DP PAOô ôAOOA T 0O CO   PôC 0CCC  ô  PP PC P  STôCô      CC   CCeCC  CC  C  C   CỂC0CD H   \n"
          ]
        },
        {
          "output_type": "stream",
          "name": "stderr",
          "text": [
            " 13%|█▎        | 20/150 [00:06<00:54,  2.37it/s]"
          ]
        },
        {
          "output_type": "stream",
          "name": "stdout",
          "text": [
            "[Epoch 38 | Batch 20/150] Loss: 1.2428 | CharAcc: 0.619 | Batch size: 8 | Seq len: 143\n",
            "  [Sample GT]:   THÁNH ĐƯỜNG ĐA MINH BA CHUÔNG 190 LÊ VĂN SỸ P.10 Q. PHÚ NHUẬN ĐT: 8448206\n",
            "  [Sample Pred]: CHAIH MÔỜNG VANPINH CA NHUYNG NA  LÊNLIN LỸ L. 0 P. THÚ NHUẬN ĐT: 00  3099   C0TV0 OUTOTC   C PP P  O C T CCC CC CTC CT U C      0  C0   C     \n"
          ]
        },
        {
          "output_type": "stream",
          "name": "stderr",
          "text": [
            " 27%|██▋       | 40/150 [00:11<00:35,  3.06it/s]"
          ]
        },
        {
          "output_type": "stream",
          "name": "stdout",
          "text": [
            "[Epoch 38 | Batch 40/150] Loss: 1.1399 | CharAcc: 0.653 | Batch size: 8 | Seq len: 189\n",
            "  [Sample GT]:   BVN HA NOI HAI BA TRU CÔNG TY ĐIỆN LỰC HAI BÀ TRƯNG TRẠM BIẾN ÁP LƯƠNG YÊN CC Khi có sự cố xin gọi điện: 024 2222 5225\n",
            "  [Sample Pred]: CáN IA KAI PAN KAKCRƯ BÔNG TR CIỆN TỰC VII TÀNCRẠỜG CRẠM CIẾN MO TÀƠNG BÊN HCC2Ỳu cón2ả cố xin đọi điện: 092 2222 2122  CVP0 C CNPCCCCCCCCCC CCCCCCCCCCCCC4C444C CCCCTT4ôCCCDCOO0CCCCCCCCCCBC\n"
          ]
        },
        {
          "output_type": "stream",
          "name": "stderr",
          "text": [
            " 41%|████      | 61/150 [00:17<00:23,  3.83it/s]"
          ]
        },
        {
          "output_type": "stream",
          "name": "stdout",
          "text": [
            "[Epoch 38 | Batch 60/150] Loss: 1.1977 | CharAcc: 0.614 | Batch size: 8 | Seq len: 231\n",
            "  [Sample GT]:   1022 STA Chào Mừng Năm Mới 2016\n",
            "  [Sample Pred]: K02 02HA :Aàf Sừng Ngn Mớn T01    AHBP0 OOO 0C T  A U  H  CCU60HƠTMCC40C0T!TU4CMC6HPSO T   KCKPC 6OOPCC4C  0C CDC6C6DC  6 4D4C6N 6W4C SCCDCC4D5 44CC4C54O4O444 CKK4T4414DôDU44C4 4U4D44KCDHDHC1ÚHD) 4WHeH44144KC34D HDEH40H444 44P44W\n"
          ]
        },
        {
          "output_type": "stream",
          "name": "stderr",
          "text": [
            " 53%|█████▎    | 80/150 [00:22<00:10,  6.48it/s]"
          ]
        },
        {
          "output_type": "stream",
          "name": "stdout",
          "text": [
            "[Epoch 38 | Batch 80/150] Loss: 1.0843 | CharAcc: 0.666 | Batch size: 8 | Seq len: 185\n",
            "  [Sample GT]:   PHỐ TẠ HIỆN\n",
            "  [Sample Pred]: THÒ LHNHIỂN  TCTH  T     4HH6H4   S44  444C6 U6      C CCC4CHV5444 46444CUC64CHDD44C45 CCCP54CVCCC144C45C 4 64C4CCD4 4 C4M CD4454DDVC4C 46D44441D4 44451CT44D444CC1CV4HVC44C\n"
          ]
        },
        {
          "output_type": "stream",
          "name": "stderr",
          "text": [
            " 67%|██████▋   | 100/150 [00:28<00:17,  2.91it/s]"
          ]
        },
        {
          "output_type": "stream",
          "name": "stdout",
          "text": [
            "[Epoch 38 | Batch 100/150] Loss: 1.1270 | CharAcc: 0.670 | Batch size: 8 | Seq len: 253\n",
            "  [Sample GT]:   CẤM HÚT NO SMOKING THUỐC\n",
            "  [Sample Pred]: CÔM HÚT TO SMOFING AHUỐC  CC A   P OC 4    CCCDCTCP    B 4TC U C01CC4C TC6KC044DDDD446 0     C0C16CHCCCCCCCCCC4 T41CC DCCCCC44C464 C04 64C 44 44444444444   44414400044444641CCC4DDCC4C64C4Ứ144P C4411444444P 144 00D)CC4144CCb4C04C44D4444 44414444-CP4\n"
          ]
        },
        {
          "output_type": "stream",
          "name": "stderr",
          "text": [
            " 80%|████████  | 120/150 [00:35<00:11,  2.73it/s]"
          ]
        },
        {
          "output_type": "stream",
          "name": "stdout",
          "text": [
            "[Epoch 38 | Batch 120/150] Loss: 1.1835 | CharAcc: 0.652 | Batch size: 8 | Seq len: 165\n",
            "  [Sample GT]:   Soda Sinh tố Chè khúc bạch Food\n",
            "  [Sample Pred]: CỞpa Conh Số thẩ Khúc bạc  pooo   ị HTPTDOTOQH Tà N  T ô PCCHDHTT-CGô3PPTCCDG4CDDCD4ôCC4TCCCCeCOCCKP4ẩCCCCCCCCCDCCD4 CC4C4O4C 4BGCMDNCC4tDDD9D 4444C444 444444 444444\n"
          ]
        },
        {
          "output_type": "stream",
          "name": "stderr",
          "text": [
            " 93%|█████████▎| 139/150 [00:40<00:03,  3.35it/s]"
          ]
        },
        {
          "output_type": "stream",
          "name": "stdout",
          "text": [
            "[Epoch 38 | Batch 140/150] Loss: 1.3536 | CharAcc: 0.588 | Batch size: 8 | Seq len: 211\n",
            "  [Sample GT]:   KH . CẮT BÊ TÔNG 0989.156.128\n",
            "  [Sample Pred]: CHUC CẮT BÁ THNG T988.8555056   5 VH4HHHOOOCDCC4CCCCHCHDDCCDCVHD4CCO 00C00CD0 TD)DDD4C01CCHCCCH4DT4CCCCCCC4CC0CCD0CDDDCCCC 4PCP4CCCDCP5DPC4C444CC44404444 44444C04C4464D4C4C4CCCDCC4DDD414CCCCD44044448 D4CC\n"
          ]
        },
        {
          "output_type": "stream",
          "name": "stderr",
          "text": [
            "100%|██████████| 150/150 [00:44<00:00,  3.39it/s]\n"
          ]
        },
        {
          "output_type": "stream",
          "name": "stdout",
          "text": [
            "\n",
            ">>> Epoch 38 completed. Avg Loss: 1.2153 | Avg CharAcc: 0.6299\n",
            "==> Saved new best model at epoch 38 (loss=1.2153)\n",
            "\n",
            "========== EPOCH 39 ==========\n"
          ]
        },
        {
          "output_type": "stream",
          "name": "stderr",
          "text": [
            "  1%|          | 1/150 [00:00<01:32,  1.62it/s]"
          ]
        },
        {
          "output_type": "stream",
          "name": "stdout",
          "text": [
            "[Epoch 39 | Batch 1/150] Loss: 1.3128 | CharAcc: 0.600 | Batch size: 8 | Seq len: 624\n",
            "  [Sample GT]:   GA HAI PHONG Haiphong Station PHÒNG ĐỢI TÀU TRUNG TÂM CENTER WAITING ROOM HARACO ĐƯỜNG SẮT HÀ NỘI * TỪ NGÀY 20/10/2019 CÔNG TY CỔ PHẦN VẬN TẢI ĐƯỜNG SẮT HÀ NỘI TỔ CHỨC BÁN VÉ TÀU TẾT CANH TÝ QUA WEBSITE: www.dsvn.vn; www.vetauonline.vn; www.vetau.com.vn; TẠI CÁC NHÀ GA, CÁC ĐIỂM BÁN VÉ, CÁC ĐẠI LÝ BÁN VÉ TÀU HỎA. * QUÝ KHÁCH CẦN BIẾT THÔNG TIN CHI TIẾT XIN LIÊN HỆ TỔNG ĐÀI CHĂM SÓC KHÁCH HÀNG: 19000109; HOẶC LIÊN HỆ TRỰC TIẾP QUA SỐ ĐIỆN THOẠI: 0225.3921333; 0225.3 920026 NƠI BÁN VÉ HÀNH LÝ, XE ĐẠP, XE MÁY G GIO S KENTH Future KHU VỰC CẤM DỪNG ĐỖ TRƯỜNG ĐẠI HỌC SƯ PHẠM HÀ NỘI DI TICH LỊCH SƯ KHANG CHI N GA HẢI PHÒNG\n",
            "  [Sample Pred]: CI HÀI PHÁNG IỘtoyone Sta ion IrÁNG TỔI TÀI THƯNG THM BHTTERNTASLIOG COOO DANEDO VỘỜNG NỬT HANNGI CĐDH TGÀY M0/19/2/   DẦNG NY NỔ PHẦN MẬT TẢI TÀỜNG TUT TƯNTHI TR TÔUC TẢN TÉ TẤI TỪ  TA G TỪ KUA TEV ÁCO: Đwwwvrsn.vn; Hwwwvntantniiat.ve; wwwwvn.an.vom.vn; ĐHI woC NGÔNG   ĐÁC TI MITINGĐÉ  CÁC ĐÀI ĐÝ CIN ĐÀ THU ĐÔA  G ĐUÝ TH CHUTHN TI T THÔN  T :GNH  T  T TI GTI N ĐỆ THNG TÃI T ÀM NÓN THÀC  TO    T 0000.9; TO CHTÝẾN CỆ TIỰC TR PHTUA TỐITI NGTHÁ O: H6443  2003.. H445.6 V.4000 THN T C NÉ NÀN  TÝ  DE *ỂI  ME TÁY B T   H KEN   Lut re CHỌYTỰC T M TỌN  ĐẠ ĐRƯỜNG ĐON TỌC KƯ TH N H NNGI T  ĐH   HIC ỌDƯUCHUNG CH  V T NTẢI CHÀNG \n"
          ]
        },
        {
          "output_type": "stream",
          "name": "stderr",
          "text": [
            " 13%|█▎        | 20/150 [00:05<00:42,  3.04it/s]"
          ]
        },
        {
          "output_type": "stream",
          "name": "stdout",
          "text": [
            "[Epoch 39 | Batch 20/150] Loss: 0.9802 | CharAcc: 0.706 | Batch size: 8 | Seq len: 163\n",
            "  [Sample GT]:   ĐẠI HỌC ĐÀ NẴNG TRƯỜNG ĐẠI HỌC KINH DANANG UNIVERSITY OF ECONOMICS 71 Ngũ Hành Sơn - TP. Đà Nẵng Tel - 0511.3836169 - Fax: 0511.3836255 Website. www.due.edu.vn TẾ\n",
            "  [Sample Pred]: TƯI HỌC BÀ NGNG KHƯỜNG ĐẠI HỌC NINH DANHNH TNIVERSITY OF ECENTNITE OA Ngũ Hong Nán - Ph. CT Nẵn  -elt- 0510268851096- FAx: 073713658 554Website..ww..duededu.vnTẾ \n"
          ]
        },
        {
          "output_type": "stream",
          "name": "stderr",
          "text": [
            " 27%|██▋       | 40/150 [00:12<00:29,  3.74it/s]"
          ]
        },
        {
          "output_type": "stream",
          "name": "stdout",
          "text": [
            "[Epoch 39 | Batch 40/150] Loss: 1.0425 | CharAcc: 0.679 | Batch size: 8 | Seq len: 150\n",
            "  [Sample GT]:   10 GƯƠNG MẶT TRẺ VIỆT NAM TIÊU BIỂU NĂM 2016\n",
            "  [Sample Pred]: C0 KIỚNG CẶT TRA CIỆT NAM BIÊN TIỂN DĂN N019    H   ÂOƠ4CCS DOO3  O )OOO044C44O04D6 4 Ở   PPC  CC4  C44CCO  4  D444 ) OC4  O 6OB 0 64C C4C4. 4444OC4\n"
          ]
        },
        {
          "output_type": "stream",
          "name": "stderr",
          "text": [
            " 40%|████      | 60/150 [00:17<00:24,  3.66it/s]"
          ]
        },
        {
          "output_type": "stream",
          "name": "stdout",
          "text": [
            "[Epoch 39 | Batch 60/150] Loss: 1.1223 | CharAcc: 0.662 | Batch size: 8 | Seq len: 173\n",
            "  [Sample GT]:   VinPro MỪNG KHAI TRƯƠNG ĐIỆN MÁY VINPRO NGÀY 20/11/2015 TRẢ GÓP 0 % CHO TẤT CẢ ĐIỆN THOẠI TTTM VINCOM CENTER NGUYỄN CHÍ THANH 54A NGUYEN CHI THANH, Q. DONG ĐA ỌC VIỆN PHU N\n",
            "  [Sample Pred]: CIeMranCỪNG KHAI CRUƠNG NIỆN NÁY CINHPO NHÀY N0/10120123THÀ GIP Đ Đ TẢOOTẤT CẢ XCỆN ThOẠI ĐTTM VIỆAHM MENNRR CGOYÊN TÔU NMANH N1A MOUYENTTOI TRANH  NU CONG TA TNOVIỆN NHƯ VG\n"
          ]
        },
        {
          "output_type": "stream",
          "name": "stderr",
          "text": [
            " 53%|█████▎    | 80/150 [00:23<00:22,  3.11it/s]"
          ]
        },
        {
          "output_type": "stream",
          "name": "stdout",
          "text": [
            "[Epoch 39 | Batch 80/150] Loss: 1.1362 | CharAcc: 0.669 | Batch size: 8 | Seq len: 392\n",
            "  [Sample GT]:   CẦU YÊU CẤ CÁC LOẠI XE\n",
            "  [Sample Pred]: CỬU CÊU HẦPGA  LONI XE  HCH ƠCC0  aƠ D    UP D K 4  D D D   D CU  DD.0C6KUC 6C D4DDk4DD   CPP 5  H 4C 4  C PP446DCHD  CC4  P 5D D  DD4 6444  4CC 4C44444 44 D 4  4  C 444CDb D44D H4DD 4HVHH  4 444 44 4    D CD4 D44C44441  4   4 4D 4DD   C  6 4C 48H4   4444C D  44 4 D)   48 D D8 4 4CCCC 4 4444D4   8  444   4C    44 44 4  4           444       4  44  ,DD  H4H4 C )\n"
          ]
        },
        {
          "output_type": "stream",
          "name": "stderr",
          "text": [
            " 67%|██████▋   | 100/150 [00:29<00:11,  4.40it/s]"
          ]
        },
        {
          "output_type": "stream",
          "name": "stdout",
          "text": [
            "[Epoch 39 | Batch 100/150] Loss: 1.2285 | CharAcc: 0.636 | Batch size: 8 | Seq len: 176\n",
            "  [Sample GT]:   XE ÔM\n",
            "  [Sample Pred]: CE XM  H THIHIHHCC DHP HHO HH40HD4S4)  T O   C TTTPCHHDC HCDCT444444C4CKC40444C4 44P DC1C P CPCKKK44 44CC4CP4T C44T4CC PC44P4PNCCC 44KDC4C44C4  P4444444  4C4444H4HC CH444\n"
          ]
        },
        {
          "output_type": "stream",
          "name": "stderr",
          "text": [
            " 81%|████████  | 121/150 [00:36<00:07,  4.13it/s]"
          ]
        },
        {
          "output_type": "stream",
          "name": "stdout",
          "text": [
            "[Epoch 39 | Batch 120/150] Loss: 1.1714 | CharAcc: 0.657 | Batch size: 8 | Seq len: 250\n",
            "  [Sample GT]:   PHƯƠNG NAM Resort\n",
            "  [Sample Pred]: CHÒƠNG NAM BEltr  oCP OOOIOOOOP   eOCPUOTOOPCOD 4 C4U K C P  C4TKO0O 4PKB4TT T TDKD645C TD CCCCKKT T PCC4 CCK T0C4C44CCP4Pa  4àP  CT4PP4KC4C4K4CC44444444444PDC4CC4D44CP4Cô4CCC4Ce4KKCPBUCC44H P44P4C   -4CC4PC44C4444444444444K40K444k444CC444 4CCC\n"
          ]
        },
        {
          "output_type": "stream",
          "name": "stderr",
          "text": [
            " 93%|█████████▎| 140/150 [00:41<00:02,  3.74it/s]"
          ]
        },
        {
          "output_type": "stream",
          "name": "stdout",
          "text": [
            "[Epoch 39 | Batch 140/150] Loss: 1.0386 | CharAcc: 0.685 | Batch size: 8 | Seq len: 251\n",
            "  [Sample GT]:   EVNNPT PTC1 CÔNG TY TRUYỀN TẢI ĐIỆ TRUYỀN TẢI ĐIỆN HÀ NỘI\n",
            "  [Sample Pred]: TXiN T PCC1 PHNG TY TNUNỀN TẢIỆPCỆNTRÁYỀN THI PIỆN TO NHI  CCTICCITCT TCCTPTCTCTPTTTCTC  P CCCCC TCCCiCCCTCCCCCCCCCCCTCCCCCC  O0PC TCCTTCCCCCCOCCPCC OC04CC446CCCCCC T44DOCPTCCCCCCPCCCCCCOPCBCC CPCCCCeTCTCCT-C0CCCC0 CPC6C44CCCCC4COTe0CCSCCKCDTe040C-C \n"
          ]
        },
        {
          "output_type": "stream",
          "name": "stderr",
          "text": [
            "100%|██████████| 150/150 [00:44<00:00,  3.41it/s]\n"
          ]
        },
        {
          "output_type": "stream",
          "name": "stdout",
          "text": [
            "\n",
            ">>> Epoch 39 completed. Avg Loss: 1.1904 | Avg CharAcc: 0.6386\n",
            "==> Saved new best model at epoch 39 (loss=1.1904)\n",
            "\n",
            "========== EPOCH 40 ==========\n"
          ]
        },
        {
          "output_type": "stream",
          "name": "stderr",
          "text": [
            "  1%|          | 1/150 [00:00<01:26,  1.73it/s]"
          ]
        },
        {
          "output_type": "stream",
          "name": "stdout",
          "text": [
            "[Epoch 40 | Batch 1/150] Loss: 1.0975 | CharAcc: 0.673 | Batch size: 8 | Seq len: 302\n",
            "  [Sample GT]:   LỐI ĐI THANG BỘ E\n",
            "  [Sample Pred]: CỐI TIỆLHONH BỘ HN 0HC3   OHC  0 S PP D  T    CCC   T  CCCC  P044T CTKCCCCCTCCSDCC4CCC CCCCCPCCCC  CPC CCCCC C OCCCCCCPCCCC CC CM6DCCCPMCS CCC4CCCCK4C4  4  44CK C CCTCC CC4OC CCCCC4SCCC4SPCPPSC PDC1CCC CCS CCC4D44C4C4E  PCP 4PCP 444CC 44CC100S0C 4  4 44   KS S4S  CC 4M4 C  4C44CCC \n"
          ]
        },
        {
          "output_type": "stream",
          "name": "stderr",
          "text": [
            " 13%|█▎        | 20/150 [00:06<00:37,  3.46it/s]"
          ]
        },
        {
          "output_type": "stream",
          "name": "stdout",
          "text": [
            "[Epoch 40 | Batch 20/150] Loss: 1.1137 | CharAcc: 0.647 | Batch size: 8 | Seq len: 194\n",
            "  [Sample GT]:   10 GƯƠNG MẶT TRẺ VIỆT NAM TIÊU BIỂU NĂM 2016\n",
            "  [Sample Pred]: C00G ƠN  CẶT TuẺ BIỆT NAM CIỆU CIAU MHM D0192  HT  0  H -  C HC00TC TTPPCOO TCCPCPPPPV4PPC PC PCCTOCCCCC40CCCPT C4P4 C4C4C 0 6P M,PCSD0PCP S0CCCPCOO4 44C444P4T0 4C PDẤ C444C CCCCCCCCC4O4CHPHC\n"
          ]
        },
        {
          "output_type": "stream",
          "name": "stderr",
          "text": [
            " 27%|██▋       | 40/150 [00:11<00:32,  3.43it/s]"
          ]
        },
        {
          "output_type": "stream",
          "name": "stdout",
          "text": [
            "[Epoch 40 | Batch 40/150] Loss: 1.0518 | CharAcc: 0.677 | Batch size: 8 | Seq len: 260\n",
            "  [Sample GT]:   QUẦY THUỐC TÂY + + BẢO TRÂN PHẠM VI KINH DOANH: BÁN LẺ THUỐC THÀNH PHẨM DSTH: TRẦN THỊ NGHĨA GIẤY CHỨNG NHẬN SỐ: 412/VL ĐKKDD ĐC: 35A QUỐC LỘ 57 ẤP THANH MỸ THANH ĐỨC- L.HỒ- VĨNH LONG- ĐT: 0939.789 669 1- XÃ\n",
            "  [Sample Pred]: CUÁY vHUỐC TÂY B B BÁN DRÂNGTHÙM 2ÀNTMNH DOANH  1ÁN MẺ HẠÍYC TRÁNGACHÁM SUT   THƯN THÁ IGHIANNIẤY VHỨNG MHĨN TỬ: 01932À ĐTKK:DLC: 65A LUAC ĐON64 HP HHÁNH MÔ THAOH LỨC  L. Ồ- ĐĨNG LONG  ĐT: 013 38091669 01 CÃA33T -C6T TT i3 TT  T1TT 0TT TTT   ,   T     ,,   \n"
          ]
        },
        {
          "output_type": "stream",
          "name": "stderr",
          "text": [
            " 41%|████      | 61/150 [00:18<00:20,  4.43it/s]"
          ]
        },
        {
          "output_type": "stream",
          "name": "stdout",
          "text": [
            "[Epoch 40 | Batch 60/150] Loss: 1.1785 | CharAcc: 0.629 | Batch size: 8 | Seq len: 166\n",
            "  [Sample GT]:   BIA SÀI GÒN 158A ĐƯỜNG 8/3 - P5 - TPVL QUÁN ĂN SÂN VƯỜN Tân Cây Nhãn ĐT: 0944108575 - 0932952732\n",
            "  [Sample Pred]: CỘD NÀI TÒN G2  KÓỜNG Y03 - P5 - TPVL ĐUAN (N SỐN VƯỜN -ân Nây Đhã  ĐT: 097.41212820 09343125  5  V HPPTP TPPC   PCTP  PPTP PTPCSP4PC  P T4PC PP4P4PP4C 4444P4P4CT4T\n"
          ]
        },
        {
          "output_type": "stream",
          "name": "stderr",
          "text": [
            " 53%|█████▎    | 80/150 [00:23<00:13,  5.13it/s]"
          ]
        },
        {
          "output_type": "stream",
          "name": "stdout",
          "text": [
            "[Epoch 40 | Batch 80/150] Loss: 1.0928 | CharAcc: 0.675 | Batch size: 8 | Seq len: 94\n",
            "  [Sample GT]:   Kết nối nguồn lực, hiện thực ước mơ.\n",
            "  [Sample Pred]: THt nối thuồn tực  ciện thực ước mơ.m  COODQCƠ6 CTS S X)CCC006CC044DP4P40M CTDD)PPN4CCC  CUC\n"
          ]
        },
        {
          "output_type": "stream",
          "name": "stderr",
          "text": [
            " 67%|██████▋   | 100/150 [00:30<00:15,  3.29it/s]"
          ]
        },
        {
          "output_type": "stream",
          "name": "stdout",
          "text": [
            "[Epoch 40 | Batch 100/150] Loss: 1.0481 | CharAcc: 0.682 | Batch size: 8 | Seq len: 267\n",
            "  [Sample GT]:   * 098 # Bấm miễn phí Rẻ như ý 18008098 VIETTEL RỬA XE BƠM HƠI THAY NHỚT\n",
            "  [Sample Pred]: C 197 C Y m Bắễn phậnp  nhú ý m100 008 3SETNER HỬA XE VƠM CƠI THAY GHẤT    CCHHCMMTDCTHPH  TCP   PTPPCCTC CCC    PC  C  C4C   P 0 C4-PPCCCDDCCCOCC4CC4O4M4  4D44B4CT4C4MCC4CPCVC4CDCHTC CC444HCCCH4CSC4CCCC  M49M    PC4C444C4CC4C44 TDTTP4C444D44 4MD-4O0DCCH4 4H44C C4\n"
          ]
        },
        {
          "output_type": "stream",
          "name": "stderr",
          "text": [
            " 80%|████████  | 120/150 [00:36<00:09,  3.20it/s]"
          ]
        },
        {
          "output_type": "stream",
          "name": "stdout",
          "text": [
            "[Epoch 40 | Batch 120/150] Loss: 1.2368 | CharAcc: 0.623 | Batch size: 8 | Seq len: 201\n",
            "  [Sample GT]:   PHÓ BÍ THƯ THƯỜNG TRỰC HUYỆN UỶ\n",
            "  [Sample Pred]: CHỞ B  THẨỜHHƯỜNG BHUC BUYÊN TỶ  COOCCO  O CCCCCC T A 4  SCCC4U644C CCTCCCC CCTCMTCOTọTCC  C CCCC4 CCCCCC CCMCSC CC  C CCCCO4    CP  6S4CTC 4CC6CCDOC44C 44444K40 0CC C 44CCC  4CCCC4 CSCCCTOC CMCC  \n"
          ]
        },
        {
          "output_type": "stream",
          "name": "stderr",
          "text": [
            " 93%|█████████▎| 140/150 [00:42<00:02,  3.41it/s]"
          ]
        },
        {
          "output_type": "stream",
          "name": "stdout",
          "text": [
            "[Epoch 40 | Batch 140/150] Loss: 1.2887 | CharAcc: 0.606 | Batch size: 8 | Seq len: 234\n",
            "  [Sample GT]:   AVIVA LỄ KHAI TRƯƠNG VĂN PHÒNG KINH DOANH AVIVA VIỆT NAM Đồng Thap1, ngày 1 /2019 VẠN SỰ NHƯ Ý KHAI TRƯƠNG HỒNG MÃ ĐÁO THÀNH CÔNG\n",
            "  [Sample Pred]: CNI A VỄ KHÁI TRƯƠNG BÕN KHÍNG VIỆH KAAN  NNI A PIỆT LAM VI g Chịn1, tgày 1 k1019 NyN BÚ LăƯ Ý KHÁN TRƯƠNG HỒNG KỸ HẠO HẠÀNH ChNG  NNCN 6N NC6)CỞƠ) C  Ở  4DB4OS4K K 0C NÔ  C4DC  Ú CCCC  ƠCAỞƠ  C0M4DPC44 S4 C     C) 44 C 0D4CC)K C    \n"
          ]
        },
        {
          "output_type": "stream",
          "name": "stderr",
          "text": [
            "100%|██████████| 150/150 [00:44<00:00,  3.37it/s]\n"
          ]
        },
        {
          "output_type": "stream",
          "name": "stdout",
          "text": [
            "\n",
            ">>> Epoch 40 completed. Avg Loss: 1.1624 | Avg CharAcc: 0.6435\n",
            "==> Saved new best model at epoch 40 (loss=1.1624)\n",
            "Huấn luyện hoàn tất. Model tốt nhất đã được lưu tại: best_ocr_model.pth\n"
          ]
        }
      ]
    }
  ]
}